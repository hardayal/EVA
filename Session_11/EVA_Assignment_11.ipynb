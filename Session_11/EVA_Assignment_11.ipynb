{
  "nbformat": 4,
  "nbformat_minor": 0,
  "metadata": {
    "colab": {
      "name": "EVA_Assignment_11.ipynb",
      "provenance": [],
      "collapsed_sections": []
    },
    "kernelspec": {
      "name": "python3",
      "display_name": "Python 3"
    },
    "accelerator": "GPU"
  },
  "cells": [
    {
      "cell_type": "markdown",
      "metadata": {
        "id": "n-hmoSugXZTW",
        "colab_type": "text"
      },
      "source": [
        "<a href=\"https://colab.research.google.com/github/hardayal/EVA/blob/master/Session_11/EVA_Assignment_11.ipynb\" target=\"_parent\"><img src=\"https://colab.research.google.com/assets/colab-badge.svg\" alt=\"Open In Colab\"></a>\n",
        "\n",
        "### Assignment 11:\n",
        "*   Cutout added\n",
        "*   Using LR Finder to find the best starting learning rate.\n",
        "*   Training for 100 epochs\n",
        "*   List item\n",
        "*   Verbose = 0 (no logs) in the final model run.\n",
        "*   Saving the top accuracy\n",
        "*   Showing Training and Test Accuracy curves\n",
        "*   Runing GradCAM on the any 25 misclassified images."
      ]
    },
    {
      "cell_type": "code",
      "metadata": {
        "id": "KkwXnw9OfHZl",
        "colab_type": "code",
        "outputId": "874d99f4-edc2-4853-89dc-f1ba74ad9410",
        "colab": {
          "base_uri": "https://localhost:8080/",
          "height": 34
        }
      },
      "source": [
        "from keras import backend as K\n",
        "import time\n",
        "import matplotlib.pyplot as plt\n",
        "import numpy as np\n",
        "% matplotlib inline\n",
        "np.random.seed(2017) \n",
        "import keras.models\n",
        "from keras import regularizers\n",
        "from keras.models import Sequential\n",
        "from keras.layers.convolutional import Convolution2D, MaxPooling2D,AveragePooling2D\n",
        "from keras.layers import Activation, Flatten, Dense, Dropout\n",
        "from keras.layers.normalization import BatchNormalization\n",
        "from keras.utils import np_utils\n",
        "from keras.preprocessing.image import ImageDataGenerator"
      ],
      "execution_count": 0,
      "outputs": [
        {
          "output_type": "stream",
          "text": [
            "Using TensorFlow backend.\n"
          ],
          "name": "stderr"
        }
      ]
    },
    {
      "cell_type": "code",
      "metadata": {
        "id": "XSkMxJGwf5gS",
        "colab_type": "code",
        "outputId": "df802488-ae24-4e30-f550-61692992797d",
        "colab": {
          "base_uri": "https://localhost:8080/",
          "height": 122
        }
      },
      "source": [
        "from google.colab import drive\n",
        "drive.mount('../content/drive/', force_remount=True)"
      ],
      "execution_count": 0,
      "outputs": [
        {
          "output_type": "stream",
          "text": [
            "Go to this URL in a browser: https://accounts.google.com/o/oauth2/auth?client_id=947318989803-6bn6qk8qdgf4n4g3pfee6491hc0brc4i.apps.googleusercontent.com&redirect_uri=urn%3Aietf%3Awg%3Aoauth%3A2.0%3Aoob&scope=email%20https%3A%2F%2Fwww.googleapis.com%2Fauth%2Fdocs.test%20https%3A%2F%2Fwww.googleapis.com%2Fauth%2Fdrive%20https%3A%2F%2Fwww.googleapis.com%2Fauth%2Fdrive.photos.readonly%20https%3A%2F%2Fwww.googleapis.com%2Fauth%2Fpeopleapi.readonly&response_type=code\n",
            "\n",
            "Enter your authorization code:\n",
            "··········\n",
            "Mounted at ../content/drive/\n"
          ],
          "name": "stdout"
        }
      ]
    },
    {
      "cell_type": "code",
      "metadata": {
        "id": "NHpnoCHZfO8g",
        "colab_type": "code",
        "outputId": "e077dc0b-e6d3-4715-dbe9-0abc9e5cf090",
        "colab": {
          "base_uri": "https://localhost:8080/",
          "height": 51
        }
      },
      "source": [
        "from keras.datasets import cifar10\n",
        "(train_features, train_labels), (test_features, test_labels) = cifar10.load_data()\n",
        "num_train, img_rows, img_cols,img_channels =  train_features.shape\n",
        "num_test, _, _, _ =  test_features.shape\n",
        "num_classes = len(np.unique(train_labels))"
      ],
      "execution_count": 0,
      "outputs": [
        {
          "output_type": "stream",
          "text": [
            "Downloading data from https://www.cs.toronto.edu/~kriz/cifar-10-python.tar.gz\n",
            "170500096/170498071 [==============================] - 2s 0us/step\n"
          ],
          "name": "stdout"
        }
      ]
    },
    {
      "cell_type": "code",
      "metadata": {
        "id": "2R9KHV8A19cw",
        "colab_type": "code",
        "outputId": "602b7ed7-6013-4a81-90f0-397301fabec1",
        "colab": {
          "base_uri": "https://localhost:8080/",
          "height": 68
        }
      },
      "source": [
        "print (num_classes)\n",
        "print (num_train)\n",
        "print (train_features.shape)"
      ],
      "execution_count": 0,
      "outputs": [
        {
          "output_type": "stream",
          "text": [
            "10\n",
            "50000\n",
            "(50000, 32, 32, 3)\n"
          ],
          "name": "stdout"
        }
      ]
    },
    {
      "cell_type": "code",
      "metadata": {
        "id": "14HyBUXdfS6G",
        "colab_type": "code",
        "outputId": "5a05c98c-b2f6-45e8-b416-454852af4b91",
        "colab": {
          "base_uri": "https://localhost:8080/",
          "height": 213
        }
      },
      "source": [
        "class_names = ['airplane','automobile','bird','cat','deer', 'dog','frog','horse','ship','truck']\n",
        "fig = plt.figure(figsize=(8,3))\n",
        "for i in range(num_classes):\n",
        "    ax = fig.add_subplot(2, 5, 1 + i, xticks=[], yticks=[])\n",
        "    idx = np.where(train_labels[:]==i)[0]\n",
        "    features_idx = train_features[idx,::]\n",
        "    img_num = np.random.randint(features_idx.shape[0])\n",
        "    im = features_idx[img_num]\n",
        "    ax.set_title(class_names[i])\n",
        "    plt.imshow(im)\n",
        "plt.show()"
      ],
      "execution_count": 0,
      "outputs": [
        {
          "output_type": "display_data",
          "data": {
            "image/png": "[encoded data removed]",
            "text/plain": [
              "<Figure size 576x216 with 10 Axes>"
            ]
          },
          "metadata": {
            "tags": []
          }
        }
      ]
    },
    {
      "cell_type": "code",
      "metadata": {
        "id": "bmfsk76-fadV",
        "colab_type": "code",
        "colab": {}
      },
      "source": [
        "def plot_model_history(model_history):\n",
        "    fig, axs = plt.subplots(1,2,figsize=(15,5))\n",
        "    # summarize history for accuracy\n",
        "    axs[0].plot(range(1,len(model_history.history['acc'])+1),model_history.history['acc'])\n",
        "    axs[0].plot(range(1,len(model_history.history['val_acc'])+1),model_history.history['val_acc'])\n",
        "    axs[0].set_title('Model Accuracy')\n",
        "    axs[0].set_ylabel('Accuracy')\n",
        "    axs[0].set_xlabel('Epoch')\n",
        "    axs[0].set_xticks(np.arange(1,len(model_history.history['acc'])+1),len(model_history.history['acc'])/10)\n",
        "    axs[0].legend(['train', 'val'], loc='best')\n",
        "    # summarize history for loss\n",
        "    axs[1].plot(range(1,len(model_history.history['loss'])+1),model_history.history['loss'])\n",
        "    axs[1].plot(range(1,len(model_history.history['val_loss'])+1),model_history.history['val_loss'])\n",
        "    axs[1].set_title('Model Loss')\n",
        "    axs[1].set_ylabel('Loss')\n",
        "    axs[1].set_xlabel('Epoch')\n",
        "    axs[1].set_xticks(np.arange(1,len(model_history.history['loss'])+1),len(model_history.history['loss'])/10)\n",
        "    axs[1].legend(['train', 'val'], loc='best')\n",
        "    plt.show()"
      ],
      "execution_count": 0,
      "outputs": []
    },
    {
      "cell_type": "code",
      "metadata": {
        "id": "YJMT4rjgfdZz",
        "colab_type": "code",
        "colab": {}
      },
      "source": [
        "def accuracy(test_x, test_y, model):\n",
        "    result = model.predict(test_x)\n",
        "    predicted_class = np.argmax(result, axis=1)\n",
        "    true_class = np.argmax(test_y, axis=1)\n",
        "    num_correct = np.sum(predicted_class == true_class) \n",
        "    accuracy = float(num_correct)/result.shape[0]\n",
        "    return (accuracy * 100)"
      ],
      "execution_count": 0,
      "outputs": []
    },
    {
      "cell_type": "code",
      "metadata": {
        "id": "T5c5nDvxm6zR",
        "colab_type": "code",
        "colab": {}
      },
      "source": [
        "train_features = train_features.astype('float32')/255\n",
        "test_features = test_features.astype('float32')/255\n",
        "# convert class labels to binary class labels\n",
        "train_labels = np_utils.to_categorical(train_labels, num_classes)\n",
        "test_labels = np_utils.to_categorical(test_labels, num_classes)"
      ],
      "execution_count": 0,
      "outputs": []
    },
    {
      "cell_type": "code",
      "metadata": {
        "id": "e5U2c0unqgdP",
        "colab_type": "code",
        "outputId": "5db937cc-bf52-46f3-d50a-ed52ecb88939",
        "colab": {
          "base_uri": "https://localhost:8080/",
          "height": 68
        }
      },
      "source": [
        "# load dataset\n",
        "(trainX, trainy), (testX, testy) = cifar10.load_data()\n",
        "\n",
        "\n",
        "print('Statistics train=%.3f (%.3f), test=%.3f (%.3f)' % (trainX.mean(), trainX.std(), testX.mean(), testX.std()))\n",
        "\n",
        "# create generator that centers pixel values\n",
        "datagen = ImageDataGenerator(featurewise_center=True, featurewise_std_normalization=True)\n",
        "\n",
        "# calculate the mean on the training dataset\n",
        "datagen.fit(trainX)\n",
        "#print('Data Generator mean=%.3f, std=%.3f' % (datagen.mean, datagen.std))\n",
        "\n",
        "# demonstrate effect on a single batch of samples\n",
        "iterator = datagen.flow(trainX, trainy, batch_size=128)\n",
        "\n",
        "# get a batch\n",
        "batchX, batchy = iterator.next()\n",
        "\n",
        "# pixel stats in the batch\n",
        "print(batchX.shape, batchX.mean(), batchX.std())\n",
        "\n",
        "# demonstrate effect on entire training dataset\n",
        "iterator = datagen.flow(trainX, trainy, batch_size=len(trainX), shuffle=False)\n",
        "\n",
        "# get a batch\n",
        "batchX, batchy = iterator.next()\n",
        "\n",
        "# pixel stats in the batch\n",
        "print(batchX.shape, batchX.mean(), batchX.std())"
      ],
      "execution_count": 0,
      "outputs": [
        {
          "output_type": "stream",
          "text": [
            "Statistics train=120.708 (64.150), test=121.529 (64.061)\n",
            "(128, 32, 32, 3) 0.01989002 1.0052702\n",
            "(50000, 32, 32, 3) -1.6605131e-06 1.0000001\n"
          ],
          "name": "stdout"
        }
      ]
    },
    {
      "cell_type": "code",
      "metadata": {
        "id": "D-eJt3EDq1g5",
        "colab_type": "code",
        "colab": {}
      },
      "source": [
        "iterator1 = datagen.flow(testX, testy, batch_size=len(testX), shuffle=False)\n",
        "batch_testX, batch_testy = iterator1.next()\n",
        "\n",
        "X_train = batchX\n",
        "X_test = batch_testX\n",
        "\n",
        "y_train=batchy\n",
        "y_test=batch_testy\n",
        "                        "
      ],
      "execution_count": 0,
      "outputs": []
    },
    {
      "cell_type": "code",
      "metadata": {
        "id": "av2re-bNrBnY",
        "colab_type": "code",
        "colab": {}
      },
      "source": [
        "# Convert 1-dimensional class arrays to 10-dimensional class matrices\n",
        "Y_train = np_utils.to_categorical(y_train, 10)\n",
        "Y_test = np_utils.to_categorical(y_test, 10)"
      ],
      "execution_count": 0,
      "outputs": []
    },
    {
      "cell_type": "markdown",
      "metadata": {
        "id": "YsF-R3nw74lq",
        "colab_type": "text"
      },
      "source": [
        "### Learning Rate finder class"
      ]
    },
    {
      "cell_type": "code",
      "metadata": {
        "id": "B_sxHwcM77CT",
        "colab_type": "code",
        "colab": {}
      },
      "source": [
        "from matplotlib import pyplot as plt\n",
        "import math\n",
        "from keras.callbacks import LambdaCallback\n",
        "import keras.backend as K\n",
        "\n",
        "\n",
        "class LRFinder:\n",
        "    \"\"\"\n",
        "    Plots the change of the loss function of a Keras model when the learning rate is exponentially increasing.\n",
        "    See for details:\n",
        "    https://towardsdatascience.com/estimating-optimal-learning-rate-for-a-deep-neural-network-ce32f2556ce0\n",
        "    \"\"\"\n",
        "    def __init__(self, model):\n",
        "        self.model = model\n",
        "        self.losses = []\n",
        "        self.lrs = []\n",
        "        self.best_loss = 1e9\n",
        "\n",
        "    def on_batch_end(self, batch, logs):\n",
        "        # Log the learning rate\n",
        "        lr = K.get_value(self.model.optimizer.lr)\n",
        "        self.lrs.append(lr)\n",
        "\n",
        "        # Log the loss\n",
        "        loss = logs['loss']\n",
        "        self.losses.append(loss)\n",
        "\n",
        "        # Check whether the loss got too large or NaN\n",
        "        if math.isnan(loss) or loss > self.best_loss * 4:\n",
        "            self.model.stop_training = True\n",
        "            return\n",
        "\n",
        "        if loss < self.best_loss:\n",
        "            self.best_loss = loss\n",
        "\n",
        "        # Increase the learning rate for the next batch\n",
        "        lr *= self.lr_mult\n",
        "        K.set_value(self.model.optimizer.lr, lr)\n",
        "\n",
        "    def find(self, x_train, y_train, start_lr, end_lr, batch_size=64, epochs=1):\n",
        "        num_batches = epochs * x_train.shape[0] / batch_size\n",
        "        self.lr_mult = (float(end_lr) / float(start_lr)) ** (float(1) / float(num_batches))\n",
        "\n",
        "        # Save weights into a file\n",
        "        self.model.save_weights('tmp.h5')\n",
        "\n",
        "        # Remember the original learning rate\n",
        "        original_lr = K.get_value(self.model.optimizer.lr)\n",
        "\n",
        "        # Set the initial learning rate\n",
        "        K.set_value(self.model.optimizer.lr, start_lr)\n",
        "\n",
        "        callback = LambdaCallback(on_batch_end=lambda batch, logs: self.on_batch_end(batch, logs))\n",
        "\n",
        "        self.model.fit(x_train, y_train,\n",
        "                        batch_size=batch_size, epochs=epochs,\n",
        "                        callbacks=[callback])\n",
        "\n",
        "        # Restore the weights to the state before model fitting\n",
        "        self.model.load_weights('tmp.h5')\n",
        "\n",
        "        # Restore the original learning rate\n",
        "        K.set_value(self.model.optimizer.lr, original_lr)\n",
        "\n",
        "    def find_generator(self, generator, start_lr, end_lr, epochs=1, steps_per_epoch=None, **kw_fit):\n",
        "            if steps_per_epoch is None:\n",
        "                try:\n",
        "                    steps_per_epoch = len(generator)\n",
        "                except (ValueError, NotImplementedError) as e:\n",
        "                    raise e('`steps_per_epoch=None` is only valid for a'\n",
        "                            ' generator based on the '\n",
        "                            '`keras.utils.Sequence`'\n",
        "                            ' class. Please specify `steps_per_epoch` '\n",
        "                            'or use the `keras.utils.Sequence` class.')\n",
        "            self.lr_mult = (float(end_lr) / float(start_lr)) ** (float(1) / float(steps_per_epoch))\n",
        "\n",
        "            # Save weights into a file\n",
        "            self.model.save_weights('tmp.h5')\n",
        "\n",
        "            # Remember the original learning rate\n",
        "            original_lr = K.get_value(self.model.optimizer.lr)\n",
        "\n",
        "            # Set the initial learning rate\n",
        "            K.set_value(self.model.optimizer.lr, start_lr)\n",
        "\n",
        "            callback = LambdaCallback(on_batch_end=lambda batch,\n",
        "                                      logs: self.on_batch_end(batch, logs))\n",
        "\n",
        "            self.model.fit_generator(generator=generator,\n",
        "                                     epochs=epochs,\n",
        "                                     steps_per_epoch=steps_per_epoch,\n",
        "                                     callbacks=[callback],\n",
        "                                     **kw_fit)\n",
        "\n",
        "            # Restore the weights to the state before model fitting\n",
        "            self.model.load_weights('tmp.h5')\n",
        "\n",
        "            # Restore the original learning rate\n",
        "            K.set_value(self.model.optimizer.lr, original_lr)\n",
        "\n",
        "    def plot_loss(self, n_skip_beginning=10, n_skip_end=5):\n",
        "        \"\"\"\n",
        "        Plots the loss.\n",
        "        Parameters:\n",
        "            n_skip_beginning - number of batches to skip on the left.\n",
        "            n_skip_end - number of batches to skip on the right.\n",
        "        \"\"\"\n",
        "        plt.ylabel(\"loss\")\n",
        "        plt.xlabel(\"learning rate (log scale)\")\n",
        "        plt.plot(self.lrs[n_skip_beginning:-n_skip_end], self.losses[n_skip_beginning:-n_skip_end])\n",
        "        plt.xscale('log')\n",
        "\n",
        "    def plot_loss_change(self, sma=1, n_skip_beginning=10, n_skip_end=5, y_lim=(-0.01, 0.01)):\n",
        "        \"\"\"\n",
        "        Plots rate of change of the loss function.\n",
        "        Parameters:\n",
        "            sma - number of batches for simple moving average to smooth out the curve.\n",
        "            n_skip_beginning - number of batches to skip on the left.\n",
        "            n_skip_end - number of batches to skip on the right.\n",
        "            y_lim - limits for the y axis.\n",
        "        \"\"\"\n",
        "        assert sma >= 1\n",
        "        derivatives = [0] * sma\n",
        "        for i in range(sma, len(self.lrs)):\n",
        "            derivative = (self.losses[i] - self.losses[i - sma]) / sma\n",
        "            derivatives.append(derivative)\n",
        "\n",
        "        plt.ylabel(\"rate of loss change\")\n",
        "        plt.xlabel(\"learning rate (log scale)\")\n",
        "        plt.plot(self.lrs[n_skip_beginning:-n_skip_end], derivatives[n_skip_beginning:-n_skip_end])\n",
        "        plt.xscale('log')\n",
        "        plt.ylim(y_lim)"
      ],
      "execution_count": 0,
      "outputs": []
    },
    {
      "cell_type": "markdown",
      "metadata": {
        "id": "WxwsDYbS7oeG",
        "colab_type": "text"
      },
      "source": [
        "### Random cutout logic"
      ]
    },
    {
      "cell_type": "code",
      "metadata": {
        "id": "znwyqlzEHWwD",
        "colab_type": "code",
        "colab": {}
      },
      "source": [
        "def get_random_eraser(p=0.5, s_l=0.02, s_h=0.4, r_1=0.3, r_2=1/0.3, v_l=0, v_h=255, pixel_level=False):\n",
        "    def eraser(input_img):\n",
        "        img_h, img_w, img_c = input_img.shape\n",
        "        p_1 = np.random.rand()\n",
        "\n",
        "        if p_1 > p:\n",
        "            return input_img\n",
        "\n",
        "        while True:\n",
        "            s = np.random.uniform(s_l, s_h) * img_h * img_w\n",
        "            r = np.random.uniform(r_1, r_2)\n",
        "            w = int(np.sqrt(s / r))\n",
        "            h = int(np.sqrt(s * r))\n",
        "            left = np.random.randint(0, img_w)\n",
        "            top = np.random.randint(0, img_h)\n",
        "\n",
        "            if left + w <= img_w and top + h <= img_h:\n",
        "                break\n",
        "\n",
        "        if pixel_level:\n",
        "            c = np.random.uniform(v_l, v_h, (h, w, img_c))\n",
        "        else:\n",
        "            c = np.random.uniform(v_l, v_h)\n",
        "\n",
        "        input_img[top:top + h, left:left + w, :] = c\n",
        "\n",
        "        return input_img\n",
        "\n",
        "    return eraser"
      ],
      "execution_count": 0,
      "outputs": []
    },
    {
      "cell_type": "code",
      "metadata": {
        "id": "SCRQ06Fj8Epc",
        "colab_type": "code",
        "outputId": "133fffcd-6bb7-4b87-be46-acf4155f47e2",
        "colab": {
          "base_uri": "https://localhost:8080/",
          "height": 598
        }
      },
      "source": [
        "# Define the model\n",
        "model = Sequential()\n",
        "model.add(Convolution2D(32, 3, 3, border_mode='same',kernel_regularizer=regularizers.l2(0.0001), input_shape=(32, 32, 3)))\n",
        "model.add(Activation('relu'))\n",
        "model.add(BatchNormalization())\n",
        "\n",
        "model.add(Convolution2D(64, 3, 3,kernel_regularizer=regularizers.l2(0.0001),border_mode='same'))\n",
        "model.add(Activation('relu'))\n",
        "model.add(BatchNormalization())\n",
        "\n",
        "model.add(MaxPooling2D(pool_size=(2, 2)))\n",
        "model.add(Dropout(0.2))\n",
        "model.add(Convolution2D(32, 1, 1))\n",
        "\n",
        "\n",
        "model.add(Convolution2D(64, 3, 3,kernel_regularizer=regularizers.l2(0.0001),border_mode='same'))\n",
        "model.add(Activation('relu'))\n",
        "model.add(BatchNormalization())\n",
        "\n",
        "model.add(Convolution2D(128, 3, 3,kernel_regularizer=regularizers.l2(0.0001),border_mode='same'))\n",
        "model.add(Activation('relu'))\n",
        "model.add(BatchNormalization())\n",
        "\n",
        "model.add(MaxPooling2D(pool_size=(2, 2)))\n",
        "model.add(Dropout(0.3))\n",
        "model.add(Convolution2D(32, 1, 1))\n",
        "\n",
        "\n",
        "model.add(Convolution2D(128, 3, 3,kernel_regularizer=regularizers.l2(0.0001), border_mode='same'))\n",
        "model.add(Activation('relu'))\n",
        "model.add(BatchNormalization())\n",
        "\n",
        "model.add(Convolution2D(256, 3, 3,kernel_regularizer=regularizers.l2(0.0001), border_mode='same', name=\"Grad_CAM\"))\n",
        "model.add(Activation('relu'))\n",
        "model.add(BatchNormalization())\n",
        "\n",
        "model.add(MaxPooling2D(pool_size=(2, 2)))\n",
        "model.add(Dropout(0.5))\n",
        "model.add(Convolution2D(10, 1, 1))\n",
        "\n",
        "model.add(AveragePooling2D(pool_size = (4,4)))\n",
        "model.add(Flatten())\n",
        "model.add(Activation('softmax'))\n"
      ],
      "execution_count": 0,
      "outputs": [
        {
          "output_type": "stream",
          "text": [
            "WARNING: Logging before flag parsing goes to stderr.\n",
            "W0809 13:43:50.489551 140329530910592 deprecation_wrapper.py:119] From /usr/local/lib/python3.6/dist-packages/keras/backend/tensorflow_backend.py:74: The name tf.get_default_graph is deprecated. Please use tf.compat.v1.get_default_graph instead.\n",
            "\n",
            "/usr/local/lib/python3.6/dist-packages/ipykernel_launcher.py:2: UserWarning: Update your `Conv2D` call to the Keras 2 API: `Conv2D(32, (3, 3), kernel_regularizer=<keras.reg..., input_shape=(32, 32, 3..., padding=\"same\")`\n",
            "  \n",
            "W0809 13:43:50.533368 140329530910592 deprecation_wrapper.py:119] From /usr/local/lib/python3.6/dist-packages/keras/backend/tensorflow_backend.py:517: The name tf.placeholder is deprecated. Please use tf.compat.v1.placeholder instead.\n",
            "\n",
            "W0809 13:43:50.539857 140329530910592 deprecation_wrapper.py:119] From /usr/local/lib/python3.6/dist-packages/keras/backend/tensorflow_backend.py:4138: The name tf.random_uniform is deprecated. Please use tf.random.uniform instead.\n",
            "\n",
            "W0809 13:43:50.590725 140329530910592 deprecation_wrapper.py:119] From /usr/local/lib/python3.6/dist-packages/keras/backend/tensorflow_backend.py:174: The name tf.get_default_session is deprecated. Please use tf.compat.v1.get_default_session instead.\n",
            "\n",
            "W0809 13:43:50.591726 140329530910592 deprecation_wrapper.py:119] From /usr/local/lib/python3.6/dist-packages/keras/backend/tensorflow_backend.py:181: The name tf.ConfigProto is deprecated. Please use tf.compat.v1.ConfigProto instead.\n",
            "\n",
            "W0809 13:43:53.590247 140329530910592 deprecation_wrapper.py:119] From /usr/local/lib/python3.6/dist-packages/keras/backend/tensorflow_backend.py:1834: The name tf.nn.fused_batch_norm is deprecated. Please use tf.compat.v1.nn.fused_batch_norm instead.\n",
            "\n",
            "/usr/local/lib/python3.6/dist-packages/ipykernel_launcher.py:6: UserWarning: Update your `Conv2D` call to the Keras 2 API: `Conv2D(64, (3, 3), kernel_regularizer=<keras.reg..., padding=\"same\")`\n",
            "  \n",
            "W0809 13:43:53.861824 140329530910592 deprecation_wrapper.py:119] From /usr/local/lib/python3.6/dist-packages/keras/backend/tensorflow_backend.py:3976: The name tf.nn.max_pool is deprecated. Please use tf.nn.max_pool2d instead.\n",
            "\n",
            "W0809 13:43:53.869775 140329530910592 deprecation.py:506] From /usr/local/lib/python3.6/dist-packages/keras/backend/tensorflow_backend.py:3445: calling dropout (from tensorflow.python.ops.nn_ops) with keep_prob is deprecated and will be removed in a future version.\n",
            "Instructions for updating:\n",
            "Please use `rate` instead of `keep_prob`. Rate should be set to `rate = 1 - keep_prob`.\n",
            "/usr/local/lib/python3.6/dist-packages/ipykernel_launcher.py:12: UserWarning: Update your `Conv2D` call to the Keras 2 API: `Conv2D(32, (1, 1))`\n",
            "  if sys.path[0] == '':\n",
            "/usr/local/lib/python3.6/dist-packages/ipykernel_launcher.py:15: UserWarning: Update your `Conv2D` call to the Keras 2 API: `Conv2D(64, (3, 3), kernel_regularizer=<keras.reg..., padding=\"same\")`\n",
            "  from ipykernel import kernelapp as app\n",
            "/usr/local/lib/python3.6/dist-packages/ipykernel_launcher.py:19: UserWarning: Update your `Conv2D` call to the Keras 2 API: `Conv2D(128, (3, 3), kernel_regularizer=<keras.reg..., padding=\"same\")`\n",
            "/usr/local/lib/python3.6/dist-packages/ipykernel_launcher.py:25: UserWarning: Update your `Conv2D` call to the Keras 2 API: `Conv2D(32, (1, 1))`\n",
            "/usr/local/lib/python3.6/dist-packages/ipykernel_launcher.py:28: UserWarning: Update your `Conv2D` call to the Keras 2 API: `Conv2D(128, (3, 3), kernel_regularizer=<keras.reg..., padding=\"same\")`\n",
            "/usr/local/lib/python3.6/dist-packages/ipykernel_launcher.py:32: UserWarning: Update your `Conv2D` call to the Keras 2 API: `Conv2D(256, (3, 3), kernel_regularizer=<keras.reg..., name=\"Grad_CAM\", padding=\"same\")`\n",
            "/usr/local/lib/python3.6/dist-packages/ipykernel_launcher.py:38: UserWarning: Update your `Conv2D` call to the Keras 2 API: `Conv2D(10, (1, 1))`\n",
            "W0809 13:43:54.320199 140329530910592 deprecation_wrapper.py:119] From /usr/local/lib/python3.6/dist-packages/keras/backend/tensorflow_backend.py:3980: The name tf.nn.avg_pool is deprecated. Please use tf.nn.avg_pool2d instead.\n",
            "\n"
          ],
          "name": "stderr"
        }
      ]
    },
    {
      "cell_type": "code",
      "metadata": {
        "id": "QAbhttjB8KCY",
        "colab_type": "code",
        "outputId": "aa998c4f-9203-4db1-9b4c-885e0f939198",
        "colab": {
          "base_uri": "https://localhost:8080/",
          "height": 1000
        }
      },
      "source": [
        "from keras.optimizers import SGD\n",
        "opt = SGD(lr=1e-6, momentum=0.9)\n",
        "\n",
        "# Compile the model\n",
        "model.compile(optimizer=opt, loss='categorical_crossentropy', metrics=['accuracy'])\n",
        "model.summary()"
      ],
      "execution_count": 0,
      "outputs": [
        {
          "output_type": "stream",
          "text": [
            "W0809 13:44:25.488384 140329530910592 deprecation_wrapper.py:119] From /usr/local/lib/python3.6/dist-packages/keras/optimizers.py:790: The name tf.train.Optimizer is deprecated. Please use tf.compat.v1.train.Optimizer instead.\n",
            "\n"
          ],
          "name": "stderr"
        },
        {
          "output_type": "stream",
          "text": [
            "_________________________________________________________________\n",
            "Layer (type)                 Output Shape              Param #   \n",
            "=================================================================\n",
            "conv2d_1 (Conv2D)            (None, 32, 32, 32)        896       \n",
            "_________________________________________________________________\n",
            "activation_1 (Activation)    (None, 32, 32, 32)        0         \n",
            "_________________________________________________________________\n",
            "batch_normalization_1 (Batch (None, 32, 32, 32)        128       \n",
            "_________________________________________________________________\n",
            "conv2d_2 (Conv2D)            (None, 32, 32, 64)        18496     \n",
            "_________________________________________________________________\n",
            "activation_2 (Activation)    (None, 32, 32, 64)        0         \n",
            "_________________________________________________________________\n",
            "batch_normalization_2 (Batch (None, 32, 32, 64)        256       \n",
            "_________________________________________________________________\n",
            "max_pooling2d_1 (MaxPooling2 (None, 16, 16, 64)        0         \n",
            "_________________________________________________________________\n",
            "dropout_1 (Dropout)          (None, 16, 16, 64)        0         \n",
            "_________________________________________________________________\n",
            "conv2d_3 (Conv2D)            (None, 16, 16, 32)        2080      \n",
            "_________________________________________________________________\n",
            "conv2d_4 (Conv2D)            (None, 16, 16, 64)        18496     \n",
            "_________________________________________________________________\n",
            "activation_3 (Activation)    (None, 16, 16, 64)        0         \n",
            "_________________________________________________________________\n",
            "batch_normalization_3 (Batch (None, 16, 16, 64)        256       \n",
            "_________________________________________________________________\n",
            "conv2d_5 (Conv2D)            (None, 16, 16, 128)       73856     \n",
            "_________________________________________________________________\n",
            "activation_4 (Activation)    (None, 16, 16, 128)       0         \n",
            "_________________________________________________________________\n",
            "batch_normalization_4 (Batch (None, 16, 16, 128)       512       \n",
            "_________________________________________________________________\n",
            "max_pooling2d_2 (MaxPooling2 (None, 8, 8, 128)         0         \n",
            "_________________________________________________________________\n",
            "dropout_2 (Dropout)          (None, 8, 8, 128)         0         \n",
            "_________________________________________________________________\n",
            "conv2d_6 (Conv2D)            (None, 8, 8, 32)          4128      \n",
            "_________________________________________________________________\n",
            "conv2d_7 (Conv2D)            (None, 8, 8, 128)         36992     \n",
            "_________________________________________________________________\n",
            "activation_5 (Activation)    (None, 8, 8, 128)         0         \n",
            "_________________________________________________________________\n",
            "batch_normalization_5 (Batch (None, 8, 8, 128)         512       \n",
            "_________________________________________________________________\n",
            "Grad_CAM (Conv2D)            (None, 8, 8, 256)         295168    \n",
            "_________________________________________________________________\n",
            "activation_6 (Activation)    (None, 8, 8, 256)         0         \n",
            "_________________________________________________________________\n",
            "batch_normalization_6 (Batch (None, 8, 8, 256)         1024      \n",
            "_________________________________________________________________\n",
            "max_pooling2d_3 (MaxPooling2 (None, 4, 4, 256)         0         \n",
            "_________________________________________________________________\n",
            "dropout_3 (Dropout)          (None, 4, 4, 256)         0         \n",
            "_________________________________________________________________\n",
            "conv2d_8 (Conv2D)            (None, 4, 4, 10)          2570      \n",
            "_________________________________________________________________\n",
            "average_pooling2d_1 (Average (None, 1, 1, 10)          0         \n",
            "_________________________________________________________________\n",
            "flatten_1 (Flatten)          (None, 10)                0         \n",
            "_________________________________________________________________\n",
            "activation_7 (Activation)    (None, 10)                0         \n",
            "=================================================================\n",
            "Total params: 455,370\n",
            "Trainable params: 454,026\n",
            "Non-trainable params: 1,344\n",
            "_________________________________________________________________\n"
          ],
          "name": "stdout"
        }
      ]
    },
    {
      "cell_type": "markdown",
      "metadata": {
        "id": "WP6q-76cnDZZ",
        "colab_type": "text"
      },
      "source": [
        "### Finding the optimum learning rate for the model with batch size - 128"
      ]
    },
    {
      "cell_type": "code",
      "metadata": {
        "id": "QE-Lh31Z8cu7",
        "colab_type": "code",
        "outputId": "1b99b24f-aad3-4b92-e083-1cee251eb30a",
        "colab": {
          "base_uri": "https://localhost:8080/",
          "height": 392
        }
      },
      "source": [
        "from keras.preprocessing.image import ImageDataGenerator\n",
        "\n",
        "lr_finder = LRFinder(model)\n",
        "datagen = ImageDataGenerator(zoom_range=0.0, \n",
        "                             horizontal_flip=False,\n",
        "                             preprocessing_function=get_random_eraser(v_l=0, v_h=1, pixel_level=True))\n",
        "lr_finder.find_generator(datagen.flow(X_train, Y_train, batch_size = 128), start_lr=1e-5, end_lr=10, epochs=50, steps_per_epoch=None)\n",
        "#lr_finder.find(train_features, train_labels, start_lr=1e-5, end_lr=10, batch_size=64, epochs=50)\n",
        "lr_finder.plot_loss()"
      ],
      "execution_count": 0,
      "outputs": [
        {
          "output_type": "stream",
          "text": [
            "W0809 13:44:41.198372 140329530910592 deprecation.py:323] From /usr/local/lib/python3.6/dist-packages/tensorflow/python/ops/math_grad.py:1250: add_dispatch_support.<locals>.wrapper (from tensorflow.python.ops.array_ops) is deprecated and will be removed in a future version.\n",
            "Instructions for updating:\n",
            "Use tf.where in 2.0, which has the same broadcast rule as np.where\n"
          ],
          "name": "stderr"
        },
        {
          "output_type": "stream",
          "text": [
            "Epoch 1/50\n",
            "351/391 [=========================>....] - ETA: 1s - loss: 2.2715 - acc: 0.2581"
          ],
          "name": "stdout"
        },
        {
          "output_type": "display_data",
          "data": {
            "image/png": "[encoded data removed]",
            "text/plain": [
              "<Figure size 432x288 with 1 Axes>"
            ]
          },
          "metadata": {
            "tags": []
          }
        }
      ]
    },
    {
      "cell_type": "code",
      "metadata": {
        "id": "cH91EOzL-5L8",
        "colab_type": "code",
        "outputId": "6716105a-8dca-453c-ae5a-8a98879011bf",
        "colab": {
          "base_uri": "https://localhost:8080/",
          "height": 287
        }
      },
      "source": [
        "lr_finder.plot_loss_change()"
      ],
      "execution_count": 0,
      "outputs": [
        {
          "output_type": "display_data",
          "data": {
            "image/png": "[encoded data removed]",
            "text/plain": [
              "<Figure size 432x288 with 1 Axes>"
            ]
          },
          "metadata": {
            "tags": []
          }
        }
      ]
    },
    {
      "cell_type": "markdown",
      "metadata": {
        "id": "vEQPe6Xumy5A",
        "colab_type": "text"
      },
      "source": [
        "So, from the above graph it looks like the 1e-2 is the optimum learning rate for the model with batch size-128"
      ]
    },
    {
      "cell_type": "markdown",
      "metadata": {
        "id": "4KXJn1pTmr6Z",
        "colab_type": "text"
      },
      "source": [
        "### Defining the same model again to reset all the parameters"
      ]
    },
    {
      "cell_type": "code",
      "metadata": {
        "id": "6mPp2FTTDGX2",
        "colab_type": "code",
        "outputId": "3db3676f-c501-45e6-f000-4e294c892ae2",
        "colab": {
          "base_uri": "https://localhost:8080/",
          "height": 258
        }
      },
      "source": [
        "# Define the model\n",
        "model = Sequential()\n",
        "model.add(Convolution2D(32, 3, 3, border_mode='same',kernel_regularizer=regularizers.l2(0.0001), input_shape=(32, 32, 3)))\n",
        "model.add(Activation('relu'))\n",
        "model.add(BatchNormalization())\n",
        "\n",
        "model.add(Convolution2D(64, 3, 3,kernel_regularizer=regularizers.l2(0.0001),border_mode='same'))\n",
        "model.add(Activation('relu'))\n",
        "model.add(BatchNormalization())\n",
        "\n",
        "model.add(MaxPooling2D(pool_size=(2, 2)))\n",
        "model.add(Dropout(0.2))\n",
        "model.add(Convolution2D(32, 1, 1))\n",
        "\n",
        "\n",
        "model.add(Convolution2D(64, 3, 3,kernel_regularizer=regularizers.l2(0.0001),border_mode='same'))\n",
        "model.add(Activation('relu'))\n",
        "model.add(BatchNormalization())\n",
        "\n",
        "model.add(Convolution2D(128, 3, 3,kernel_regularizer=regularizers.l2(0.0001),border_mode='same'))\n",
        "model.add(Activation('relu'))\n",
        "model.add(BatchNormalization())\n",
        "\n",
        "model.add(MaxPooling2D(pool_size=(2, 2)))\n",
        "model.add(Dropout(0.3))\n",
        "model.add(Convolution2D(32, 1, 1))\n",
        "\n",
        "\n",
        "model.add(Convolution2D(128, 3, 3,kernel_regularizer=regularizers.l2(0.0001), border_mode='same'))\n",
        "model.add(Activation('relu'))\n",
        "model.add(BatchNormalization())\n",
        "\n",
        "model.add(Convolution2D(256, 3, 3,kernel_regularizer=regularizers.l2(0.0001), border_mode='same', name=\"Grad_CAM\"))\n",
        "model.add(Activation('relu'))\n",
        "model.add(BatchNormalization())\n",
        "\n",
        "model.add(MaxPooling2D(pool_size=(2, 2)))\n",
        "model.add(Dropout(0.5))\n",
        "model.add(Convolution2D(10, 1, 1))\n",
        "\n",
        "model.add(AveragePooling2D(pool_size = (4,4)))\n",
        "model.add(Flatten())\n",
        "model.add(Activation('softmax'))\n"
      ],
      "execution_count": 0,
      "outputs": [
        {
          "output_type": "stream",
          "text": [
            "/usr/local/lib/python3.6/dist-packages/ipykernel_launcher.py:2: UserWarning: Update your `Conv2D` call to the Keras 2 API: `Conv2D(32, (3, 3), kernel_regularizer=<keras.reg..., input_shape=(32, 32, 3..., padding=\"same\")`\n",
            "  \n",
            "/usr/local/lib/python3.6/dist-packages/ipykernel_launcher.py:6: UserWarning: Update your `Conv2D` call to the Keras 2 API: `Conv2D(64, (3, 3), kernel_regularizer=<keras.reg..., padding=\"same\")`\n",
            "  \n",
            "/usr/local/lib/python3.6/dist-packages/ipykernel_launcher.py:12: UserWarning: Update your `Conv2D` call to the Keras 2 API: `Conv2D(32, (1, 1))`\n",
            "  if sys.path[0] == '':\n",
            "/usr/local/lib/python3.6/dist-packages/ipykernel_launcher.py:15: UserWarning: Update your `Conv2D` call to the Keras 2 API: `Conv2D(64, (3, 3), kernel_regularizer=<keras.reg..., padding=\"same\")`\n",
            "  from ipykernel import kernelapp as app\n",
            "/usr/local/lib/python3.6/dist-packages/ipykernel_launcher.py:19: UserWarning: Update your `Conv2D` call to the Keras 2 API: `Conv2D(128, (3, 3), kernel_regularizer=<keras.reg..., padding=\"same\")`\n",
            "/usr/local/lib/python3.6/dist-packages/ipykernel_launcher.py:25: UserWarning: Update your `Conv2D` call to the Keras 2 API: `Conv2D(32, (1, 1))`\n",
            "/usr/local/lib/python3.6/dist-packages/ipykernel_launcher.py:28: UserWarning: Update your `Conv2D` call to the Keras 2 API: `Conv2D(128, (3, 3), kernel_regularizer=<keras.reg..., padding=\"same\")`\n",
            "/usr/local/lib/python3.6/dist-packages/ipykernel_launcher.py:32: UserWarning: Update your `Conv2D` call to the Keras 2 API: `Conv2D(256, (3, 3), kernel_regularizer=<keras.reg..., name=\"Grad_CAM\", padding=\"same\")`\n",
            "/usr/local/lib/python3.6/dist-packages/ipykernel_launcher.py:38: UserWarning: Update your `Conv2D` call to the Keras 2 API: `Conv2D(10, (1, 1))`\n"
          ],
          "name": "stderr"
        }
      ]
    },
    {
      "cell_type": "markdown",
      "metadata": {
        "id": "TUgKzM-iYk12",
        "colab_type": "text"
      },
      "source": [
        "### Compiling model with optimum Learning Rate using SGD optimizer with momentum"
      ]
    },
    {
      "cell_type": "code",
      "metadata": {
        "id": "6g6SIJdSDN7T",
        "colab_type": "code",
        "outputId": "8f03334a-ff71-44ba-8ca5-cbc1394dba44",
        "colab": {
          "base_uri": "https://localhost:8080/",
          "height": 1000
        }
      },
      "source": [
        "from keras.optimizers import SGD\n",
        "opt = SGD(lr=1e-2, momentum=0.9)\n",
        "\n",
        "# Compile the model\n",
        "model.compile(optimizer=opt, loss='categorical_crossentropy', metrics=['accuracy'])\n",
        "model.summary()"
      ],
      "execution_count": 0,
      "outputs": [
        {
          "output_type": "stream",
          "text": [
            "_________________________________________________________________\n",
            "Layer (type)                 Output Shape              Param #   \n",
            "=================================================================\n",
            "conv2d_9 (Conv2D)            (None, 32, 32, 32)        896       \n",
            "_________________________________________________________________\n",
            "activation_8 (Activation)    (None, 32, 32, 32)        0         \n",
            "_________________________________________________________________\n",
            "batch_normalization_7 (Batch (None, 32, 32, 32)        128       \n",
            "_________________________________________________________________\n",
            "conv2d_10 (Conv2D)           (None, 32, 32, 64)        18496     \n",
            "_________________________________________________________________\n",
            "activation_9 (Activation)    (None, 32, 32, 64)        0         \n",
            "_________________________________________________________________\n",
            "batch_normalization_8 (Batch (None, 32, 32, 64)        256       \n",
            "_________________________________________________________________\n",
            "max_pooling2d_4 (MaxPooling2 (None, 16, 16, 64)        0         \n",
            "_________________________________________________________________\n",
            "dropout_4 (Dropout)          (None, 16, 16, 64)        0         \n",
            "_________________________________________________________________\n",
            "conv2d_11 (Conv2D)           (None, 16, 16, 32)        2080      \n",
            "_________________________________________________________________\n",
            "conv2d_12 (Conv2D)           (None, 16, 16, 64)        18496     \n",
            "_________________________________________________________________\n",
            "activation_10 (Activation)   (None, 16, 16, 64)        0         \n",
            "_________________________________________________________________\n",
            "batch_normalization_9 (Batch (None, 16, 16, 64)        256       \n",
            "_________________________________________________________________\n",
            "conv2d_13 (Conv2D)           (None, 16, 16, 128)       73856     \n",
            "_________________________________________________________________\n",
            "activation_11 (Activation)   (None, 16, 16, 128)       0         \n",
            "_________________________________________________________________\n",
            "batch_normalization_10 (Batc (None, 16, 16, 128)       512       \n",
            "_________________________________________________________________\n",
            "max_pooling2d_5 (MaxPooling2 (None, 8, 8, 128)         0         \n",
            "_________________________________________________________________\n",
            "dropout_5 (Dropout)          (None, 8, 8, 128)         0         \n",
            "_________________________________________________________________\n",
            "conv2d_14 (Conv2D)           (None, 8, 8, 32)          4128      \n",
            "_________________________________________________________________\n",
            "conv2d_15 (Conv2D)           (None, 8, 8, 128)         36992     \n",
            "_________________________________________________________________\n",
            "activation_12 (Activation)   (None, 8, 8, 128)         0         \n",
            "_________________________________________________________________\n",
            "batch_normalization_11 (Batc (None, 8, 8, 128)         512       \n",
            "_________________________________________________________________\n",
            "Grad_CAM (Conv2D)            (None, 8, 8, 256)         295168    \n",
            "_________________________________________________________________\n",
            "activation_13 (Activation)   (None, 8, 8, 256)         0         \n",
            "_________________________________________________________________\n",
            "batch_normalization_12 (Batc (None, 8, 8, 256)         1024      \n",
            "_________________________________________________________________\n",
            "max_pooling2d_6 (MaxPooling2 (None, 4, 4, 256)         0         \n",
            "_________________________________________________________________\n",
            "dropout_6 (Dropout)          (None, 4, 4, 256)         0         \n",
            "_________________________________________________________________\n",
            "conv2d_16 (Conv2D)           (None, 4, 4, 10)          2570      \n",
            "_________________________________________________________________\n",
            "average_pooling2d_2 (Average (None, 1, 1, 10)          0         \n",
            "_________________________________________________________________\n",
            "flatten_2 (Flatten)          (None, 10)                0         \n",
            "_________________________________________________________________\n",
            "activation_14 (Activation)   (None, 10)                0         \n",
            "=================================================================\n",
            "Total params: 455,370\n",
            "Trainable params: 454,026\n",
            "Non-trainable params: 1,344\n",
            "_________________________________________________________________\n"
          ],
          "name": "stdout"
        }
      ]
    },
    {
      "cell_type": "markdown",
      "metadata": {
        "id": "Mf0LhPEGYvCR",
        "colab_type": "text"
      },
      "source": [
        "### While runing the model I'm running with otimum LR and also defined ReduceLROnPlateau (with patience = 7). So, overally we will get faster learning and when there it more increase in validation accuracy for more than 7 epochs then reducing the Learning Rate."
      ]
    },
    {
      "cell_type": "code",
      "metadata": {
        "id": "RBwqRY5qlHKE",
        "colab_type": "code",
        "outputId": "7a8659ec-6684-40d6-c5c2-1ffbcea1c390",
        "colab": {
          "base_uri": "https://localhost:8080/",
          "height": 1000
        }
      },
      "source": [
        "from keras.preprocessing.image import ImageDataGenerator\n",
        "from keras.callbacks import ModelCheckpoint,ReduceLROnPlateau\n",
        "\n",
        "checkpointer = ModelCheckpoint(filepath='/content/drive/My Drive/EVA_Assignment_11.h5', monitor='val_acc', mode='auto', verbose = 1, save_best_only=True)\n",
        "lr_reducer = ReduceLROnPlateau(monitor='val_acc',factor=0.8, cooldown=0, patience=7, min_lr=0.5e-9,verbose = 1)\n",
        "\n",
        "datagen = ImageDataGenerator(zoom_range=0.0, \n",
        "                             horizontal_flip=False,\n",
        "                             preprocessing_function=get_random_eraser(v_l=0, v_h=1, pixel_level=True))\n",
        "\n",
        "\n",
        "# train the model\n",
        "start = time.time()\n",
        "# Train the model\n",
        "model_info = model.fit_generator(datagen.flow(X_train, Y_train, batch_size = 128),\n",
        "                                 samples_per_epoch = train_features.shape[0], nb_epoch = 100, \n",
        "                                 validation_data = (X_test, Y_test), callbacks=[checkpointer, lr_reducer],verbose=1)\n",
        "end = time.time()\n",
        "print (\"Model took %0.2f seconds to train\"%(end - start))\n",
        "# plot model history\n",
        "plot_model_history(model_info)\n",
        "# compute test accuracy\n",
        "print (\"Accuracy on test data is: %0.2f\"%accuracy(X_test, Y_test, model))"
      ],
      "execution_count": 0,
      "outputs": [
        {
          "output_type": "stream",
          "text": [
            "Epoch 1/100\n",
            "  3/390 [..............................] - ETA: 15s - loss: 1.2214 - acc: 0.5729"
          ],
          "name": "stdout"
        },
        {
          "output_type": "stream",
          "text": [
            "/usr/local/lib/python3.6/dist-packages/ipykernel_launcher.py:17: UserWarning: The semantics of the Keras 2 argument `steps_per_epoch` is not the same as the Keras 1 argument `samples_per_epoch`. `steps_per_epoch` is the number of batches to draw from the generator at each epoch. Basically steps_per_epoch = samples_per_epoch/batch_size. Similarly `nb_val_samples`->`validation_steps` and `val_samples`->`steps` arguments have changed. Update your method calls accordingly.\n",
            "/usr/local/lib/python3.6/dist-packages/ipykernel_launcher.py:17: UserWarning: Update your `fit_generator` call to the Keras 2 API: `fit_generator(<keras_pre..., validation_data=(array([[[..., callbacks=[<keras.ca..., verbose=1, steps_per_epoch=390, epochs=100)`\n"
          ],
          "name": "stderr"
        },
        {
          "output_type": "stream",
          "text": [
            "390/390 [==============================] - 12s 31ms/step - loss: 1.1761 - acc: 0.5937 - val_loss: 0.9737 - val_acc: 0.6696\n",
            "\n",
            "Epoch 00001: val_acc improved from -inf to 0.66960, saving model to /content/drive/My Drive/EVA_Assignment_11.h5\n",
            "Epoch 2/100\n",
            "390/390 [==============================] - 12s 32ms/step - loss: 1.0323 - acc: 0.6490 - val_loss: 0.9023 - val_acc: 0.6952\n",
            "\n",
            "Epoch 00002: val_acc improved from 0.66960 to 0.69520, saving model to /content/drive/My Drive/EVA_Assignment_11.h5\n",
            "Epoch 3/100\n",
            "390/390 [==============================] - 12s 32ms/step - loss: 0.9311 - acc: 0.6846 - val_loss: 0.8251 - val_acc: 0.7275\n",
            "\n",
            "Epoch 00003: val_acc improved from 0.69520 to 0.72750, saving model to /content/drive/My Drive/EVA_Assignment_11.h5\n",
            "Epoch 4/100\n",
            "390/390 [==============================] - 12s 32ms/step - loss: 0.8625 - acc: 0.7127 - val_loss: 0.7736 - val_acc: 0.7413\n",
            "\n",
            "Epoch 00004: val_acc improved from 0.72750 to 0.74130, saving model to /content/drive/My Drive/EVA_Assignment_11.h5\n",
            "Epoch 5/100\n",
            "390/390 [==============================] - 12s 32ms/step - loss: 0.8120 - acc: 0.7299 - val_loss: 0.7586 - val_acc: 0.7518\n",
            "\n",
            "Epoch 00005: val_acc improved from 0.74130 to 0.75180, saving model to /content/drive/My Drive/EVA_Assignment_11.h5\n",
            "Epoch 6/100\n",
            "390/390 [==============================] - 12s 31ms/step - loss: 0.7740 - acc: 0.7446 - val_loss: 0.7014 - val_acc: 0.7743\n",
            "\n",
            "Epoch 00006: val_acc improved from 0.75180 to 0.77430, saving model to /content/drive/My Drive/EVA_Assignment_11.h5\n",
            "Epoch 7/100\n",
            "390/390 [==============================] - 12s 31ms/step - loss: 0.7328 - acc: 0.7603 - val_loss: 0.6905 - val_acc: 0.7761\n",
            "\n",
            "Epoch 00007: val_acc improved from 0.77430 to 0.77610, saving model to /content/drive/My Drive/EVA_Assignment_11.h5\n",
            "Epoch 8/100\n",
            "390/390 [==============================] - 12s 31ms/step - loss: 0.7042 - acc: 0.7698 - val_loss: 0.6619 - val_acc: 0.7875\n",
            "\n",
            "Epoch 00008: val_acc improved from 0.77610 to 0.78750, saving model to /content/drive/My Drive/EVA_Assignment_11.h5\n",
            "Epoch 9/100\n",
            "390/390 [==============================] - 12s 31ms/step - loss: 0.6765 - acc: 0.7811 - val_loss: 0.6675 - val_acc: 0.7857\n",
            "\n",
            "Epoch 00009: val_acc did not improve from 0.78750\n",
            "Epoch 10/100\n",
            "390/390 [==============================] - 12s 31ms/step - loss: 0.6557 - acc: 0.7872 - val_loss: 0.6118 - val_acc: 0.8121\n",
            "\n",
            "Epoch 00010: val_acc improved from 0.78750 to 0.81210, saving model to /content/drive/My Drive/EVA_Assignment_11.h5\n",
            "Epoch 11/100\n",
            "390/390 [==============================] - 12s 31ms/step - loss: 0.6335 - acc: 0.7964 - val_loss: 0.6232 - val_acc: 0.8068\n",
            "\n",
            "Epoch 00011: val_acc did not improve from 0.81210\n",
            "Epoch 12/100\n",
            "390/390 [==============================] - 12s 32ms/step - loss: 0.6068 - acc: 0.8062 - val_loss: 0.5756 - val_acc: 0.8251\n",
            "\n",
            "Epoch 00012: val_acc improved from 0.81210 to 0.82510, saving model to /content/drive/My Drive/EVA_Assignment_11.h5\n",
            "Epoch 13/100\n",
            "390/390 [==============================] - 12s 31ms/step - loss: 0.5914 - acc: 0.8122 - val_loss: 0.6026 - val_acc: 0.8136\n",
            "\n",
            "Epoch 00013: val_acc did not improve from 0.82510\n",
            "Epoch 14/100\n",
            "390/390 [==============================] - 12s 31ms/step - loss: 0.5694 - acc: 0.8206 - val_loss: 0.5848 - val_acc: 0.8224\n",
            "\n",
            "Epoch 00014: val_acc did not improve from 0.82510\n",
            "Epoch 15/100\n",
            "390/390 [==============================] - 12s 32ms/step - loss: 0.5557 - acc: 0.8235 - val_loss: 0.5568 - val_acc: 0.8282\n",
            "\n",
            "Epoch 00015: val_acc improved from 0.82510 to 0.82820, saving model to /content/drive/My Drive/EVA_Assignment_11.h5\n",
            "Epoch 16/100\n",
            "390/390 [==============================] - 12s 31ms/step - loss: 0.5443 - acc: 0.8307 - val_loss: 0.6140 - val_acc: 0.8174\n",
            "\n",
            "Epoch 00016: val_acc did not improve from 0.82820\n",
            "Epoch 17/100\n",
            "390/390 [==============================] - 12s 31ms/step - loss: 0.5382 - acc: 0.8331 - val_loss: 0.5839 - val_acc: 0.8198\n",
            "\n",
            "Epoch 00017: val_acc did not improve from 0.82820\n",
            "Epoch 18/100\n",
            "390/390 [==============================] - 12s 32ms/step - loss: 0.5211 - acc: 0.8386 - val_loss: 0.5394 - val_acc: 0.8412\n",
            "\n",
            "Epoch 00018: val_acc improved from 0.82820 to 0.84120, saving model to /content/drive/My Drive/EVA_Assignment_11.h5\n",
            "Epoch 19/100\n",
            "390/390 [==============================] - 12s 31ms/step - loss: 0.5052 - acc: 0.8416 - val_loss: 0.5360 - val_acc: 0.8446\n",
            "\n",
            "Epoch 00019: val_acc improved from 0.84120 to 0.84460, saving model to /content/drive/My Drive/EVA_Assignment_11.h5\n",
            "Epoch 20/100\n",
            "390/390 [==============================] - 12s 31ms/step - loss: 0.5013 - acc: 0.8453 - val_loss: 0.5617 - val_acc: 0.8328\n",
            "\n",
            "Epoch 00020: val_acc did not improve from 0.84460\n",
            "Epoch 21/100\n",
            "390/390 [==============================] - 12s 31ms/step - loss: 0.4938 - acc: 0.8477 - val_loss: 0.5288 - val_acc: 0.8447\n",
            "\n",
            "Epoch 00021: val_acc improved from 0.84460 to 0.84470, saving model to /content/drive/My Drive/EVA_Assignment_11.h5\n",
            "Epoch 22/100\n",
            "390/390 [==============================] - 12s 31ms/step - loss: 0.4853 - acc: 0.8507 - val_loss: 0.5761 - val_acc: 0.8319\n",
            "\n",
            "Epoch 00022: val_acc did not improve from 0.84470\n",
            "Epoch 23/100\n",
            "390/390 [==============================] - 12s 31ms/step - loss: 0.4696 - acc: 0.8574 - val_loss: 0.6782 - val_acc: 0.8106\n",
            "\n",
            "Epoch 00023: val_acc did not improve from 0.84470\n",
            "Epoch 24/100\n",
            "390/390 [==============================] - 12s 32ms/step - loss: 0.4623 - acc: 0.8602 - val_loss: 0.5577 - val_acc: 0.8397\n",
            "\n",
            "Epoch 00024: val_acc did not improve from 0.84470\n",
            "Epoch 25/100\n",
            "390/390 [==============================] - 12s 31ms/step - loss: 0.4547 - acc: 0.8625 - val_loss: 0.5306 - val_acc: 0.8485\n",
            "\n",
            "Epoch 00025: val_acc improved from 0.84470 to 0.84850, saving model to /content/drive/My Drive/EVA_Assignment_11.h5\n",
            "Epoch 26/100\n",
            "390/390 [==============================] - 12s 31ms/step - loss: 0.4563 - acc: 0.8624 - val_loss: 0.5067 - val_acc: 0.8535\n",
            "\n",
            "Epoch 00026: val_acc improved from 0.84850 to 0.85350, saving model to /content/drive/My Drive/EVA_Assignment_11.h5\n",
            "Epoch 27/100\n",
            "390/390 [==============================] - 12s 31ms/step - loss: 0.4457 - acc: 0.8675 - val_loss: 0.5373 - val_acc: 0.8488\n",
            "\n",
            "Epoch 00027: val_acc did not improve from 0.85350\n",
            "Epoch 28/100\n",
            "390/390 [==============================] - 12s 31ms/step - loss: 0.4410 - acc: 0.8693 - val_loss: 0.5279 - val_acc: 0.8520\n",
            "\n",
            "Epoch 00028: val_acc did not improve from 0.85350\n",
            "Epoch 29/100\n",
            "390/390 [==============================] - 12s 31ms/step - loss: 0.4330 - acc: 0.8706 - val_loss: 0.5494 - val_acc: 0.8513\n",
            "\n",
            "Epoch 00029: val_acc did not improve from 0.85350\n",
            "Epoch 30/100\n",
            "390/390 [==============================] - 12s 31ms/step - loss: 0.4281 - acc: 0.8725 - val_loss: 0.5248 - val_acc: 0.8540\n",
            "\n",
            "Epoch 00030: val_acc improved from 0.85350 to 0.85400, saving model to /content/drive/My Drive/EVA_Assignment_11.h5\n",
            "Epoch 31/100\n",
            "390/390 [==============================] - 12s 31ms/step - loss: 0.4232 - acc: 0.8776 - val_loss: 0.4952 - val_acc: 0.8640\n",
            "\n",
            "Epoch 00031: val_acc improved from 0.85400 to 0.86400, saving model to /content/drive/My Drive/EVA_Assignment_11.h5\n",
            "Epoch 32/100\n",
            "390/390 [==============================] - 12s 31ms/step - loss: 0.4120 - acc: 0.8821 - val_loss: 0.5363 - val_acc: 0.8551\n",
            "\n",
            "Epoch 00032: val_acc did not improve from 0.86400\n",
            "Epoch 33/100\n",
            "390/390 [==============================] - 12s 31ms/step - loss: 0.4163 - acc: 0.8779 - val_loss: 0.5311 - val_acc: 0.8506\n",
            "\n",
            "Epoch 00033: val_acc did not improve from 0.86400\n",
            "Epoch 34/100\n",
            "390/390 [==============================] - 12s 31ms/step - loss: 0.4093 - acc: 0.8814 - val_loss: 0.5072 - val_acc: 0.8606\n",
            "\n",
            "Epoch 00034: val_acc did not improve from 0.86400\n",
            "Epoch 35/100\n",
            "390/390 [==============================] - 12s 31ms/step - loss: 0.4048 - acc: 0.8843 - val_loss: 0.5460 - val_acc: 0.8591\n",
            "\n",
            "Epoch 00035: val_acc did not improve from 0.86400\n",
            "Epoch 36/100\n",
            "390/390 [==============================] - 12s 31ms/step - loss: 0.3948 - acc: 0.8874 - val_loss: 0.5072 - val_acc: 0.8626\n",
            "\n",
            "Epoch 00036: val_acc did not improve from 0.86400\n",
            "Epoch 37/100\n",
            "390/390 [==============================] - 12s 32ms/step - loss: 0.4026 - acc: 0.8859 - val_loss: 0.5053 - val_acc: 0.8622\n",
            "\n",
            "Epoch 00037: val_acc did not improve from 0.86400\n",
            "Epoch 38/100\n",
            "390/390 [==============================] - 12s 31ms/step - loss: 0.3942 - acc: 0.8885 - val_loss: 0.5052 - val_acc: 0.8641\n",
            "\n",
            "Epoch 00038: val_acc improved from 0.86400 to 0.86410, saving model to /content/drive/My Drive/EVA_Assignment_11.h5\n",
            "\n",
            "Epoch 00038: ReduceLROnPlateau reducing learning rate to 0.007999999821186066.\n",
            "Epoch 39/100\n",
            "390/390 [==============================] - 12s 32ms/step - loss: 0.3678 - acc: 0.8991 - val_loss: 0.5146 - val_acc: 0.8660\n",
            "\n",
            "Epoch 00039: val_acc improved from 0.86410 to 0.86600, saving model to /content/drive/My Drive/EVA_Assignment_11.h5\n",
            "Epoch 40/100\n",
            "390/390 [==============================] - 12s 32ms/step - loss: 0.3635 - acc: 0.8995 - val_loss: 0.5025 - val_acc: 0.8676\n",
            "\n",
            "Epoch 00040: val_acc improved from 0.86600 to 0.86760, saving model to /content/drive/My Drive/EVA_Assignment_11.h5\n",
            "Epoch 41/100\n",
            "390/390 [==============================] - 12s 31ms/step - loss: 0.3599 - acc: 0.9006 - val_loss: 0.5104 - val_acc: 0.8660\n",
            "\n",
            "Epoch 00041: val_acc did not improve from 0.86760\n",
            "Epoch 42/100\n",
            "390/390 [==============================] - 12s 31ms/step - loss: 0.3562 - acc: 0.9021 - val_loss: 0.5122 - val_acc: 0.8672\n",
            "\n",
            "Epoch 00042: val_acc did not improve from 0.86760\n",
            "Epoch 43/100\n",
            "390/390 [==============================] - 12s 31ms/step - loss: 0.3502 - acc: 0.9049 - val_loss: 0.5244 - val_acc: 0.8611\n",
            "\n",
            "Epoch 00043: val_acc did not improve from 0.86760\n",
            "Epoch 44/100\n",
            "390/390 [==============================] - 12s 31ms/step - loss: 0.3497 - acc: 0.9061 - val_loss: 0.5081 - val_acc: 0.8666\n",
            "\n",
            "Epoch 00044: val_acc did not improve from 0.86760\n",
            "Epoch 45/100\n",
            "390/390 [==============================] - 12s 31ms/step - loss: 0.3466 - acc: 0.9064 - val_loss: 0.5391 - val_acc: 0.8659\n",
            "\n",
            "Epoch 00045: val_acc did not improve from 0.86760\n",
            "Epoch 46/100\n",
            "390/390 [==============================] - 12s 31ms/step - loss: 0.3423 - acc: 0.9078 - val_loss: 0.4879 - val_acc: 0.8753\n",
            "\n",
            "Epoch 00046: val_acc improved from 0.86760 to 0.87530, saving model to /content/drive/My Drive/EVA_Assignment_11.h5\n",
            "Epoch 47/100\n",
            "390/390 [==============================] - 12s 31ms/step - loss: 0.3428 - acc: 0.9076 - val_loss: 0.4971 - val_acc: 0.8736\n",
            "\n",
            "Epoch 00047: val_acc did not improve from 0.87530\n",
            "Epoch 48/100\n",
            "390/390 [==============================] - 12s 31ms/step - loss: 0.3431 - acc: 0.9077 - val_loss: 0.5160 - val_acc: 0.8670\n",
            "\n",
            "Epoch 00048: val_acc did not improve from 0.87530\n",
            "Epoch 49/100\n",
            "390/390 [==============================] - 12s 32ms/step - loss: 0.3386 - acc: 0.9089 - val_loss: 0.5117 - val_acc: 0.8717\n",
            "\n",
            "Epoch 00049: val_acc did not improve from 0.87530\n",
            "Epoch 50/100\n",
            "390/390 [==============================] - 12s 31ms/step - loss: 0.3386 - acc: 0.9095 - val_loss: 0.4999 - val_acc: 0.8756\n",
            "\n",
            "Epoch 00050: val_acc improved from 0.87530 to 0.87560, saving model to /content/drive/My Drive/EVA_Assignment_11.h5\n",
            "Epoch 51/100\n",
            "390/390 [==============================] - 12s 31ms/step - loss: 0.3396 - acc: 0.9081 - val_loss: 0.5272 - val_acc: 0.8683\n",
            "\n",
            "Epoch 00051: val_acc did not improve from 0.87560\n",
            "Epoch 52/100\n",
            "390/390 [==============================] - 12s 31ms/step - loss: 0.3343 - acc: 0.9106 - val_loss: 0.5558 - val_acc: 0.8615\n",
            "\n",
            "Epoch 00052: val_acc did not improve from 0.87560\n",
            "Epoch 53/100\n",
            "390/390 [==============================] - 12s 31ms/step - loss: 0.3306 - acc: 0.9126 - val_loss: 0.5052 - val_acc: 0.8740\n",
            "\n",
            "Epoch 00053: val_acc did not improve from 0.87560\n",
            "Epoch 54/100\n",
            "390/390 [==============================] - 12s 31ms/step - loss: 0.3329 - acc: 0.9128 - val_loss: 0.5045 - val_acc: 0.8707\n",
            "\n",
            "Epoch 00054: val_acc did not improve from 0.87560\n",
            "Epoch 55/100\n",
            "390/390 [==============================] - 12s 31ms/step - loss: 0.3338 - acc: 0.9115 - val_loss: 0.5545 - val_acc: 0.8588\n",
            "\n",
            "Epoch 00055: val_acc did not improve from 0.87560\n",
            "Epoch 56/100\n",
            "390/390 [==============================] - 12s 31ms/step - loss: 0.3260 - acc: 0.9138 - val_loss: 0.5270 - val_acc: 0.8653\n",
            "\n",
            "Epoch 00056: val_acc did not improve from 0.87560\n",
            "Epoch 57/100\n",
            "390/390 [==============================] - 12s 31ms/step - loss: 0.3288 - acc: 0.9143 - val_loss: 0.5261 - val_acc: 0.8684\n",
            "\n",
            "Epoch 00057: val_acc did not improve from 0.87560\n",
            "\n",
            "Epoch 00057: ReduceLROnPlateau reducing learning rate to 0.006399999558925629.\n",
            "Epoch 58/100\n",
            "390/390 [==============================] - 12s 31ms/step - loss: 0.3075 - acc: 0.9218 - val_loss: 0.5184 - val_acc: 0.8732\n",
            "\n",
            "Epoch 00058: val_acc did not improve from 0.87560\n",
            "Epoch 59/100\n",
            "390/390 [==============================] - 12s 31ms/step - loss: 0.3033 - acc: 0.9231 - val_loss: 0.5078 - val_acc: 0.8740\n",
            "\n",
            "Epoch 00059: val_acc did not improve from 0.87560\n",
            "Epoch 60/100\n",
            "390/390 [==============================] - 12s 31ms/step - loss: 0.3005 - acc: 0.9244 - val_loss: 0.5303 - val_acc: 0.8706\n",
            "\n",
            "Epoch 00060: val_acc did not improve from 0.87560\n",
            "Epoch 61/100\n",
            "390/390 [==============================] - 12s 31ms/step - loss: 0.2987 - acc: 0.9255 - val_loss: 0.5127 - val_acc: 0.8761\n",
            "\n",
            "Epoch 00061: val_acc improved from 0.87560 to 0.87610, saving model to /content/drive/My Drive/EVA_Assignment_11.h5\n",
            "Epoch 62/100\n",
            "390/390 [==============================] - 12s 31ms/step - loss: 0.2980 - acc: 0.9252 - val_loss: 0.5074 - val_acc: 0.8744\n",
            "\n",
            "Epoch 00062: val_acc did not improve from 0.87610\n",
            "Epoch 63/100\n",
            "390/390 [==============================] - 12s 31ms/step - loss: 0.2987 - acc: 0.9260 - val_loss: 0.5128 - val_acc: 0.8779\n",
            "\n",
            "Epoch 00063: val_acc improved from 0.87610 to 0.87790, saving model to /content/drive/My Drive/EVA_Assignment_11.h5\n",
            "Epoch 64/100\n",
            "390/390 [==============================] - 12s 31ms/step - loss: 0.3003 - acc: 0.9247 - val_loss: 0.5095 - val_acc: 0.8794\n",
            "\n",
            "Epoch 00064: val_acc improved from 0.87790 to 0.87940, saving model to /content/drive/My Drive/EVA_Assignment_11.h5\n",
            "Epoch 65/100\n",
            "390/390 [==============================] - 12s 31ms/step - loss: 0.2920 - acc: 0.9269 - val_loss: 0.5073 - val_acc: 0.8779\n",
            "\n",
            "Epoch 00065: val_acc did not improve from 0.87940\n",
            "Epoch 66/100\n",
            "390/390 [==============================] - 12s 31ms/step - loss: 0.2986 - acc: 0.9247 - val_loss: 0.5514 - val_acc: 0.8735\n",
            "\n",
            "Epoch 00066: val_acc did not improve from 0.87940\n",
            "Epoch 67/100\n",
            "390/390 [==============================] - 12s 31ms/step - loss: 0.2940 - acc: 0.9264 - val_loss: 0.5086 - val_acc: 0.8762\n",
            "\n",
            "Epoch 00067: val_acc did not improve from 0.87940\n",
            "Epoch 68/100\n",
            "390/390 [==============================] - 12s 31ms/step - loss: 0.2920 - acc: 0.9272 - val_loss: 0.5061 - val_acc: 0.8800\n",
            "\n",
            "Epoch 00068: val_acc improved from 0.87940 to 0.88000, saving model to /content/drive/My Drive/EVA_Assignment_11.h5\n",
            "Epoch 69/100\n",
            "390/390 [==============================] - 12s 31ms/step - loss: 0.2904 - acc: 0.9277 - val_loss: 0.4971 - val_acc: 0.8797\n",
            "\n",
            "Epoch 00069: val_acc did not improve from 0.88000\n",
            "Epoch 70/100\n",
            "390/390 [==============================] - 12s 31ms/step - loss: 0.2920 - acc: 0.9275 - val_loss: 0.5178 - val_acc: 0.8726\n",
            "\n",
            "Epoch 00070: val_acc did not improve from 0.88000\n",
            "Epoch 71/100\n",
            "390/390 [==============================] - 12s 31ms/step - loss: 0.2933 - acc: 0.9274 - val_loss: 0.5127 - val_acc: 0.8807\n",
            "\n",
            "Epoch 00071: val_acc improved from 0.88000 to 0.88070, saving model to /content/drive/My Drive/EVA_Assignment_11.h5\n",
            "Epoch 72/100\n",
            "390/390 [==============================] - 12s 31ms/step - loss: 0.2908 - acc: 0.9287 - val_loss: 0.5164 - val_acc: 0.8750\n",
            "\n",
            "Epoch 00072: val_acc did not improve from 0.88070\n",
            "Epoch 73/100\n",
            "390/390 [==============================] - 12s 31ms/step - loss: 0.2890 - acc: 0.9289 - val_loss: 0.5206 - val_acc: 0.8773\n",
            "\n",
            "Epoch 00073: val_acc did not improve from 0.88070\n",
            "Epoch 74/100\n",
            "390/390 [==============================] - 12s 31ms/step - loss: 0.2940 - acc: 0.9269 - val_loss: 0.5157 - val_acc: 0.8787\n",
            "\n",
            "Epoch 00074: val_acc did not improve from 0.88070\n",
            "Epoch 75/100\n",
            "390/390 [==============================] - 12s 31ms/step - loss: 0.2902 - acc: 0.9278 - val_loss: 0.5250 - val_acc: 0.8786\n",
            "\n",
            "Epoch 00075: val_acc did not improve from 0.88070\n",
            "Epoch 76/100\n",
            "390/390 [==============================] - 12s 31ms/step - loss: 0.2902 - acc: 0.9295 - val_loss: 0.5097 - val_acc: 0.8757\n",
            "\n",
            "Epoch 00076: val_acc did not improve from 0.88070\n",
            "Epoch 77/100\n",
            "390/390 [==============================] - 12s 31ms/step - loss: 0.2806 - acc: 0.9324 - val_loss: 0.5229 - val_acc: 0.8762\n",
            "\n",
            "Epoch 00077: val_acc did not improve from 0.88070\n",
            "Epoch 78/100\n",
            "390/390 [==============================] - 12s 31ms/step - loss: 0.2871 - acc: 0.9296 - val_loss: 0.5036 - val_acc: 0.8822\n",
            "\n",
            "Epoch 00078: val_acc improved from 0.88070 to 0.88220, saving model to /content/drive/My Drive/EVA_Assignment_11.h5\n",
            "Epoch 79/100\n",
            "390/390 [==============================] - 12s 31ms/step - loss: 0.2843 - acc: 0.9301 - val_loss: 0.5402 - val_acc: 0.8697\n",
            "\n",
            "Epoch 00079: val_acc did not improve from 0.88220\n",
            "Epoch 80/100\n",
            "390/390 [==============================] - 12s 31ms/step - loss: 0.2871 - acc: 0.9300 - val_loss: 0.5158 - val_acc: 0.8786\n",
            "\n",
            "Epoch 00080: val_acc did not improve from 0.88220\n",
            "Epoch 81/100\n",
            "390/390 [==============================] - 12s 31ms/step - loss: 0.2772 - acc: 0.9338 - val_loss: 0.5438 - val_acc: 0.8759\n",
            "\n",
            "Epoch 00081: val_acc did not improve from 0.88220\n",
            "Epoch 82/100\n",
            "390/390 [==============================] - 12s 31ms/step - loss: 0.2884 - acc: 0.9292 - val_loss: 0.5157 - val_acc: 0.8811\n",
            "\n",
            "Epoch 00082: val_acc did not improve from 0.88220\n",
            "Epoch 83/100\n",
            "390/390 [==============================] - 12s 31ms/step - loss: 0.2838 - acc: 0.9321 - val_loss: 0.5115 - val_acc: 0.8801\n",
            "\n",
            "Epoch 00083: val_acc did not improve from 0.88220\n",
            "Epoch 84/100\n",
            "390/390 [==============================] - 12s 31ms/step - loss: 0.2792 - acc: 0.9324 - val_loss: 0.5234 - val_acc: 0.8774\n",
            "\n",
            "Epoch 00084: val_acc did not improve from 0.88220\n",
            "Epoch 85/100\n",
            "390/390 [==============================] - 12s 31ms/step - loss: 0.2788 - acc: 0.9333 - val_loss: 0.4996 - val_acc: 0.8806\n",
            "\n",
            "Epoch 00085: val_acc did not improve from 0.88220\n",
            "\n",
            "Epoch 00085: ReduceLROnPlateau reducing learning rate to 0.0051199994981288915.\n",
            "Epoch 86/100\n",
            "390/390 [==============================] - 12s 31ms/step - loss: 0.2677 - acc: 0.9367 - val_loss: 0.5020 - val_acc: 0.8835\n",
            "\n",
            "Epoch 00086: val_acc improved from 0.88220 to 0.88350, saving model to /content/drive/My Drive/EVA_Assignment_11.h5\n",
            "Epoch 87/100\n",
            "390/390 [==============================] - 12s 31ms/step - loss: 0.2661 - acc: 0.9365 - val_loss: 0.5049 - val_acc: 0.8829\n",
            "\n",
            "Epoch 00087: val_acc did not improve from 0.88350\n",
            "Epoch 88/100\n",
            "390/390 [==============================] - 12s 31ms/step - loss: 0.2604 - acc: 0.9388 - val_loss: 0.4991 - val_acc: 0.8837\n",
            "\n",
            "Epoch 00088: val_acc improved from 0.88350 to 0.88370, saving model to /content/drive/My Drive/EVA_Assignment_11.h5\n",
            "Epoch 89/100\n",
            "390/390 [==============================] - 12s 31ms/step - loss: 0.2596 - acc: 0.9409 - val_loss: 0.5114 - val_acc: 0.8846\n",
            "\n",
            "Epoch 00089: val_acc improved from 0.88370 to 0.88460, saving model to /content/drive/My Drive/EVA_Assignment_11.h5\n",
            "Epoch 90/100\n",
            "390/390 [==============================] - 12s 31ms/step - loss: 0.2571 - acc: 0.9406 - val_loss: 0.4876 - val_acc: 0.8835\n",
            "\n",
            "Epoch 00090: val_acc did not improve from 0.88460\n",
            "Epoch 91/100\n",
            "390/390 [==============================] - 12s 31ms/step - loss: 0.2563 - acc: 0.9413 - val_loss: 0.5228 - val_acc: 0.8811\n",
            "\n",
            "Epoch 00091: val_acc did not improve from 0.88460\n",
            "Epoch 92/100\n",
            "390/390 [==============================] - 12s 31ms/step - loss: 0.2545 - acc: 0.9423 - val_loss: 0.4981 - val_acc: 0.8829\n",
            "\n",
            "Epoch 00092: val_acc did not improve from 0.88460\n",
            "Epoch 93/100\n",
            "390/390 [==============================] - 12s 31ms/step - loss: 0.2554 - acc: 0.9422 - val_loss: 0.5188 - val_acc: 0.8795\n",
            "\n",
            "Epoch 00093: val_acc did not improve from 0.88460\n",
            "Epoch 94/100\n",
            "390/390 [==============================] - 12s 31ms/step - loss: 0.2532 - acc: 0.9409 - val_loss: 0.5079 - val_acc: 0.8832\n",
            "\n",
            "Epoch 00094: val_acc did not improve from 0.88460\n",
            "Epoch 95/100\n",
            "390/390 [==============================] - 12s 31ms/step - loss: 0.2559 - acc: 0.9409 - val_loss: 0.5103 - val_acc: 0.8787\n",
            "\n",
            "Epoch 00095: val_acc did not improve from 0.88460\n",
            "Epoch 96/100\n",
            "390/390 [==============================] - 12s 31ms/step - loss: 0.2596 - acc: 0.9388 - val_loss: 0.5297 - val_acc: 0.8797\n",
            "\n",
            "Epoch 00096: val_acc did not improve from 0.88460\n",
            "\n",
            "Epoch 00096: ReduceLROnPlateau reducing learning rate to 0.004095999523997307.\n",
            "Epoch 97/100\n",
            "390/390 [==============================] - 12s 31ms/step - loss: 0.2497 - acc: 0.9427 - val_loss: 0.5056 - val_acc: 0.8819\n",
            "\n",
            "Epoch 00097: val_acc did not improve from 0.88460\n",
            "Epoch 98/100\n",
            "390/390 [==============================] - 12s 31ms/step - loss: 0.2434 - acc: 0.9455 - val_loss: 0.5112 - val_acc: 0.8860\n",
            "\n",
            "Epoch 00098: val_acc improved from 0.88460 to 0.88600, saving model to /content/drive/My Drive/EVA_Assignment_11.h5\n",
            "Epoch 99/100\n",
            "390/390 [==============================] - 12s 31ms/step - loss: 0.2426 - acc: 0.9444 - val_loss: 0.4972 - val_acc: 0.8865\n",
            "\n",
            "Epoch 00099: val_acc improved from 0.88600 to 0.88650, saving model to /content/drive/My Drive/EVA_Assignment_11.h5\n",
            "Epoch 100/100\n",
            "390/390 [==============================] - 12s 31ms/step - loss: 0.2396 - acc: 0.9471 - val_loss: 0.4990 - val_acc: 0.8881\n",
            "\n",
            "Epoch 00100: val_acc improved from 0.88650 to 0.88810, saving model to /content/drive/My Drive/EVA_Assignment_11.h5\n",
            "Model took 1230.76 seconds to train\n"
          ],
          "name": "stdout"
        },
        {
          "output_type": "display_data",
          "data": {
            "image/png": "[encoded data removed]",
            "text/plain": [
              "<Figure size 1080x360 with 2 Axes>"
            ]
          },
          "metadata": {
            "tags": []
          }
        },
        {
          "output_type": "stream",
          "text": [
            "Accuracy on test data is: 88.81\n"
          ],
          "name": "stdout"
        }
      ]
    },
    {
      "cell_type": "markdown",
      "metadata": {
        "id": "WYAb9rqJZSNd",
        "colab_type": "text"
      },
      "source": [
        "### Loading the highest validation acurracy model and printing the validation accuracy score"
      ]
    },
    {
      "cell_type": "code",
      "metadata": {
        "id": "MuaEyx_YGblo",
        "colab_type": "code",
        "outputId": "f4188d99-67d8-4952-f19b-2d9470309589",
        "colab": {
          "base_uri": "https://localhost:8080/",
          "height": 51
        }
      },
      "source": [
        "model=keras.models.load_model('/content/drive/My Drive/EVA_Assignment_11.h5')\n",
        "score = model.evaluate(X_test, Y_test, batch_size=128)\n",
        "print (score[1])\n"
      ],
      "execution_count": 0,
      "outputs": [
        {
          "output_type": "stream",
          "text": [
            "10000/10000 [==============================] - 1s 118us/step\n",
            "0.8881\n"
          ],
          "name": "stdout"
        }
      ]
    },
    {
      "cell_type": "markdown",
      "metadata": {
        "id": "yZKPfZ2QmeeJ",
        "colab_type": "text"
      },
      "source": [
        "### Finding mis-classified image indexes"
      ]
    },
    {
      "cell_type": "code",
      "metadata": {
        "id": "budyKuLkGb0O",
        "colab_type": "code",
        "outputId": "a498e565-a067-4501-c744-5fd10831b102",
        "colab": {
          "base_uri": "https://localhost:8080/",
          "height": 34
        }
      },
      "source": [
        "# getting predictions on val set.\n",
        "pred = model.predict(X_test)\n",
        "pred_digits = np.argmax(pred, axis=1)\n",
        "\n",
        "\n",
        "# now finding some misclassified indexes'.\n",
        "i=0\n",
        "mis_class=[]\n",
        "for i in range(len(Y_test)):\n",
        "    if( np.argmax(Y_test[i])!= pred_digits[i] ):\n",
        "        mis_class.append(i)\n",
        "    if(len(mis_class)==25):\n",
        "        break\n",
        "\n",
        "print(mis_class)"
      ],
      "execution_count": 0,
      "outputs": [
        {
          "output_type": "stream",
          "text": [
            "[24, 25, 35, 42, 52, 57, 58, 61, 69, 78, 85, 128, 147, 154, 158, 167, 188, 221, 223, 224, 226, 228, 237, 247, 263]\n"
          ],
          "name": "stdout"
        }
      ]
    },
    {
      "cell_type": "markdown",
      "metadata": {
        "id": "2N5tHSCPc9yk",
        "colab_type": "text"
      },
      "source": [
        "### Genrating Grad-CAM for mis-classified images"
      ]
    },
    {
      "cell_type": "code",
      "metadata": {
        "id": "SsDd0GCUGcg1",
        "colab_type": "code",
        "outputId": "1fdf0120-e4dd-4c15-f71f-0e077a84c8e9",
        "colab": {
          "base_uri": "https://localhost:8080/",
          "height": 1000
        }
      },
      "source": [
        "import cv2\n",
        "from google.colab.patches import cv2_imshow\n",
        "\n",
        "#images = [100,101,201,510,600,1000,1600,1601,3000,4000,5500,7000,7500,8000,9000,9999]\n",
        "images = mis_class\n",
        "for j in images:\n",
        "  x = testX[j]\n",
        "  x = np.expand_dims(x, axis=0)\n",
        "  preds = model.predict(x,batch_size=1)\n",
        "  class_idx = np.argmax(preds[0])\n",
        "  class_output = model.output[:, class_idx]\n",
        "  print(\"Predicted class {0} actual class {1}\".format(class_names[np.argmax(preds)], class_names[np.argmax(Y_test[j])]))\n",
        "  last_conv_layer = model.get_layer(\"Grad_CAM\")\n",
        "\n",
        "  grads = K.gradients(class_output, last_conv_layer.output)[0]\n",
        "  pooled_grads = K.mean(grads, axis=(0, 1, 2))\n",
        "  iterate = K.function([model.input], [pooled_grads, last_conv_layer.output[0]])\n",
        "  pooled_grads_value, conv_layer_output_value = iterate([x])\n",
        "  for i in range(256):\n",
        "    conv_layer_output_value[:, :, i] *= pooled_grads_value[i]\n",
        "  \n",
        "  heatmap = np.mean(conv_layer_output_value, axis=-1)\n",
        "  heatmap = np.maximum(heatmap, 0)\n",
        "  heatmap /= np.max(heatmap) \n",
        "  img = (testX[j])\n",
        "  heatmap = cv2.resize(heatmap, (img.shape[1], img.shape[0]))\n",
        "  heatmap = np.uint8(255 * heatmap)\n",
        "  heatmap = cv2.applyColorMap(heatmap, cv2.COLORMAP_JET)\n",
        "  superimposed_img = cv2.addWeighted(img, 0.6, heatmap, 0.4, 0)\n",
        "  concatimg = cv2.hconcat([img,superimposed_img])\n",
        "  cv2_imshow(concatimg)\n",
        "  cv2.waitKey(0)\n"
      ],
      "execution_count": 0,
      "outputs": [
        {
          "output_type": "stream",
          "text": [
            "Predicted class horse actual class dog\n"
          ],
          "name": "stdout"
        },
        {
          "output_type": "display_data",
          "data": {
            "image/png": "[encoded data removed]",
            "text/plain": [
              "<PIL.Image.Image image mode=RGB size=64x32 at 0x7FA0015CCC18>"
            ]
          },
          "metadata": {
            "tags": []
          }
        },
        {
          "output_type": "stream",
          "text": [
            "Predicted class horse actual class bird\n"
          ],
          "name": "stdout"
        },
        {
          "output_type": "display_data",
          "data": {
            "image/png": "[encoded data removed]",
            "text/plain": [
              "<PIL.Image.Image image mode=RGB size=64x32 at 0x7FA0014E07F0>"
            ]
          },
          "metadata": {
            "tags": []
          }
        },
        {
          "output_type": "stream",
          "text": [
            "Predicted class ship actual class bird\n"
          ],
          "name": "stdout"
        },
        {
          "output_type": "display_data",
          "data": {
            "image/png": "[encoded data removed]",
            "text/plain": [
              "<PIL.Image.Image image mode=RGB size=64x32 at 0x7FA001414908>"
            ]
          },
          "metadata": {
            "tags": []
          }
        },
        {
          "output_type": "stream",
          "text": [
            "Predicted class horse actual class dog\n"
          ],
          "name": "stdout"
        },
        {
          "output_type": "display_data",
          "data": {
            "image/png": "[encoded data removed]",
            "text/plain": [
              "<PIL.Image.Image image mode=RGB size=64x32 at 0x7FA00130FF28>"
            ]
          },
          "metadata": {
            "tags": []
          }
        },
        {
          "output_type": "stream",
          "text": [
            "Predicted class airplane actual class airplane\n"
          ],
          "name": "stdout"
        },
        {
          "output_type": "display_data",
          "data": {
            "image/png": "[encoded data removed]",
            "text/plain": [
              "<PIL.Image.Image image mode=RGB size=64x32 at 0x7FA00133EBE0>"
            ]
          },
          "metadata": {
            "tags": []
          }
        },
        {
          "output_type": "stream",
          "text": [
            "Predicted class airplane actual class horse\n"
          ],
          "name": "stdout"
        },
        {
          "output_type": "display_data",
          "data": {
            "image/png": "[encoded data removed]",
            "text/plain": [
              "<PIL.Image.Image image mode=RGB size=64x32 at 0x7FA001209908>"
            ]
          },
          "metadata": {
            "tags": []
          }
        },
        {
          "output_type": "stream",
          "text": [
            "Predicted class horse actual class deer\n"
          ],
          "name": "stdout"
        },
        {
          "output_type": "display_data",
          "data": {
            "image/png": "[encoded data removed]",
            "text/plain": [
              "<PIL.Image.Image image mode=RGB size=64x32 at 0x7FA001131B00>"
            ]
          },
          "metadata": {
            "tags": []
          }
        },
        {
          "output_type": "stream",
          "text": [
            "Predicted class horse actual class cat\n"
          ],
          "name": "stdout"
        },
        {
          "output_type": "display_data",
          "data": {
            "image/png": "[encoded data removed]",
            "text/plain": [
              "<PIL.Image.Image image mode=RGB size=64x32 at 0x7FA0010723C8>"
            ]
          },
          "metadata": {
            "tags": []
          }
        },
        {
          "output_type": "stream",
          "text": [
            "Predicted class horse actual class horse\n"
          ],
          "name": "stdout"
        },
        {
          "output_type": "stream",
          "text": [
            "/usr/local/lib/python3.6/dist-packages/ipykernel_launcher.py:24: RuntimeWarning: invalid value encountered in true_divide\n"
          ],
          "name": "stderr"
        },
        {
          "output_type": "display_data",
          "data": {
            "image/png": "[encoded data removed]",
            "text/plain": [
              "<PIL.Image.Image image mode=RGB size=64x32 at 0x7FA001004E10>"
            ]
          },
          "metadata": {
            "tags": []
          }
        },
        {
          "output_type": "stream",
          "text": [
            "Predicted class airplane actual class cat\n"
          ],
          "name": "stdout"
        },
        {
          "output_type": "display_data",
          "data": {
            "image/png": "[encoded data removed]",
            "text/plain": [
              "<PIL.Image.Image image mode=RGB size=64x32 at 0x7FA000FA7AC8>"
            ]
          },
          "metadata": {
            "tags": []
          }
        },
        {
          "output_type": "stream",
          "text": [
            "Predicted class horse actual class dog\n"
          ],
          "name": "stdout"
        },
        {
          "output_type": "display_data",
          "data": {
            "image/png": "[encoded data removed]",
            "text/plain": [
              "<PIL.Image.Image image mode=RGB size=64x32 at 0x7FA000FA7C88>"
            ]
          },
          "metadata": {
            "tags": []
          }
        },
        {
          "output_type": "stream",
          "text": [
            "Predicted class automobile actual class dog\n"
          ],
          "name": "stdout"
        },
        {
          "output_type": "display_data",
          "data": {
            "image/png": "[encoded data removed]",
            "text/plain": [
              "<PIL.Image.Image image mode=RGB size=64x32 at 0x7FA000DF7F28>"
            ]
          },
          "metadata": {
            "tags": []
          }
        },
        {
          "output_type": "stream",
          "text": [
            "Predicted class dog actual class bird\n"
          ],
          "name": "stdout"
        },
        {
          "output_type": "display_data",
          "data": {
            "image/png": "[encoded data removed]",
            "text/plain": [
              "<PIL.Image.Image image mode=RGB size=64x32 at 0x7FA000CC7F60>"
            ]
          },
          "metadata": {
            "tags": []
          }
        },
        {
          "output_type": "stream",
          "text": [
            "Predicted class airplane actual class airplane\n"
          ],
          "name": "stdout"
        },
        {
          "output_type": "display_data",
          "data": {
            "image/png": "[encoded data removed]",
            "text/plain": [
              "<PIL.Image.Image image mode=RGB size=64x32 at 0x7FA000CDAF98>"
            ]
          },
          "metadata": {
            "tags": []
          }
        },
        {
          "output_type": "stream",
          "text": [
            "Predicted class automobile actual class dog\n"
          ],
          "name": "stdout"
        },
        {
          "output_type": "display_data",
          "data": {
            "image/png": "[encoded data removed]",
            "text/plain": [
              "<PIL.Image.Image image mode=RGB size=64x32 at 0x7FA000B94860>"
            ]
          },
          "metadata": {
            "tags": []
          }
        },
        {
          "output_type": "stream",
          "text": [
            "Predicted class airplane actual class deer\n"
          ],
          "name": "stdout"
        },
        {
          "output_type": "display_data",
          "data": {
            "image/png": "[encoded data removed]",
            "text/plain": [
              "<PIL.Image.Image image mode=RGB size=64x32 at 0x7FA000B3F400>"
            ]
          },
          "metadata": {
            "tags": []
          }
        },
        {
          "output_type": "stream",
          "text": [
            "Predicted class horse actual class deer\n"
          ],
          "name": "stdout"
        },
        {
          "output_type": "stream",
          "text": [
            "/usr/local/lib/python3.6/dist-packages/ipykernel_launcher.py:24: RuntimeWarning: invalid value encountered in true_divide\n"
          ],
          "name": "stderr"
        },
        {
          "output_type": "display_data",
          "data": {
            "image/png": "[encoded data removed]",
            "text/plain": [
              "<PIL.Image.Image image mode=RGB size=64x32 at 0x7FA000AD3940>"
            ]
          },
          "metadata": {
            "tags": []
          }
        },
        {
          "output_type": "stream",
          "text": [
            "Predicted class horse actual class frog\n"
          ],
          "name": "stdout"
        },
        {
          "output_type": "display_data",
          "data": {
            "image/png": "[encoded data removed]",
            "text/plain": [
              "<PIL.Image.Image image mode=RGB size=64x32 at 0x7FA0009F8B38>"
            ]
          },
          "metadata": {
            "tags": []
          }
        },
        {
          "output_type": "stream",
          "text": [
            "Predicted class airplane actual class deer\n"
          ],
          "name": "stdout"
        },
        {
          "output_type": "display_data",
          "data": {
            "image/png": "[encoded data removed]",
            "text/plain": [
              "<PIL.Image.Image image mode=RGB size=64x32 at 0x7FA000934A20>"
            ]
          },
          "metadata": {
            "tags": []
          }
        },
        {
          "output_type": "stream",
          "text": [
            "Predicted class airplane actual class cat\n"
          ],
          "name": "stdout"
        },
        {
          "output_type": "stream",
          "text": [
            "/usr/local/lib/python3.6/dist-packages/ipykernel_launcher.py:24: RuntimeWarning: invalid value encountered in true_divide\n"
          ],
          "name": "stderr"
        },
        {
          "output_type": "display_data",
          "data": {
            "image/png": "[encoded data removed]",
            "text/plain": [
              "<PIL.Image.Image image mode=RGB size=64x32 at 0x7FA0008C8EF0>"
            ]
          },
          "metadata": {
            "tags": []
          }
        },
        {
          "output_type": "stream",
          "text": [
            "Predicted class horse actual class frog\n"
          ],
          "name": "stdout"
        },
        {
          "output_type": "display_data",
          "data": {
            "image/png": "[encoded data removed]",
            "text/plain": [
              "<PIL.Image.Image image mode=RGB size=64x32 at 0x7FA0008C8EF0>"
            ]
          },
          "metadata": {
            "tags": []
          }
        },
        {
          "output_type": "stream",
          "text": [
            "Predicted class horse actual class horse\n"
          ],
          "name": "stdout"
        },
        {
          "output_type": "display_data",
          "data": {
            "image/png": "[encoded data removed]",
            "text/plain": [
              "<PIL.Image.Image image mode=RGB size=64x32 at 0x7FA00072AF98>"
            ]
          },
          "metadata": {
            "tags": []
          }
        },
        {
          "output_type": "stream",
          "text": [
            "Predicted class horse actual class airplane\n"
          ],
          "name": "stdout"
        },
        {
          "output_type": "display_data",
          "data": {
            "image/png": "[encoded data removed]",
            "text/plain": [
              "<PIL.Image.Image image mode=RGB size=64x32 at 0x7FA0006BD668>"
            ]
          },
          "metadata": {
            "tags": []
          }
        },
        {
          "output_type": "stream",
          "text": [
            "Predicted class horse actual class truck\n"
          ],
          "name": "stdout"
        },
        {
          "output_type": "display_data",
          "data": {
            "image/png": "[encoded data removed]",
            "text/plain": [
              "<PIL.Image.Image image mode=RGB size=64x32 at 0x7FA000611400>"
            ]
          },
          "metadata": {
            "tags": []
          }
        },
        {
          "output_type": "stream",
          "text": [
            "Predicted class airplane actual class horse\n"
          ],
          "name": "stdout"
        },
        {
          "output_type": "display_data",
          "data": {
            "image/png": "[encoded data removed]",
            "text/plain": [
              "<PIL.Image.Image image mode=RGB size=64x32 at 0x7FA0004F7780>"
            ]
          },
          "metadata": {
            "tags": []
          }
        }
      ]
    },
    {
      "cell_type": "markdown",
      "metadata": {
        "id": "n_9FsFVUXAvB",
        "colab_type": "text"
      },
      "source": [
        "In the misclassified images some of the misclassified is predicting as correct. I'm not sure where I'm making the mistake. I'll verify it. "
      ]
    }
  ]
}
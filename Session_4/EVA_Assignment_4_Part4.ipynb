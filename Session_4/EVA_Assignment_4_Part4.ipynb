{
  "nbformat": 4,
  "nbformat_minor": 0,
  "metadata": {
    "colab": {
      "name": "EVA_Assignment_4_Part4.ipynb",
      "version": "0.3.2",
      "provenance": [],
      "collapsed_sections": []
    },
    "kernelspec": {
      "name": "python3",
      "display_name": "Python 3"
    },
    "accelerator": "GPU"
  },
  "cells": [
    {
      "cell_type": "markdown",
      "metadata": {
        "id": "g0BHzp9XPlhW",
        "colab_type": "text"
      },
      "source": [
        "####Improvement on 3rd code file(EVA_Assignment_4_Part3.ipynb)- increased Batch size and epochs and incremental model.fit()</br> Observation-Model validation accuracy in first model.fit() reached to 99.25% while in second model.fit() validation accuracy increased to 99.38%"
      ]
    },
    {
      "cell_type": "markdown",
      "metadata": {
        "id": "aNyZv-Ec52ot",
        "colab_type": "text"
      },
      "source": [
        "# **Import Libraries and modules**"
      ]
    },
    {
      "cell_type": "code",
      "metadata": {
        "id": "3m3w1Cw49Zkt",
        "colab_type": "code",
        "outputId": "1a462913-4492-4737-bc82-9a1393bfce0f",
        "colab": {
          "base_uri": "https://localhost:8080/",
          "height": 34
        }
      },
      "source": [
        "# https://keras.io/\n",
        "!pip install -q keras\n",
        "# Importing Keras library\n",
        "import keras"
      ],
      "execution_count": 1,
      "outputs": [
        {
          "output_type": "stream",
          "text": [
            "Using TensorFlow backend.\n"
          ],
          "name": "stderr"
        }
      ]
    },
    {
      "cell_type": "code",
      "metadata": {
        "id": "Eso6UHE080D4",
        "colab_type": "code",
        "colab": {}
      },
      "source": [
        "# Import numpy which is fundamental package for scientific computing in python\n",
        "import numpy as np\n",
        "# Using sequential model from models available in keras\n",
        "from keras.models import Sequential\n",
        "# Importing keras layers\n",
        "from keras.layers import Dense, Dropout, Activation, Flatten, Add\n",
        "from keras.layers import Convolution2D, MaxPooling2D\n",
        "# Importing utilities which transform data\n",
        "from keras.utils import np_utils\n",
        "# Importing mnist from dataset for image processing\n",
        "from keras.datasets import mnist"
      ],
      "execution_count": 0,
      "outputs": []
    },
    {
      "cell_type": "markdown",
      "metadata": {
        "id": "zByEi95J86RD",
        "colab_type": "text"
      },
      "source": [
        "### Load pre-shuffled MNIST data into train and test sets"
      ]
    },
    {
      "cell_type": "code",
      "metadata": {
        "id": "7eRM0QWN83PV",
        "colab_type": "code",
        "colab": {}
      },
      "source": [
        "# Loading train and test data \n",
        "(X_train, y_train), (X_test, y_test) = mnist.load_data()"
      ],
      "execution_count": 0,
      "outputs": []
    },
    {
      "cell_type": "code",
      "metadata": {
        "id": "4a4Be72j8-ZC",
        "colab_type": "code",
        "outputId": "aa0f3a50-14fa-471b-8a15-3049b2922dd7",
        "colab": {
          "base_uri": "https://localhost:8080/",
          "height": 303
        }
      },
      "source": [
        "# Printing train data shape\n",
        "print (X_train.shape)\n",
        "# Matplotlib is used for ploting graph\n",
        "from matplotlib import pyplot as plt\n",
        "# Ploting image under code cell\n",
        "%matplotlib inline\n",
        "# Ploted image of train[0] from train data set\n",
        "plt.imshow(X_train[0])"
      ],
      "execution_count": 4,
      "outputs": [
        {
          "output_type": "stream",
          "text": [
            "(60000, 28, 28)\n"
          ],
          "name": "stdout"
        },
        {
          "output_type": "execute_result",
          "data": {
            "text/plain": [
              "<matplotlib.image.AxesImage at 0x7fb2f55c8358>"
            ]
          },
          "metadata": {
            "tags": []
          },
          "execution_count": 4
        },
        {
          "output_type": "display_data",
          "data": {
            "image/png": "[encoded data removed]",
            "text/plain": [
              "<Figure size 432x288 with 1 Axes>"
            ]
          },
          "metadata": {
            "tags": []
          }
        }
      ]
    },
    {
      "cell_type": "code",
      "metadata": {
        "id": "dkmprriw9AnZ",
        "colab_type": "code",
        "colab": {}
      },
      "source": [
        "# Reshaping for train and test data for processing\n",
        "X_train = X_train.reshape(X_train.shape[0], 28, 28,1)\n",
        "X_test = X_test.reshape(X_test.shape[0], 28, 28,1)"
      ],
      "execution_count": 0,
      "outputs": []
    },
    {
      "cell_type": "code",
      "metadata": {
        "id": "X2m4YS4E9CRh",
        "colab_type": "code",
        "colab": {}
      },
      "source": [
        "# Conversion of train and test data set\n",
        "X_train = X_train.astype('float32')\n",
        "X_test = X_test.astype('float32')\n",
        "X_train /= 255\n",
        "X_test /= 255"
      ],
      "execution_count": 0,
      "outputs": []
    },
    {
      "cell_type": "code",
      "metadata": {
        "id": "0Mn0vAYD9DvB",
        "colab_type": "code",
        "outputId": "046a64c1-8f50-411e-d7d2-d5bfe1fee4c9",
        "colab": {
          "base_uri": "https://localhost:8080/",
          "height": 34
        }
      },
      "source": [
        "# output of train data array and its data type\n",
        "y_train[:10]"
      ],
      "execution_count": 7,
      "outputs": [
        {
          "output_type": "execute_result",
          "data": {
            "text/plain": [
              "array([5, 0, 4, 1, 9, 2, 1, 3, 1, 4], dtype=uint8)"
            ]
          },
          "metadata": {
            "tags": []
          },
          "execution_count": 7
        }
      ]
    },
    {
      "cell_type": "code",
      "metadata": {
        "id": "ZG8JiXR39FHC",
        "colab_type": "code",
        "colab": {}
      },
      "source": [
        "# Convert 1-dimensional class arrays to 10-dimensional class matrices\n",
        "Y_train = np_utils.to_categorical(y_train, 10)\n",
        "Y_test = np_utils.to_categorical(y_test, 10)"
      ],
      "execution_count": 0,
      "outputs": []
    },
    {
      "cell_type": "code",
      "metadata": {
        "id": "fYlFRvKS9HMB",
        "colab_type": "code",
        "outputId": "8c726171-5e13-41fd-9706-8678e5345156",
        "colab": {
          "base_uri": "https://localhost:8080/",
          "height": 187
        }
      },
      "source": [
        "# Output of train data set array of dimension 10\n",
        "Y_train[:10]\n"
      ],
      "execution_count": 9,
      "outputs": [
        {
          "output_type": "execute_result",
          "data": {
            "text/plain": [
              "array([[0., 0., 0., 0., 0., 1., 0., 0., 0., 0.],\n",
              "       [1., 0., 0., 0., 0., 0., 0., 0., 0., 0.],\n",
              "       [0., 0., 0., 0., 1., 0., 0., 0., 0., 0.],\n",
              "       [0., 1., 0., 0., 0., 0., 0., 0., 0., 0.],\n",
              "       [0., 0., 0., 0., 0., 0., 0., 0., 0., 1.],\n",
              "       [0., 0., 1., 0., 0., 0., 0., 0., 0., 0.],\n",
              "       [0., 1., 0., 0., 0., 0., 0., 0., 0., 0.],\n",
              "       [0., 0., 0., 1., 0., 0., 0., 0., 0., 0.],\n",
              "       [0., 1., 0., 0., 0., 0., 0., 0., 0., 0.],\n",
              "       [0., 0., 0., 0., 1., 0., 0., 0., 0., 0.]], dtype=float32)"
            ]
          },
          "metadata": {
            "tags": []
          },
          "execution_count": 9
        }
      ]
    },
    {
      "cell_type": "code",
      "metadata": {
        "id": "osKqT73Q9JJB",
        "colab_type": "code",
        "outputId": "f1f82c4a-0f91-461c-c338-f310de28b7bd",
        "colab": {
          "base_uri": "https://localhost:8080/",
          "height": 1125
        }
      },
      "source": [
        "# Using Activation function from keras layers\n",
        "from keras.layers import Activation, BatchNormalization\n",
        "# Defining sequential model\n",
        "model = Sequential()\n",
        "# Using convolution and Max Pooling operation on input image\n",
        "\n",
        "model.add(Convolution2D(12, 3, 3, activation='relu', input_shape=(28,28,1))) #26\n",
        "model.add(BatchNormalization())\n",
        "model.add(Dropout(0.1))\n",
        "\n",
        "model.add(Convolution2D(12, 3, 3, activation='relu')) #24\n",
        "model.add(BatchNormalization())\n",
        "model.add(Dropout(0.1))\n",
        "\n",
        "model.add(Convolution2D(24, 3, 3, activation='relu')) #22\n",
        "\n",
        "model.add(MaxPooling2D(pool_size=(2, 2)))#11\n",
        "\n",
        "model.add(Convolution2D(12, 1, 1, activation='relu'))#11\n",
        "model.add(BatchNormalization())\n",
        "model.add(Dropout(0.1))\n",
        "\n",
        "\n",
        "model.add(Convolution2D(12, 3, 3, activation='relu'))#9\n",
        "model.add(BatchNormalization())\n",
        "model.add(Dropout(0.1))\n",
        "\n",
        "\n",
        "model.add(Convolution2D(24, 3, 3, activation='relu'))#7\n",
        "model.add(BatchNormalization())\n",
        "model.add(Dropout(0.1))\n",
        "\n",
        "\n",
        "model.add(Convolution2D(10, 1))\n",
        "model.add(Convolution2D(10, 7))\n",
        "\n",
        "# using flatten to convert multidimension array into 1-d array\n",
        "model.add(Flatten())\n",
        "# Using softmax activation function for probability distribution\n",
        "model.add(Activation('softmax'))\n",
        "# Print Model summary \n",
        "model.summary()\n"
      ],
      "execution_count": 10,
      "outputs": [
        {
          "output_type": "stream",
          "text": [
            "WARNING:tensorflow:From /usr/local/lib/python3.6/dist-packages/tensorflow/python/framework/op_def_library.py:263: colocate_with (from tensorflow.python.framework.ops) is deprecated and will be removed in a future version.\n",
            "Instructions for updating:\n",
            "Colocations handled automatically by placer.\n"
          ],
          "name": "stdout"
        },
        {
          "output_type": "stream",
          "text": [
            "/usr/local/lib/python3.6/dist-packages/ipykernel_launcher.py:6: UserWarning: Update your `Conv2D` call to the Keras 2 API: `Conv2D(12, (3, 3), activation=\"relu\", input_shape=(28, 28, 1...)`\n",
            "  \n"
          ],
          "name": "stderr"
        },
        {
          "output_type": "stream",
          "text": [
            "WARNING:tensorflow:From /usr/local/lib/python3.6/dist-packages/keras/backend/tensorflow_backend.py:3445: calling dropout (from tensorflow.python.ops.nn_ops) with keep_prob is deprecated and will be removed in a future version.\n",
            "Instructions for updating:\n",
            "Please use `rate` instead of `keep_prob`. Rate should be set to `rate = 1 - keep_prob`.\n"
          ],
          "name": "stdout"
        },
        {
          "output_type": "stream",
          "text": [
            "/usr/local/lib/python3.6/dist-packages/ipykernel_launcher.py:10: UserWarning: Update your `Conv2D` call to the Keras 2 API: `Conv2D(12, (3, 3), activation=\"relu\")`\n",
            "  # Remove the CWD from sys.path while we load stuff.\n",
            "/usr/local/lib/python3.6/dist-packages/ipykernel_launcher.py:14: UserWarning: Update your `Conv2D` call to the Keras 2 API: `Conv2D(24, (3, 3), activation=\"relu\")`\n",
            "  \n",
            "/usr/local/lib/python3.6/dist-packages/ipykernel_launcher.py:18: UserWarning: Update your `Conv2D` call to the Keras 2 API: `Conv2D(12, (1, 1), activation=\"relu\")`\n",
            "/usr/local/lib/python3.6/dist-packages/ipykernel_launcher.py:23: UserWarning: Update your `Conv2D` call to the Keras 2 API: `Conv2D(12, (3, 3), activation=\"relu\")`\n",
            "/usr/local/lib/python3.6/dist-packages/ipykernel_launcher.py:28: UserWarning: Update your `Conv2D` call to the Keras 2 API: `Conv2D(24, (3, 3), activation=\"relu\")`\n"
          ],
          "name": "stderr"
        },
        {
          "output_type": "stream",
          "text": [
            "_________________________________________________________________\n",
            "Layer (type)                 Output Shape              Param #   \n",
            "=================================================================\n",
            "conv2d_1 (Conv2D)            (None, 26, 26, 12)        120       \n",
            "_________________________________________________________________\n",
            "batch_normalization_1 (Batch (None, 26, 26, 12)        48        \n",
            "_________________________________________________________________\n",
            "dropout_1 (Dropout)          (None, 26, 26, 12)        0         \n",
            "_________________________________________________________________\n",
            "conv2d_2 (Conv2D)            (None, 24, 24, 12)        1308      \n",
            "_________________________________________________________________\n",
            "batch_normalization_2 (Batch (None, 24, 24, 12)        48        \n",
            "_________________________________________________________________\n",
            "dropout_2 (Dropout)          (None, 24, 24, 12)        0         \n",
            "_________________________________________________________________\n",
            "conv2d_3 (Conv2D)            (None, 22, 22, 24)        2616      \n",
            "_________________________________________________________________\n",
            "max_pooling2d_1 (MaxPooling2 (None, 11, 11, 24)        0         \n",
            "_________________________________________________________________\n",
            "conv2d_4 (Conv2D)            (None, 11, 11, 12)        300       \n",
            "_________________________________________________________________\n",
            "batch_normalization_3 (Batch (None, 11, 11, 12)        48        \n",
            "_________________________________________________________________\n",
            "dropout_3 (Dropout)          (None, 11, 11, 12)        0         \n",
            "_________________________________________________________________\n",
            "conv2d_5 (Conv2D)            (None, 9, 9, 12)          1308      \n",
            "_________________________________________________________________\n",
            "batch_normalization_4 (Batch (None, 9, 9, 12)          48        \n",
            "_________________________________________________________________\n",
            "dropout_4 (Dropout)          (None, 9, 9, 12)          0         \n",
            "_________________________________________________________________\n",
            "conv2d_6 (Conv2D)            (None, 7, 7, 24)          2616      \n",
            "_________________________________________________________________\n",
            "batch_normalization_5 (Batch (None, 7, 7, 24)          96        \n",
            "_________________________________________________________________\n",
            "dropout_5 (Dropout)          (None, 7, 7, 24)          0         \n",
            "_________________________________________________________________\n",
            "conv2d_7 (Conv2D)            (None, 7, 7, 10)          250       \n",
            "_________________________________________________________________\n",
            "conv2d_8 (Conv2D)            (None, 1, 1, 10)          4910      \n",
            "_________________________________________________________________\n",
            "flatten_1 (Flatten)          (None, 10)                0         \n",
            "_________________________________________________________________\n",
            "activation_1 (Activation)    (None, 10)                0         \n",
            "=================================================================\n",
            "Total params: 13,716\n",
            "Trainable params: 13,572\n",
            "Non-trainable params: 144\n",
            "_________________________________________________________________\n"
          ],
          "name": "stdout"
        }
      ]
    },
    {
      "cell_type": "code",
      "metadata": {
        "id": "Zp6SuGrL9M3h",
        "colab_type": "code",
        "colab": {}
      },
      "source": [
        "# Compile model\n",
        "model.compile(loss='categorical_crossentropy', optimizer='adam', metrics=['accuracy'])"
      ],
      "execution_count": 0,
      "outputs": []
    },
    {
      "cell_type": "code",
      "metadata": {
        "id": "4xWoKhPY9Of5",
        "colab_type": "code",
        "outputId": "0d65a01b-34c9-4910-bd1e-3182d19e0e75",
        "colab": {
          "base_uri": "https://localhost:8080/",
          "height": 802
        }
      },
      "source": [
        "# fit model for training data\n",
        "model.fit(X_train, Y_train, batch_size=64, epochs=20, verbose=1, validation_data=(X_test, Y_test))\n",
        "\n"
      ],
      "execution_count": 12,
      "outputs": [
        {
          "output_type": "stream",
          "text": [
            "WARNING:tensorflow:From /usr/local/lib/python3.6/dist-packages/tensorflow/python/ops/math_ops.py:3066: to_int32 (from tensorflow.python.ops.math_ops) is deprecated and will be removed in a future version.\n",
            "Instructions for updating:\n",
            "Use tf.cast instead.\n",
            "Train on 60000 samples, validate on 10000 samples\n",
            "Epoch 1/20\n",
            "60000/60000 [==============================] - 20s 339us/step - loss: 0.2085 - acc: 0.9343 - val_loss: 0.0517 - val_acc: 0.9828\n",
            "Epoch 2/20\n",
            "60000/60000 [==============================] - 16s 267us/step - loss: 0.0731 - acc: 0.9782 - val_loss: 0.0446 - val_acc: 0.9846\n",
            "Epoch 3/20\n",
            "60000/60000 [==============================] - 16s 262us/step - loss: 0.0561 - acc: 0.9823 - val_loss: 0.0339 - val_acc: 0.9890\n",
            "Epoch 4/20\n",
            "60000/60000 [==============================] - 16s 260us/step - loss: 0.0468 - acc: 0.9854 - val_loss: 0.0403 - val_acc: 0.9876\n",
            "Epoch 5/20\n",
            "60000/60000 [==============================] - 15s 257us/step - loss: 0.0426 - acc: 0.9864 - val_loss: 0.0318 - val_acc: 0.9889\n",
            "Epoch 6/20\n",
            "60000/60000 [==============================] - 16s 261us/step - loss: 0.0370 - acc: 0.9883 - val_loss: 0.0327 - val_acc: 0.9891\n",
            "Epoch 7/20\n",
            "60000/60000 [==============================] - 17s 276us/step - loss: 0.0358 - acc: 0.9888 - val_loss: 0.0281 - val_acc: 0.9912\n",
            "Epoch 8/20\n",
            "60000/60000 [==============================] - 15s 249us/step - loss: 0.0332 - acc: 0.9891 - val_loss: 0.0258 - val_acc: 0.9923\n",
            "Epoch 9/20\n",
            "60000/60000 [==============================] - 15s 256us/step - loss: 0.0295 - acc: 0.9908 - val_loss: 0.0231 - val_acc: 0.9929\n",
            "Epoch 10/20\n",
            "60000/60000 [==============================] - 15s 257us/step - loss: 0.0296 - acc: 0.9904 - val_loss: 0.0286 - val_acc: 0.9911\n",
            "Epoch 11/20\n",
            "60000/60000 [==============================] - 15s 257us/step - loss: 0.0265 - acc: 0.9914 - val_loss: 0.0308 - val_acc: 0.9894\n",
            "Epoch 12/20\n",
            "60000/60000 [==============================] - 14s 230us/step - loss: 0.0269 - acc: 0.9912 - val_loss: 0.0273 - val_acc: 0.9914\n",
            "Epoch 13/20\n",
            "60000/60000 [==============================] - 9s 156us/step - loss: 0.0243 - acc: 0.9919 - val_loss: 0.0232 - val_acc: 0.9926\n",
            "Epoch 14/20\n",
            "60000/60000 [==============================] - 9s 158us/step - loss: 0.0241 - acc: 0.9919 - val_loss: 0.0253 - val_acc: 0.9913\n",
            "Epoch 15/20\n",
            "60000/60000 [==============================] - 9s 153us/step - loss: 0.0232 - acc: 0.9924 - val_loss: 0.0270 - val_acc: 0.9928\n",
            "Epoch 16/20\n",
            "60000/60000 [==============================] - 9s 153us/step - loss: 0.0234 - acc: 0.9924 - val_loss: 0.0251 - val_acc: 0.9918\n",
            "Epoch 17/20\n",
            "60000/60000 [==============================] - 9s 154us/step - loss: 0.0209 - acc: 0.9928 - val_loss: 0.0242 - val_acc: 0.9929\n",
            "Epoch 18/20\n",
            "60000/60000 [==============================] - 9s 153us/step - loss: 0.0215 - acc: 0.9929 - val_loss: 0.0227 - val_acc: 0.9935\n",
            "Epoch 19/20\n",
            "60000/60000 [==============================] - 11s 184us/step - loss: 0.0195 - acc: 0.9936 - val_loss: 0.0237 - val_acc: 0.9931\n",
            "Epoch 20/20\n",
            "60000/60000 [==============================] - 11s 176us/step - loss: 0.0174 - acc: 0.9942 - val_loss: 0.0265 - val_acc: 0.9925\n"
          ],
          "name": "stdout"
        },
        {
          "output_type": "execute_result",
          "data": {
            "text/plain": [
              "<keras.callbacks.History at 0x7fb3408eab38>"
            ]
          },
          "metadata": {
            "tags": []
          },
          "execution_count": 12
        }
      ]
    },
    {
      "cell_type": "code",
      "metadata": {
        "id": "jJGln1_mrvMz",
        "colab_type": "code",
        "outputId": "3148c903-2208-43cc-c48c-38e4f2487119",
        "colab": {
          "base_uri": "https://localhost:8080/",
          "height": 1071
        }
      },
      "source": [
        "model.fit(X_train, Y_train, batch_size=128, epochs=30, verbose=1, validation_data=(X_test, Y_test))"
      ],
      "execution_count": 13,
      "outputs": [
        {
          "output_type": "stream",
          "text": [
            "Train on 60000 samples, validate on 10000 samples\n",
            "Epoch 1/30\n",
            "60000/60000 [==============================] - 6s 95us/step - loss: 0.0145 - acc: 0.9954 - val_loss: 0.0217 - val_acc: 0.9931\n",
            "Epoch 2/30\n",
            "60000/60000 [==============================] - 5s 90us/step - loss: 0.0135 - acc: 0.9956 - val_loss: 0.0206 - val_acc: 0.9932\n",
            "Epoch 3/30\n",
            "60000/60000 [==============================] - 5s 90us/step - loss: 0.0131 - acc: 0.9959 - val_loss: 0.0200 - val_acc: 0.9939\n",
            "Epoch 4/30\n",
            "60000/60000 [==============================] - 5s 90us/step - loss: 0.0131 - acc: 0.9956 - val_loss: 0.0241 - val_acc: 0.9927\n",
            "Epoch 5/30\n",
            "60000/60000 [==============================] - 5s 89us/step - loss: 0.0137 - acc: 0.9953 - val_loss: 0.0261 - val_acc: 0.9928\n",
            "Epoch 6/30\n",
            "60000/60000 [==============================] - 5s 90us/step - loss: 0.0145 - acc: 0.9950 - val_loss: 0.0225 - val_acc: 0.9935\n",
            "Epoch 7/30\n",
            "60000/60000 [==============================] - 5s 90us/step - loss: 0.0133 - acc: 0.9952 - val_loss: 0.0225 - val_acc: 0.9931\n",
            "Epoch 8/30\n",
            "60000/60000 [==============================] - 5s 89us/step - loss: 0.0135 - acc: 0.9955 - val_loss: 0.0238 - val_acc: 0.9930\n",
            "Epoch 9/30\n",
            "60000/60000 [==============================] - 6s 95us/step - loss: 0.0120 - acc: 0.9958 - val_loss: 0.0238 - val_acc: 0.9936\n",
            "Epoch 10/30\n",
            "60000/60000 [==============================] - 6s 99us/step - loss: 0.0117 - acc: 0.9961 - val_loss: 0.0246 - val_acc: 0.9937\n",
            "Epoch 11/30\n",
            "60000/60000 [==============================] - 5s 90us/step - loss: 0.0128 - acc: 0.9953 - val_loss: 0.0256 - val_acc: 0.9932\n",
            "Epoch 12/30\n",
            "60000/60000 [==============================] - 5s 90us/step - loss: 0.0122 - acc: 0.9960 - val_loss: 0.0268 - val_acc: 0.9934\n",
            "Epoch 13/30\n",
            "60000/60000 [==============================] - 5s 90us/step - loss: 0.0122 - acc: 0.9957 - val_loss: 0.0250 - val_acc: 0.9930\n",
            "Epoch 14/30\n",
            "60000/60000 [==============================] - 5s 89us/step - loss: 0.0115 - acc: 0.9960 - val_loss: 0.0285 - val_acc: 0.9923\n",
            "Epoch 15/30\n",
            "60000/60000 [==============================] - 5s 90us/step - loss: 0.0118 - acc: 0.9963 - val_loss: 0.0295 - val_acc: 0.9933\n",
            "Epoch 16/30\n",
            "60000/60000 [==============================] - 5s 89us/step - loss: 0.0117 - acc: 0.9962 - val_loss: 0.0236 - val_acc: 0.9941\n",
            "Epoch 17/30\n",
            "60000/60000 [==============================] - 5s 90us/step - loss: 0.0114 - acc: 0.9960 - val_loss: 0.0224 - val_acc: 0.9940\n",
            "Epoch 18/30\n",
            "60000/60000 [==============================] - 5s 90us/step - loss: 0.0119 - acc: 0.9961 - val_loss: 0.0236 - val_acc: 0.9934\n",
            "Epoch 19/30\n",
            "60000/60000 [==============================] - 5s 89us/step - loss: 0.0114 - acc: 0.9962 - val_loss: 0.0238 - val_acc: 0.9940\n",
            "Epoch 20/30\n",
            "60000/60000 [==============================] - 5s 90us/step - loss: 0.0100 - acc: 0.9965 - val_loss: 0.0232 - val_acc: 0.9938\n",
            "Epoch 21/30\n",
            "60000/60000 [==============================] - 5s 90us/step - loss: 0.0107 - acc: 0.9966 - val_loss: 0.0242 - val_acc: 0.9935\n",
            "Epoch 22/30\n",
            "60000/60000 [==============================] - 5s 89us/step - loss: 0.0116 - acc: 0.9962 - val_loss: 0.0245 - val_acc: 0.9934\n",
            "Epoch 23/30\n",
            "60000/60000 [==============================] - 5s 90us/step - loss: 0.0110 - acc: 0.9962 - val_loss: 0.0270 - val_acc: 0.9925\n",
            "Epoch 24/30\n",
            "60000/60000 [==============================] - 6s 98us/step - loss: 0.0103 - acc: 0.9962 - val_loss: 0.0280 - val_acc: 0.9933\n",
            "Epoch 25/30\n",
            "60000/60000 [==============================] - 6s 98us/step - loss: 0.0115 - acc: 0.9963 - val_loss: 0.0224 - val_acc: 0.9938\n",
            "Epoch 26/30\n",
            "60000/60000 [==============================] - 5s 90us/step - loss: 0.0097 - acc: 0.9968 - val_loss: 0.0220 - val_acc: 0.9945\n",
            "Epoch 27/30\n",
            "60000/60000 [==============================] - 5s 90us/step - loss: 0.0105 - acc: 0.9964 - val_loss: 0.0220 - val_acc: 0.9935\n",
            "Epoch 28/30\n",
            "60000/60000 [==============================] - 5s 90us/step - loss: 0.0109 - acc: 0.9962 - val_loss: 0.0222 - val_acc: 0.9939\n",
            "Epoch 29/30\n",
            "60000/60000 [==============================] - 5s 90us/step - loss: 0.0100 - acc: 0.9965 - val_loss: 0.0265 - val_acc: 0.9935\n",
            "Epoch 30/30\n",
            "60000/60000 [==============================] - 5s 90us/step - loss: 0.0108 - acc: 0.9965 - val_loss: 0.0248 - val_acc: 0.9938\n"
          ],
          "name": "stdout"
        },
        {
          "output_type": "execute_result",
          "data": {
            "text/plain": [
              "<keras.callbacks.History at 0x7fb2f57a06d8>"
            ]
          },
          "metadata": {
            "tags": []
          },
          "execution_count": 13
        }
      ]
    },
    {
      "cell_type": "code",
      "metadata": {
        "id": "qeqnTRyw0XyQ",
        "colab_type": "code",
        "outputId": "c2c7074b-ae69-463b-efed-09dd1be300f9",
        "colab": {
          "base_uri": "https://localhost:8080/",
          "height": 51
        }
      },
      "source": [
        "# evaluating and printing model score\n",
        "score = model.evaluate(X_test, Y_test, verbose=0)\n",
        "print('Loss:', score[0])\n",
        "print('Accuracy:', score[1])"
      ],
      "execution_count": 14,
      "outputs": [
        {
          "output_type": "stream",
          "text": [
            "Loss: 0.024809244740503163\n",
            "Accuracy: 0.9938\n"
          ],
          "name": "stdout"
        }
      ]
    }
  ]
}
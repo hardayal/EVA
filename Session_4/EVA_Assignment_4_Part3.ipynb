{
  "nbformat": 4,
  "nbformat_minor": 0,
  "metadata": {
    "colab": {
      "name": "EVA_Assignment_4_Part3.ipynb",
      "version": "0.3.2",
      "provenance": [],
      "collapsed_sections": []
    },
    "kernelspec": {
      "name": "python3",
      "display_name": "Python 3"
    },
    "accelerator": "GPU"
  },
  "cells": [
    {
      "cell_type": "markdown",
      "metadata": {
        "id": "SpUdboxzVif_",
        "colab_type": "text"
      },
      "source": [
        "####Improvement on 2nd file(EVA_Assignment_4_Part2.ipynb)-  DropOut, Epochs 25. Model achieved validation accuracy-99.28%"
      ]
    },
    {
      "cell_type": "markdown",
      "metadata": {
        "id": "aNyZv-Ec52ot",
        "colab_type": "text"
      },
      "source": [
        "# **Import Libraries and modules**"
      ]
    },
    {
      "cell_type": "code",
      "metadata": {
        "id": "3m3w1Cw49Zkt",
        "colab_type": "code",
        "outputId": "533153f8-c8fe-4f7e-9b83-d71a38db1f32",
        "colab": {
          "base_uri": "https://localhost:8080/",
          "height": 34
        }
      },
      "source": [
        "# https://keras.io/\n",
        "!pip install -q keras\n",
        "# Importing Keras library\n",
        "import keras"
      ],
      "execution_count": 1,
      "outputs": [
        {
          "output_type": "stream",
          "text": [
            "Using TensorFlow backend.\n"
          ],
          "name": "stderr"
        }
      ]
    },
    {
      "cell_type": "code",
      "metadata": {
        "id": "Eso6UHE080D4",
        "colab_type": "code",
        "colab": {}
      },
      "source": [
        "# Import numpy which is fundamental package for scientific computing in python\n",
        "import numpy as np\n",
        "# Using sequential model from models available in keras\n",
        "from keras.models import Sequential\n",
        "# Importing keras layers\n",
        "from keras.layers import Dense, Dropout, Activation, Flatten, Add\n",
        "from keras.layers import Convolution2D, MaxPooling2D\n",
        "# Importing utilities which transform data\n",
        "from keras.utils import np_utils\n",
        "# Importing mnist from dataset for image processing\n",
        "from keras.datasets import mnist"
      ],
      "execution_count": 0,
      "outputs": []
    },
    {
      "cell_type": "markdown",
      "metadata": {
        "id": "zByEi95J86RD",
        "colab_type": "text"
      },
      "source": [
        "### Load pre-shuffled MNIST data into train and test sets"
      ]
    },
    {
      "cell_type": "code",
      "metadata": {
        "id": "7eRM0QWN83PV",
        "colab_type": "code",
        "colab": {}
      },
      "source": [
        "# Loading train and test data \n",
        "(X_train, y_train), (X_test, y_test) = mnist.load_data()"
      ],
      "execution_count": 0,
      "outputs": []
    },
    {
      "cell_type": "code",
      "metadata": {
        "id": "4a4Be72j8-ZC",
        "colab_type": "code",
        "outputId": "6d616715-3f2c-4fa3-8df1-503328679157",
        "colab": {
          "base_uri": "https://localhost:8080/",
          "height": 303
        }
      },
      "source": [
        "# Printing train data shape\n",
        "print (X_train.shape)\n",
        "# Matplotlib is used for ploting graph\n",
        "from matplotlib import pyplot as plt\n",
        "# Ploting image under code cell\n",
        "%matplotlib inline\n",
        "# Ploted image of train[0] from train data set\n",
        "plt.imshow(X_train[0])"
      ],
      "execution_count": 4,
      "outputs": [
        {
          "output_type": "stream",
          "text": [
            "(60000, 28, 28)\n"
          ],
          "name": "stdout"
        },
        {
          "output_type": "execute_result",
          "data": {
            "text/plain": [
              "<matplotlib.image.AxesImage at 0x7f63983b0390>"
            ]
          },
          "metadata": {
            "tags": []
          },
          "execution_count": 4
        },
        {
          "output_type": "display_data",
          "data": {
            "image/png": "[encoded data removed]",
            "text/plain": [
              "<Figure size 432x288 with 1 Axes>"
            ]
          },
          "metadata": {
            "tags": []
          }
        }
      ]
    },
    {
      "cell_type": "code",
      "metadata": {
        "id": "dkmprriw9AnZ",
        "colab_type": "code",
        "colab": {}
      },
      "source": [
        "# Reshaping for train and test data for processing\n",
        "X_train = X_train.reshape(X_train.shape[0], 28, 28,1)\n",
        "X_test = X_test.reshape(X_test.shape[0], 28, 28,1)"
      ],
      "execution_count": 0,
      "outputs": []
    },
    {
      "cell_type": "code",
      "metadata": {
        "id": "X2m4YS4E9CRh",
        "colab_type": "code",
        "colab": {}
      },
      "source": [
        "# Conversion of train and test data set\n",
        "X_train = X_train.astype('float32')\n",
        "X_test = X_test.astype('float32')\n",
        "X_train /= 255\n",
        "X_test /= 255"
      ],
      "execution_count": 0,
      "outputs": []
    },
    {
      "cell_type": "code",
      "metadata": {
        "id": "0Mn0vAYD9DvB",
        "colab_type": "code",
        "outputId": "867f3694-1e03-41cd-daad-1f1a1507c410",
        "colab": {
          "base_uri": "https://localhost:8080/",
          "height": 34
        }
      },
      "source": [
        "# output of train data array and its data type\n",
        "y_train[:10]"
      ],
      "execution_count": 7,
      "outputs": [
        {
          "output_type": "execute_result",
          "data": {
            "text/plain": [
              "array([5, 0, 4, 1, 9, 2, 1, 3, 1, 4], dtype=uint8)"
            ]
          },
          "metadata": {
            "tags": []
          },
          "execution_count": 7
        }
      ]
    },
    {
      "cell_type": "code",
      "metadata": {
        "id": "ZG8JiXR39FHC",
        "colab_type": "code",
        "colab": {}
      },
      "source": [
        "# Convert 1-dimensional class arrays to 10-dimensional class matrices\n",
        "Y_train = np_utils.to_categorical(y_train, 10)\n",
        "Y_test = np_utils.to_categorical(y_test, 10)"
      ],
      "execution_count": 0,
      "outputs": []
    },
    {
      "cell_type": "code",
      "metadata": {
        "id": "fYlFRvKS9HMB",
        "colab_type": "code",
        "outputId": "2af850aa-5772-4b42-8ab0-31ee21d0c13c",
        "colab": {
          "base_uri": "https://localhost:8080/",
          "height": 187
        }
      },
      "source": [
        "# Output of train data set array of dimension 10\n",
        "Y_train[:10]\n"
      ],
      "execution_count": 9,
      "outputs": [
        {
          "output_type": "execute_result",
          "data": {
            "text/plain": [
              "array([[0., 0., 0., 0., 0., 1., 0., 0., 0., 0.],\n",
              "       [1., 0., 0., 0., 0., 0., 0., 0., 0., 0.],\n",
              "       [0., 0., 0., 0., 1., 0., 0., 0., 0., 0.],\n",
              "       [0., 1., 0., 0., 0., 0., 0., 0., 0., 0.],\n",
              "       [0., 0., 0., 0., 0., 0., 0., 0., 0., 1.],\n",
              "       [0., 0., 1., 0., 0., 0., 0., 0., 0., 0.],\n",
              "       [0., 1., 0., 0., 0., 0., 0., 0., 0., 0.],\n",
              "       [0., 0., 0., 1., 0., 0., 0., 0., 0., 0.],\n",
              "       [0., 1., 0., 0., 0., 0., 0., 0., 0., 0.],\n",
              "       [0., 0., 0., 0., 1., 0., 0., 0., 0., 0.]], dtype=float32)"
            ]
          },
          "metadata": {
            "tags": []
          },
          "execution_count": 9
        }
      ]
    },
    {
      "cell_type": "code",
      "metadata": {
        "id": "osKqT73Q9JJB",
        "colab_type": "code",
        "outputId": "2eed8e55-b0bc-4010-ecc5-54648be49350",
        "colab": {
          "base_uri": "https://localhost:8080/",
          "height": 1125
        }
      },
      "source": [
        "# Using Activation function from keras layers\n",
        "from keras.layers import Activation, BatchNormalization\n",
        "# Defining sequential model\n",
        "model = Sequential()\n",
        "# Using convolution and Max Pooling operation on input image\n",
        "\n",
        "model.add(Convolution2D(12, 3, 3, activation='relu', input_shape=(28,28,1))) #26\n",
        "model.add(BatchNormalization())\n",
        "model.add(Dropout(0.1))\n",
        "\n",
        "model.add(Convolution2D(12, 3, 3, activation='relu')) #24\n",
        "model.add(BatchNormalization())\n",
        "model.add(Dropout(0.1))\n",
        "\n",
        "model.add(Convolution2D(24, 3, 3, activation='relu')) #22\n",
        "\n",
        "model.add(MaxPooling2D(pool_size=(2, 2)))#11\n",
        "\n",
        "model.add(Convolution2D(12, 1, 1, activation='relu'))#11\n",
        "model.add(BatchNormalization())\n",
        "model.add(Dropout(0.1))\n",
        "\n",
        "\n",
        "model.add(Convolution2D(12, 3, 3, activation='relu'))#9\n",
        "model.add(BatchNormalization())\n",
        "model.add(Dropout(0.1))\n",
        "\n",
        "\n",
        "model.add(Convolution2D(24, 3, 3, activation='relu'))#7\n",
        "model.add(BatchNormalization())\n",
        "model.add(Dropout(0.1))\n",
        "\n",
        "\n",
        "model.add(Convolution2D(10, 1))\n",
        "model.add(Convolution2D(10, 7))\n",
        "\n",
        "\n",
        "# using flatten to convert multidimension array into 1-d array\n",
        "model.add(Flatten())\n",
        "# Using softmax activation function for probability distribution\n",
        "model.add(Activation('softmax'))\n",
        "# Print Model summary \n",
        "model.summary()\n"
      ],
      "execution_count": 10,
      "outputs": [
        {
          "output_type": "stream",
          "text": [
            "WARNING:tensorflow:From /usr/local/lib/python3.6/dist-packages/tensorflow/python/framework/op_def_library.py:263: colocate_with (from tensorflow.python.framework.ops) is deprecated and will be removed in a future version.\n",
            "Instructions for updating:\n",
            "Colocations handled automatically by placer.\n"
          ],
          "name": "stdout"
        },
        {
          "output_type": "stream",
          "text": [
            "/usr/local/lib/python3.6/dist-packages/ipykernel_launcher.py:6: UserWarning: Update your `Conv2D` call to the Keras 2 API: `Conv2D(12, (3, 3), activation=\"relu\", input_shape=(28, 28, 1...)`\n",
            "  \n"
          ],
          "name": "stderr"
        },
        {
          "output_type": "stream",
          "text": [
            "WARNING:tensorflow:From /usr/local/lib/python3.6/dist-packages/keras/backend/tensorflow_backend.py:3445: calling dropout (from tensorflow.python.ops.nn_ops) with keep_prob is deprecated and will be removed in a future version.\n",
            "Instructions for updating:\n",
            "Please use `rate` instead of `keep_prob`. Rate should be set to `rate = 1 - keep_prob`.\n"
          ],
          "name": "stdout"
        },
        {
          "output_type": "stream",
          "text": [
            "/usr/local/lib/python3.6/dist-packages/ipykernel_launcher.py:10: UserWarning: Update your `Conv2D` call to the Keras 2 API: `Conv2D(12, (3, 3), activation=\"relu\")`\n",
            "  # Remove the CWD from sys.path while we load stuff.\n",
            "/usr/local/lib/python3.6/dist-packages/ipykernel_launcher.py:14: UserWarning: Update your `Conv2D` call to the Keras 2 API: `Conv2D(24, (3, 3), activation=\"relu\")`\n",
            "  \n",
            "/usr/local/lib/python3.6/dist-packages/ipykernel_launcher.py:18: UserWarning: Update your `Conv2D` call to the Keras 2 API: `Conv2D(12, (1, 1), activation=\"relu\")`\n",
            "/usr/local/lib/python3.6/dist-packages/ipykernel_launcher.py:23: UserWarning: Update your `Conv2D` call to the Keras 2 API: `Conv2D(12, (3, 3), activation=\"relu\")`\n",
            "/usr/local/lib/python3.6/dist-packages/ipykernel_launcher.py:28: UserWarning: Update your `Conv2D` call to the Keras 2 API: `Conv2D(24, (3, 3), activation=\"relu\")`\n"
          ],
          "name": "stderr"
        },
        {
          "output_type": "stream",
          "text": [
            "_________________________________________________________________\n",
            "Layer (type)                 Output Shape              Param #   \n",
            "=================================================================\n",
            "conv2d_1 (Conv2D)            (None, 26, 26, 12)        120       \n",
            "_________________________________________________________________\n",
            "batch_normalization_1 (Batch (None, 26, 26, 12)        48        \n",
            "_________________________________________________________________\n",
            "dropout_1 (Dropout)          (None, 26, 26, 12)        0         \n",
            "_________________________________________________________________\n",
            "conv2d_2 (Conv2D)            (None, 24, 24, 12)        1308      \n",
            "_________________________________________________________________\n",
            "batch_normalization_2 (Batch (None, 24, 24, 12)        48        \n",
            "_________________________________________________________________\n",
            "dropout_2 (Dropout)          (None, 24, 24, 12)        0         \n",
            "_________________________________________________________________\n",
            "conv2d_3 (Conv2D)            (None, 22, 22, 24)        2616      \n",
            "_________________________________________________________________\n",
            "max_pooling2d_1 (MaxPooling2 (None, 11, 11, 24)        0         \n",
            "_________________________________________________________________\n",
            "conv2d_4 (Conv2D)            (None, 11, 11, 12)        300       \n",
            "_________________________________________________________________\n",
            "batch_normalization_3 (Batch (None, 11, 11, 12)        48        \n",
            "_________________________________________________________________\n",
            "dropout_3 (Dropout)          (None, 11, 11, 12)        0         \n",
            "_________________________________________________________________\n",
            "conv2d_5 (Conv2D)            (None, 9, 9, 12)          1308      \n",
            "_________________________________________________________________\n",
            "batch_normalization_4 (Batch (None, 9, 9, 12)          48        \n",
            "_________________________________________________________________\n",
            "dropout_4 (Dropout)          (None, 9, 9, 12)          0         \n",
            "_________________________________________________________________\n",
            "conv2d_6 (Conv2D)            (None, 7, 7, 24)          2616      \n",
            "_________________________________________________________________\n",
            "batch_normalization_5 (Batch (None, 7, 7, 24)          96        \n",
            "_________________________________________________________________\n",
            "dropout_5 (Dropout)          (None, 7, 7, 24)          0         \n",
            "_________________________________________________________________\n",
            "conv2d_7 (Conv2D)            (None, 7, 7, 10)          250       \n",
            "_________________________________________________________________\n",
            "conv2d_8 (Conv2D)            (None, 1, 1, 10)          4910      \n",
            "_________________________________________________________________\n",
            "flatten_1 (Flatten)          (None, 10)                0         \n",
            "_________________________________________________________________\n",
            "activation_1 (Activation)    (None, 10)                0         \n",
            "=================================================================\n",
            "Total params: 13,716\n",
            "Trainable params: 13,572\n",
            "Non-trainable params: 144\n",
            "_________________________________________________________________\n"
          ],
          "name": "stdout"
        }
      ]
    },
    {
      "cell_type": "code",
      "metadata": {
        "id": "Zp6SuGrL9M3h",
        "colab_type": "code",
        "colab": {}
      },
      "source": [
        "# Compile model\n",
        "model.compile(loss='categorical_crossentropy', optimizer='adam', metrics=['accuracy'])"
      ],
      "execution_count": 0,
      "outputs": []
    },
    {
      "cell_type": "code",
      "metadata": {
        "id": "4xWoKhPY9Of5",
        "colab_type": "code",
        "outputId": "36faa889-0d9f-4c62-b37e-8ff9e9fdc1ed",
        "colab": {
          "base_uri": "https://localhost:8080/",
          "height": 972
        }
      },
      "source": [
        "# fit model for training data\n",
        "model.fit(X_train, Y_train, batch_size=32, epochs=25, verbose=1, validation_data=(X_test, Y_test))\n",
        "\n"
      ],
      "execution_count": 12,
      "outputs": [
        {
          "output_type": "stream",
          "text": [
            "WARNING:tensorflow:From /usr/local/lib/python3.6/dist-packages/tensorflow/python/ops/math_ops.py:3066: to_int32 (from tensorflow.python.ops.math_ops) is deprecated and will be removed in a future version.\n",
            "Instructions for updating:\n",
            "Use tf.cast instead.\n",
            "Train on 60000 samples, validate on 10000 samples\n",
            "Epoch 1/25\n",
            "60000/60000 [==============================] - 35s 590us/step - loss: 0.2025 - acc: 0.9369 - val_loss: 0.0624 - val_acc: 0.9795\n",
            "Epoch 2/25\n",
            "60000/60000 [==============================] - 34s 565us/step - loss: 0.0694 - acc: 0.9780 - val_loss: 0.0349 - val_acc: 0.9887\n",
            "Epoch 3/25\n",
            "60000/60000 [==============================] - 30s 503us/step - loss: 0.0520 - acc: 0.9829 - val_loss: 0.0383 - val_acc: 0.9876\n",
            "Epoch 4/25\n",
            "60000/60000 [==============================] - 31s 517us/step - loss: 0.0467 - acc: 0.9849 - val_loss: 0.0312 - val_acc: 0.9896\n",
            "Epoch 5/25\n",
            "60000/60000 [==============================] - 19s 309us/step - loss: 0.0403 - acc: 0.9875 - val_loss: 0.0348 - val_acc: 0.9882\n",
            "Epoch 6/25\n",
            "60000/60000 [==============================] - 19s 314us/step - loss: 0.0369 - acc: 0.9880 - val_loss: 0.0289 - val_acc: 0.9905\n",
            "Epoch 7/25\n",
            "60000/60000 [==============================] - 19s 309us/step - loss: 0.0336 - acc: 0.9897 - val_loss: 0.0225 - val_acc: 0.9924\n",
            "Epoch 8/25\n",
            "60000/60000 [==============================] - 20s 332us/step - loss: 0.0317 - acc: 0.9897 - val_loss: 0.0255 - val_acc: 0.9925\n",
            "Epoch 9/25\n",
            "60000/60000 [==============================] - 18s 308us/step - loss: 0.0301 - acc: 0.9901 - val_loss: 0.0258 - val_acc: 0.9918\n",
            "Epoch 10/25\n",
            "60000/60000 [==============================] - 18s 308us/step - loss: 0.0267 - acc: 0.9912 - val_loss: 0.0258 - val_acc: 0.9917\n",
            "Epoch 11/25\n",
            "60000/60000 [==============================] - 19s 310us/step - loss: 0.0251 - acc: 0.9920 - val_loss: 0.0283 - val_acc: 0.9916\n",
            "Epoch 12/25\n",
            "60000/60000 [==============================] - 20s 336us/step - loss: 0.0263 - acc: 0.9912 - val_loss: 0.0236 - val_acc: 0.9928\n",
            "Epoch 13/25\n",
            "60000/60000 [==============================] - 20s 338us/step - loss: 0.0240 - acc: 0.9920 - val_loss: 0.0231 - val_acc: 0.9919\n",
            "Epoch 14/25\n",
            "60000/60000 [==============================] - 19s 309us/step - loss: 0.0238 - acc: 0.9923 - val_loss: 0.0279 - val_acc: 0.9912\n",
            "Epoch 15/25\n",
            "60000/60000 [==============================] - 18s 308us/step - loss: 0.0230 - acc: 0.9923 - val_loss: 0.0212 - val_acc: 0.9932\n",
            "Epoch 16/25\n",
            "60000/60000 [==============================] - 19s 316us/step - loss: 0.0235 - acc: 0.9924 - val_loss: 0.0210 - val_acc: 0.9933\n",
            "Epoch 17/25\n",
            "60000/60000 [==============================] - 21s 348us/step - loss: 0.0202 - acc: 0.9932 - val_loss: 0.0257 - val_acc: 0.9919\n",
            "Epoch 18/25\n",
            "60000/60000 [==============================] - 19s 316us/step - loss: 0.0213 - acc: 0.9933 - val_loss: 0.0227 - val_acc: 0.9929\n",
            "Epoch 19/25\n",
            "60000/60000 [==============================] - 19s 325us/step - loss: 0.0200 - acc: 0.9935 - val_loss: 0.0220 - val_acc: 0.9931\n",
            "Epoch 20/25\n",
            "60000/60000 [==============================] - 31s 509us/step - loss: 0.0189 - acc: 0.9935 - val_loss: 0.0223 - val_acc: 0.9931\n",
            "Epoch 21/25\n",
            "60000/60000 [==============================] - 31s 522us/step - loss: 0.0203 - acc: 0.9930 - val_loss: 0.0233 - val_acc: 0.9929\n",
            "Epoch 22/25\n",
            "60000/60000 [==============================] - 31s 516us/step - loss: 0.0178 - acc: 0.9941 - val_loss: 0.0227 - val_acc: 0.9927\n",
            "Epoch 23/25\n",
            "60000/60000 [==============================] - 33s 547us/step - loss: 0.0173 - acc: 0.9942 - val_loss: 0.0225 - val_acc: 0.9930\n",
            "Epoch 24/25\n",
            "60000/60000 [==============================] - 31s 517us/step - loss: 0.0177 - acc: 0.9942 - val_loss: 0.0235 - val_acc: 0.9924\n",
            "Epoch 25/25\n",
            "60000/60000 [==============================] - 33s 542us/step - loss: 0.0162 - acc: 0.9948 - val_loss: 0.0230 - val_acc: 0.9928\n"
          ],
          "name": "stdout"
        },
        {
          "output_type": "execute_result",
          "data": {
            "text/plain": [
              "<keras.callbacks.History at 0x7f63f2bc8400>"
            ]
          },
          "metadata": {
            "tags": []
          },
          "execution_count": 12
        }
      ]
    },
    {
      "cell_type": "code",
      "metadata": {
        "id": "qeqnTRyw0XyQ",
        "colab_type": "code",
        "outputId": "42c97167-c6db-43d7-cc9b-1196d16cb324",
        "colab": {
          "base_uri": "https://localhost:8080/",
          "height": 51
        }
      },
      "source": [
        "# evaluating and printing model score\n",
        "score = model.evaluate(X_test, Y_test, verbose=0)\n",
        "print('Loss:', score[0])\n",
        "print('Accuracy:', score[1])"
      ],
      "execution_count": 13,
      "outputs": [
        {
          "output_type": "stream",
          "text": [
            "Loss: 0.022964116161630865\n",
            "Accuracy: 0.9928\n"
          ],
          "name": "stdout"
        }
      ]
    }
  ]
}
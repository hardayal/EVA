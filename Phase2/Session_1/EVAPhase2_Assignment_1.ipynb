{
  "nbformat": 4,
  "nbformat_minor": 0,
  "metadata": {
    "colab": {
      "name": "EVAPhase2_Assignment_1.ipynb",
      "provenance": [],
      "collapsed_sections": []
    },
    "kernelspec": {
      "name": "python3",
      "display_name": "Python 3"
    },
    "accelerator": "GPU"
  },
  "cells": [
    {
      "cell_type": "code",
      "metadata": {
        "id": "pVVvac8UJAqr",
        "colab_type": "code",
        "outputId": "82b17446-a69a-4b34-c6c9-5c9664ea8d61",
        "colab": {
          "base_uri": "https://localhost:8080/",
          "height": 122
        }
      },
      "source": [
        "from google.colab import drive\n",
        "drive.mount('/content/drive')"
      ],
      "execution_count": 1,
      "outputs": [
        {
          "output_type": "stream",
          "text": [
            "Go to this URL in a browser: https://accounts.google.com/o/oauth2/auth?client_id=947318989803-6bn6qk8qdgf4n4g3pfee6491hc0brc4i.apps.googleusercontent.com&redirect_uri=urn%3aietf%3awg%3aoauth%3a2.0%3aoob&response_type=code&scope=email%20https%3a%2f%2fwww.googleapis.com%2fauth%2fdocs.test%20https%3a%2f%2fwww.googleapis.com%2fauth%2fdrive%20https%3a%2f%2fwww.googleapis.com%2fauth%2fdrive.photos.readonly%20https%3a%2f%2fwww.googleapis.com%2fauth%2fpeopleapi.readonly\n",
            "\n",
            "Enter your authorization code:\n",
            "··········\n",
            "Mounted at /content/drive\n"
          ],
          "name": "stdout"
        }
      ]
    },
    {
      "cell_type": "code",
      "metadata": {
        "id": "SEWKyNgi_LrB",
        "colab_type": "code",
        "colab": {}
      },
      "source": [
        "#importing numpy library\n",
        "import numpy as np"
      ],
      "execution_count": 0,
      "outputs": []
    },
    {
      "cell_type": "code",
      "metadata": {
        "id": "c6UFdhwZ_WlV",
        "colab_type": "code",
        "colab": {}
      },
      "source": [
        "samples = ['The cat sat on the mat.', 'The dog ate my homework.']"
      ],
      "execution_count": 0,
      "outputs": []
    },
    {
      "cell_type": "code",
      "metadata": {
        "id": "workXLj4_iGu",
        "colab_type": "code",
        "colab": {}
      },
      "source": [
        "#for tokenizing the samples\n",
        "token_index = {}\n",
        "for sample in samples:\n",
        "  for word in sample.split():\n",
        "    if word not in token_index:\n",
        "      token_index[word] = len(token_index) + 1"
      ],
      "execution_count": 0,
      "outputs": []
    },
    {
      "cell_type": "code",
      "metadata": {
        "id": "CPXDXczL_0Cd",
        "colab_type": "code",
        "colab": {}
      },
      "source": [
        "#each sample will have the max length as defined\n",
        "max_length = 10"
      ],
      "execution_count": 0,
      "outputs": []
    },
    {
      "cell_type": "code",
      "metadata": {
        "id": "BcP-CY_2AHPT",
        "colab_type": "code",
        "colab": {}
      },
      "source": [
        "#for storing the results\n",
        "results = np.zeros(shape=(len(samples),\n",
        "                          max_length,\n",
        "                          max(token_index.values()) + 1))"
      ],
      "execution_count": 0,
      "outputs": []
    },
    {
      "cell_type": "code",
      "metadata": {
        "id": "WHH89b7pAWbN",
        "colab_type": "code",
        "colab": {}
      },
      "source": [
        "#for creating the matrix\n",
        "for i, sample in enumerate(samples):\n",
        "  for j, word in list(enumerate(sample.split()))[:max_length]:\n",
        "    index = token_index.get(word)\n",
        "    results[i, j, index] = 1."
      ],
      "execution_count": 0,
      "outputs": []
    },
    {
      "cell_type": "code",
      "metadata": {
        "id": "VsXc0aA4AoAA",
        "colab_type": "code",
        "colab": {}
      },
      "source": [
        "import string"
      ],
      "execution_count": 0,
      "outputs": []
    },
    {
      "cell_type": "code",
      "metadata": {
        "id": "dQ4YNXl0Aq_J",
        "colab_type": "code",
        "colab": {}
      },
      "source": [
        "samples = ['The cat sat on the mat.', 'The dog ate my homework.']"
      ],
      "execution_count": 0,
      "outputs": []
    },
    {
      "cell_type": "code",
      "metadata": {
        "id": "QHj2g_cKAusL",
        "colab_type": "code",
        "colab": {}
      },
      "source": [
        "#all printable ASCII characters\n",
        "characters = string.printable"
      ],
      "execution_count": 0,
      "outputs": []
    },
    {
      "cell_type": "code",
      "metadata": {
        "id": "nsBDzo3oA0XF",
        "colab_type": "code",
        "colab": {}
      },
      "source": [
        "token_index = dict(zip(range(1, len(characters) + 1), characters))"
      ],
      "execution_count": 0,
      "outputs": []
    },
    {
      "cell_type": "code",
      "metadata": {
        "id": "Y32LdFAPA26n",
        "colab_type": "code",
        "colab": {}
      },
      "source": [
        "max_length = 50\n",
        "results = np.zeros((len(samples), max_length, max(token_index.keys()) + 1))\n",
        "for i, sample in enumerate(samples):\n",
        "  for j, character in enumerate(sample):\n",
        "    index = token_index.get(character)\n",
        "    results[i, j, index] = 1."
      ],
      "execution_count": 0,
      "outputs": []
    },
    {
      "cell_type": "code",
      "metadata": {
        "id": "unWZVTYQA8hg",
        "colab_type": "code",
        "outputId": "c26bd015-3dbb-488f-82e0-9d709aaa5e08",
        "colab": {
          "base_uri": "https://localhost:8080/",
          "height": 80
        }
      },
      "source": [
        "from keras.preprocessing.text import Tokenizer"
      ],
      "execution_count": 13,
      "outputs": [
        {
          "output_type": "stream",
          "text": [
            "Using TensorFlow backend.\n"
          ],
          "name": "stderr"
        },
        {
          "output_type": "display_data",
          "data": {
            "text/html": [
              "<p style=\"color: red;\">\n",
              "The default version of TensorFlow in Colab will soon switch to TensorFlow 2.x.<br>\n",
              "We recommend you <a href=\"https://www.tensorflow.org/guide/migrate\" target=\"_blank\">upgrade</a> now \n",
              "or ensure your notebook will continue to use TensorFlow 1.x via the <code>%tensorflow_version 1.x</code> magic:\n",
              "<a href=\"https://colab.research.google.com/notebooks/tensorflow_version.ipynb\" target=\"_blank\">more info</a>.</p>\n"
            ],
            "text/plain": [
              "<IPython.core.display.HTML object>"
            ]
          },
          "metadata": {
            "tags": []
          }
        }
      ]
    },
    {
      "cell_type": "code",
      "metadata": {
        "id": "cR16xeI1BAL-",
        "colab_type": "code",
        "colab": {}
      },
      "source": [
        "samples = ['The cat sat on the mat.', 'The dog ate my homework.']"
      ],
      "execution_count": 0,
      "outputs": []
    },
    {
      "cell_type": "code",
      "metadata": {
        "id": "2JAt7l_2BC9w",
        "colab_type": "code",
        "colab": {}
      },
      "source": [
        "#for taking only 1000 common words\n",
        "tokenizer = Tokenizer(num_words=1000)"
      ],
      "execution_count": 0,
      "outputs": []
    },
    {
      "cell_type": "code",
      "metadata": {
        "id": "kY5D_OP1BI0g",
        "colab_type": "code",
        "colab": {}
      },
      "source": [
        "#builds the word index\n",
        "tokenizer.fit_on_texts(samples)"
      ],
      "execution_count": 0,
      "outputs": []
    },
    {
      "cell_type": "code",
      "metadata": {
        "id": "GwsiC92pBLSK",
        "colab_type": "code",
        "colab": {}
      },
      "source": [
        "#turns strings into lists of integer indices\n",
        "sequences = tokenizer.texts_to_sequences(samples)"
      ],
      "execution_count": 0,
      "outputs": []
    },
    {
      "cell_type": "code",
      "metadata": {
        "id": "yYPj8yxoBY-M",
        "colab_type": "code",
        "colab": {}
      },
      "source": [
        "one_hot_results = tokenizer.texts_to_matrix(samples, mode='binary')"
      ],
      "execution_count": 0,
      "outputs": []
    },
    {
      "cell_type": "code",
      "metadata": {
        "id": "GMrSOSH7BxHS",
        "colab_type": "code",
        "outputId": "87ab3c08-3e29-47d8-d724-73610053ab7a",
        "colab": {
          "base_uri": "https://localhost:8080/",
          "height": 34
        }
      },
      "source": [
        "word_index = tokenizer.word_index\n",
        "print('Found %s unique tokens.' % len(word_index))"
      ],
      "execution_count": 19,
      "outputs": [
        {
          "output_type": "stream",
          "text": [
            "Found 9 unique tokens.\n"
          ],
          "name": "stdout"
        }
      ]
    },
    {
      "cell_type": "code",
      "metadata": {
        "id": "pcuq6b83Bw5h",
        "colab_type": "code",
        "colab": {}
      },
      "source": [
        "samples = ['The cat sat on the mat.', 'The dog ate my homework.']"
      ],
      "execution_count": 0,
      "outputs": []
    },
    {
      "cell_type": "code",
      "metadata": {
        "id": "UqPrlT-yB23r",
        "colab_type": "code",
        "colab": {}
      },
      "source": [
        "dimensionality = 1000\n",
        "max_length = 10"
      ],
      "execution_count": 0,
      "outputs": []
    },
    {
      "cell_type": "code",
      "metadata": {
        "id": "1448frEIB7bO",
        "colab_type": "code",
        "colab": {}
      },
      "source": [
        "results = np.zeros((len(samples), max_length, dimensionality))\n",
        "for i, sample in enumerate(samples):\n",
        "  for j, word in list(enumerate(sample.split()))[:max_length]:\n",
        "    index = abs(hash(word)) % dimensionality\n",
        "    results[i, j, index] = 1."
      ],
      "execution_count": 0,
      "outputs": []
    },
    {
      "cell_type": "code",
      "metadata": {
        "id": "LPuDhi7YB_uy",
        "colab_type": "code",
        "colab": {}
      },
      "source": [
        "from keras.layers import Embedding"
      ],
      "execution_count": 0,
      "outputs": []
    },
    {
      "cell_type": "code",
      "metadata": {
        "id": "cHoEoQ_mCC57",
        "colab_type": "code",
        "outputId": "e5a98749-6d6c-4918-84d7-bd1d34df87dd",
        "colab": {
          "base_uri": "https://localhost:8080/",
          "height": 71
        }
      },
      "source": [
        "#1000 possible tokens, 64dimensionality result embeddings\n",
        "embedding_layer = Embedding(1000, 64)"
      ],
      "execution_count": 24,
      "outputs": [
        {
          "output_type": "stream",
          "text": [
            "WARNING:tensorflow:From /usr/local/lib/python3.6/dist-packages/keras/backend/tensorflow_backend.py:66: The name tf.get_default_graph is deprecated. Please use tf.compat.v1.get_default_graph instead.\n",
            "\n"
          ],
          "name": "stdout"
        }
      ]
    },
    {
      "cell_type": "code",
      "metadata": {
        "id": "O-y6vZAxCHGs",
        "colab_type": "code",
        "colab": {}
      },
      "source": [
        "# import imdb dataset which has positive and negative reviews\n",
        "from keras.datasets import imdb\n",
        "from keras import preprocessing"
      ],
      "execution_count": 0,
      "outputs": []
    },
    {
      "cell_type": "code",
      "metadata": {
        "id": "R4rkYMl5CecX",
        "colab_type": "code",
        "colab": {}
      },
      "source": [
        "# we are taking 10000 words and max length per review will be 20\n",
        "max_features = 10000\n",
        "maxlen = 20"
      ],
      "execution_count": 0,
      "outputs": []
    },
    {
      "cell_type": "code",
      "metadata": {
        "id": "FTieAe6aCjDV",
        "colab_type": "code",
        "outputId": "0369e71b-d85b-4d8e-b74a-72a131d6e9e7",
        "colab": {
          "base_uri": "https://localhost:8080/",
          "height": 51
        }
      },
      "source": [
        "(x_train, y_train), (x_test, y_test) = imdb.load_data(\n",
        "    num_words=max_features)"
      ],
      "execution_count": 27,
      "outputs": [
        {
          "output_type": "stream",
          "text": [
            "Downloading data from https://s3.amazonaws.com/text-datasets/imdb.npz\n",
            "17465344/17464789 [==============================] - 0s 0us/step\n"
          ],
          "name": "stdout"
        }
      ]
    },
    {
      "cell_type": "code",
      "metadata": {
        "id": "aGDafL7ECnb9",
        "colab_type": "code",
        "colab": {}
      },
      "source": [
        "# we are padding the reviews with max length\n",
        "x_train = preprocessing.sequence.pad_sequences(x_train, maxlen=maxlen)"
      ],
      "execution_count": 0,
      "outputs": []
    },
    {
      "cell_type": "code",
      "metadata": {
        "id": "xaKzMnmGCsoY",
        "colab_type": "code",
        "colab": {}
      },
      "source": [
        "x_test = preprocessing.sequence.pad_sequences(x_test, maxlen=maxlen)"
      ],
      "execution_count": 0,
      "outputs": []
    },
    {
      "cell_type": "code",
      "metadata": {
        "id": "INqSjnByCu56",
        "colab_type": "code",
        "outputId": "601f0a45-5256-4708-9d06-efbe96722f6b",
        "colab": {
          "base_uri": "https://localhost:8080/",
          "height": 462
        }
      },
      "source": [
        "# we are converting each review with max length 20 to the new dimensionality 8.\n",
        "from keras.models import Sequential\n",
        "from keras.layers import Flatten, Dense\n",
        "model = Sequential()\n",
        "model.add(Embedding(10000, 8, input_length=maxlen))\n",
        "model.add(Flatten())\n",
        "model.add(Dense(1, activation='sigmoid'))\n",
        "model.compile(optimizer='rmsprop', loss='binary_crossentropy', metrics=['acc'])\n",
        "model.summary()"
      ],
      "execution_count": 30,
      "outputs": [
        {
          "output_type": "stream",
          "text": [
            "WARNING:tensorflow:From /usr/local/lib/python3.6/dist-packages/keras/backend/tensorflow_backend.py:541: The name tf.placeholder is deprecated. Please use tf.compat.v1.placeholder instead.\n",
            "\n",
            "WARNING:tensorflow:From /usr/local/lib/python3.6/dist-packages/keras/backend/tensorflow_backend.py:4432: The name tf.random_uniform is deprecated. Please use tf.random.uniform instead.\n",
            "\n",
            "WARNING:tensorflow:From /usr/local/lib/python3.6/dist-packages/keras/optimizers.py:793: The name tf.train.Optimizer is deprecated. Please use tf.compat.v1.train.Optimizer instead.\n",
            "\n",
            "WARNING:tensorflow:From /usr/local/lib/python3.6/dist-packages/keras/backend/tensorflow_backend.py:3657: The name tf.log is deprecated. Please use tf.math.log instead.\n",
            "\n",
            "WARNING:tensorflow:From /usr/local/lib/python3.6/dist-packages/tensorflow_core/python/ops/nn_impl.py:183: where (from tensorflow.python.ops.array_ops) is deprecated and will be removed in a future version.\n",
            "Instructions for updating:\n",
            "Use tf.where in 2.0, which has the same broadcast rule as np.where\n",
            "Model: \"sequential_1\"\n",
            "_________________________________________________________________\n",
            "Layer (type)                 Output Shape              Param #   \n",
            "=================================================================\n",
            "embedding_2 (Embedding)      (None, 20, 8)             80000     \n",
            "_________________________________________________________________\n",
            "flatten_1 (Flatten)          (None, 160)               0         \n",
            "_________________________________________________________________\n",
            "dense_1 (Dense)              (None, 1)                 161       \n",
            "=================================================================\n",
            "Total params: 80,161\n",
            "Trainable params: 80,161\n",
            "Non-trainable params: 0\n",
            "_________________________________________________________________\n"
          ],
          "name": "stdout"
        }
      ]
    },
    {
      "cell_type": "code",
      "metadata": {
        "id": "hIOa8TDHDBqw",
        "colab_type": "code",
        "outputId": "81a3dc75-4e67-4f3e-f5fb-db300a297594",
        "colab": {
          "base_uri": "https://localhost:8080/",
          "height": 666
        }
      },
      "source": [
        "history = model.fit(x_train, y_train,\n",
        "                    epochs=10,\n",
        "                    batch_size=32,\n",
        "                    validation_split=0.2)"
      ],
      "execution_count": 31,
      "outputs": [
        {
          "output_type": "stream",
          "text": [
            "WARNING:tensorflow:From /usr/local/lib/python3.6/dist-packages/keras/backend/tensorflow_backend.py:1033: The name tf.assign_add is deprecated. Please use tf.compat.v1.assign_add instead.\n",
            "\n",
            "WARNING:tensorflow:From /usr/local/lib/python3.6/dist-packages/keras/backend/tensorflow_backend.py:1020: The name tf.assign is deprecated. Please use tf.compat.v1.assign instead.\n",
            "\n",
            "WARNING:tensorflow:From /usr/local/lib/python3.6/dist-packages/keras/backend/tensorflow_backend.py:3005: The name tf.Session is deprecated. Please use tf.compat.v1.Session instead.\n",
            "\n",
            "Train on 20000 samples, validate on 5000 samples\n",
            "Epoch 1/10\n",
            "WARNING:tensorflow:From /usr/local/lib/python3.6/dist-packages/keras/backend/tensorflow_backend.py:190: The name tf.get_default_session is deprecated. Please use tf.compat.v1.get_default_session instead.\n",
            "\n",
            "WARNING:tensorflow:From /usr/local/lib/python3.6/dist-packages/keras/backend/tensorflow_backend.py:197: The name tf.ConfigProto is deprecated. Please use tf.compat.v1.ConfigProto instead.\n",
            "\n",
            "WARNING:tensorflow:From /usr/local/lib/python3.6/dist-packages/keras/backend/tensorflow_backend.py:207: The name tf.global_variables is deprecated. Please use tf.compat.v1.global_variables instead.\n",
            "\n",
            "WARNING:tensorflow:From /usr/local/lib/python3.6/dist-packages/keras/backend/tensorflow_backend.py:216: The name tf.is_variable_initialized is deprecated. Please use tf.compat.v1.is_variable_initialized instead.\n",
            "\n",
            "WARNING:tensorflow:From /usr/local/lib/python3.6/dist-packages/keras/backend/tensorflow_backend.py:223: The name tf.variables_initializer is deprecated. Please use tf.compat.v1.variables_initializer instead.\n",
            "\n",
            "20000/20000 [==============================] - 12s 591us/step - loss: 0.6672 - acc: 0.6314 - val_loss: 0.6185 - val_acc: 0.6974\n",
            "Epoch 2/10\n",
            "20000/20000 [==============================] - 2s 105us/step - loss: 0.5424 - acc: 0.7552 - val_loss: 0.5283 - val_acc: 0.7348\n",
            "Epoch 3/10\n",
            "20000/20000 [==============================] - 2s 101us/step - loss: 0.4607 - acc: 0.7901 - val_loss: 0.5026 - val_acc: 0.7444\n",
            "Epoch 4/10\n",
            "20000/20000 [==============================] - 2s 103us/step - loss: 0.4184 - acc: 0.8108 - val_loss: 0.4946 - val_acc: 0.7498\n",
            "Epoch 5/10\n",
            "20000/20000 [==============================] - 2s 101us/step - loss: 0.3889 - acc: 0.8274 - val_loss: 0.4956 - val_acc: 0.7550\n",
            "Epoch 6/10\n",
            "20000/20000 [==============================] - 2s 110us/step - loss: 0.3651 - acc: 0.8385 - val_loss: 0.4993 - val_acc: 0.7568\n",
            "Epoch 7/10\n",
            "20000/20000 [==============================] - 2s 101us/step - loss: 0.3439 - acc: 0.8528 - val_loss: 0.5050 - val_acc: 0.7554\n",
            "Epoch 8/10\n",
            "20000/20000 [==============================] - 2s 100us/step - loss: 0.3245 - acc: 0.8648 - val_loss: 0.5121 - val_acc: 0.7522\n",
            "Epoch 9/10\n",
            "20000/20000 [==============================] - 2s 105us/step - loss: 0.3063 - acc: 0.8740 - val_loss: 0.5223 - val_acc: 0.7510\n",
            "Epoch 10/10\n",
            "20000/20000 [==============================] - 2s 100us/step - loss: 0.2897 - acc: 0.8816 - val_loss: 0.5308 - val_acc: 0.7462\n"
          ],
          "name": "stdout"
        }
      ]
    },
    {
      "cell_type": "markdown",
      "metadata": {
        "id": "RJZvxwXV4pbx",
        "colab_type": "text"
      },
      "source": [
        "## Download the dataset and glove pre-trained embeddings and uploaded to Gdrive."
      ]
    },
    {
      "cell_type": "code",
      "metadata": {
        "id": "Bok9S7tRDK9o",
        "colab_type": "code",
        "colab": {}
      },
      "source": [
        "import os"
      ],
      "execution_count": 0,
      "outputs": []
    },
    {
      "cell_type": "code",
      "metadata": {
        "id": "2AFqt4ViDPsc",
        "colab_type": "code",
        "colab": {}
      },
      "source": [
        "!unzip -q \"/content/drive/My Drive/aclImdb.zip\""
      ],
      "execution_count": 0,
      "outputs": []
    },
    {
      "cell_type": "code",
      "metadata": {
        "id": "m4tQEEiZFnKt",
        "colab_type": "code",
        "colab": {}
      },
      "source": [
        "imdb_dir = '/content/aclImdb'"
      ],
      "execution_count": 0,
      "outputs": []
    },
    {
      "cell_type": "code",
      "metadata": {
        "id": "GdbAAyN8F0_B",
        "colab_type": "code",
        "colab": {}
      },
      "source": [
        "train_dir = os.path.join(imdb_dir,'train')"
      ],
      "execution_count": 0,
      "outputs": []
    },
    {
      "cell_type": "code",
      "metadata": {
        "id": "m7q3ExAJF_T1",
        "colab_type": "code",
        "colab": {}
      },
      "source": [
        "labels = []\n",
        "texts = []"
      ],
      "execution_count": 0,
      "outputs": []
    },
    {
      "cell_type": "code",
      "metadata": {
        "id": "4WNZ34ZHGDrE",
        "colab_type": "code",
        "colab": {}
      },
      "source": [
        "# this part is for tagging the positive and negative labels to the dataset\n",
        "for label_type in ['neg', 'pos']:\n",
        "    dir_name = os.path.join(train_dir, label_type)\n",
        "    for fname in os.listdir(dir_name):\n",
        "      if fname[-4:] == '.txt':\n",
        "        f = open(os.path.join(dir_name, fname))\n",
        "        texts.append(f.read())\n",
        "        f.close()\n",
        "        if label_type == 'neg':\n",
        "          labels.append(0)\n",
        "        else:\n",
        "          labels.append(1)"
      ],
      "execution_count": 0,
      "outputs": []
    },
    {
      "cell_type": "code",
      "metadata": {
        "id": "-bssyJq-GaTR",
        "colab_type": "code",
        "colab": {}
      },
      "source": [
        "from keras.preprocessing.text import Tokenizer\n",
        "from keras.preprocessing.sequence import pad_sequences\n",
        "import numpy as np"
      ],
      "execution_count": 0,
      "outputs": []
    },
    {
      "cell_type": "code",
      "metadata": {
        "id": "PdoQs2k1GdRC",
        "colab_type": "code",
        "colab": {}
      },
      "source": [
        "# here max length is 100 and changed the training samples from 200 to 8000\n",
        "maxlen = 100\n",
        "training_samples = 8000"
      ],
      "execution_count": 0,
      "outputs": []
    },
    {
      "cell_type": "code",
      "metadata": {
        "id": "mubt2C5mHetY",
        "colab_type": "code",
        "colab": {}
      },
      "source": [
        "# we are taking the max 10000 words from the trained 400k Glove words\n",
        "validation_samples = 10000\n",
        "max_words = 10000"
      ],
      "execution_count": 0,
      "outputs": []
    },
    {
      "cell_type": "code",
      "metadata": {
        "id": "SMLvBG-cJi60",
        "colab_type": "code",
        "colab": {}
      },
      "source": [
        "tokenizer = Tokenizer(num_words=max_words)\n",
        "tokenizer.fit_on_texts(texts)\n",
        "sequences = tokenizer.texts_to_sequences(texts)"
      ],
      "execution_count": 0,
      "outputs": []
    },
    {
      "cell_type": "code",
      "metadata": {
        "id": "lBXeDN6cJlRI",
        "colab_type": "code",
        "outputId": "56173e5e-9842-4587-e970-53056e2321b6",
        "colab": {
          "base_uri": "https://localhost:8080/",
          "height": 34
        }
      },
      "source": [
        "word_index = tokenizer.word_index\n",
        "print('Found %s unique tokens.' % len(word_index))"
      ],
      "execution_count": 42,
      "outputs": [
        {
          "output_type": "stream",
          "text": [
            "Found 88582 unique tokens.\n"
          ],
          "name": "stdout"
        }
      ]
    },
    {
      "cell_type": "code",
      "metadata": {
        "id": "Un7g-AdPJo6Z",
        "colab_type": "code",
        "colab": {}
      },
      "source": [
        "data = pad_sequences(sequences, maxlen=maxlen)"
      ],
      "execution_count": 0,
      "outputs": []
    },
    {
      "cell_type": "code",
      "metadata": {
        "id": "6MV0vSpvJryM",
        "colab_type": "code",
        "outputId": "2581725a-750f-4e4c-b5f6-17f0e71e5bd8",
        "colab": {
          "base_uri": "https://localhost:8080/",
          "height": 51
        }
      },
      "source": [
        "# we will be shuffling the dataset since it has continous positive and negative reviews.\n",
        "# also we are splitting the dataset.\n",
        "\n",
        "labels = np.asarray(labels)\n",
        "print('Shape of data tensor:', data.shape)\n",
        "print('Shape of label tensor:', labels.shape)\n",
        "indices = np.arange(data.shape[0])\n",
        "np.random.shuffle(indices)\n",
        "data = data[indices]\n",
        "labels = labels[indices]\n",
        "x_train = data[:training_samples]\n",
        "y_train = labels[:training_samples]\n",
        "x_val = data[training_samples: training_samples + validation_samples]\n",
        "y_val = labels[training_samples: training_samples + validation_samples]"
      ],
      "execution_count": 44,
      "outputs": [
        {
          "output_type": "stream",
          "text": [
            "Shape of data tensor: (25000, 100)\n",
            "Shape of label tensor: (25000,)\n"
          ],
          "name": "stdout"
        }
      ]
    },
    {
      "cell_type": "code",
      "metadata": {
        "id": "rAGk0eSqJuKg",
        "colab_type": "code",
        "colab": {}
      },
      "source": [
        "#unzipped the glove model and given directory path\n",
        "\n",
        "!unzip -q \"/content/drive/My Drive/glove.6B.zip\"\n",
        "glove_dir = '/content/'"
      ],
      "execution_count": 0,
      "outputs": []
    },
    {
      "cell_type": "code",
      "metadata": {
        "id": "Mcr_QJCVJ3kt",
        "colab_type": "code",
        "outputId": "036afad8-093b-4eef-d718-b2eed15cf846",
        "colab": {
          "base_uri": "https://localhost:8080/",
          "height": 34
        }
      },
      "source": [
        "#we are loading 100Dimensions text data and it will be 400k words\n",
        "embeddings_index = {}\n",
        "f = open(os.path.join(glove_dir, 'glove.6B.100d.txt'))\n",
        "for line in f:\n",
        "    values = line.split()\n",
        "    word = values[0]\n",
        "    coefs = np.asarray(values[1:], dtype='float32')\n",
        "    embeddings_index[word] = coefs\n",
        "f.close()\n",
        "print('Found %s word vectors.' % len(embeddings_index))"
      ],
      "execution_count": 46,
      "outputs": [
        {
          "output_type": "stream",
          "text": [
            "Found 400000 word vectors.\n"
          ],
          "name": "stdout"
        }
      ]
    },
    {
      "cell_type": "code",
      "metadata": {
        "id": "OKBQFO77KHip",
        "colab_type": "code",
        "colab": {}
      },
      "source": [
        "# if the words are not in glove index, it will be assigned as zero vector\n",
        "\n",
        "embedding_dim = 100\n",
        "embedding_matrix = np.zeros((max_words, embedding_dim))\n",
        "for word, i in word_index.items():\n",
        "    if i < max_words:\n",
        "        embedding_vector = embeddings_index.get(word)\n",
        "        if embedding_vector is not None:\n",
        "            embedding_matrix[i] = embedding_vector"
      ],
      "execution_count": 0,
      "outputs": []
    },
    {
      "cell_type": "code",
      "metadata": {
        "id": "177ADIfPKSUU",
        "colab_type": "code",
        "outputId": "6e0dab66-2253-4a2f-e42b-b6d7ff8747a8",
        "colab": {
          "base_uri": "https://localhost:8080/",
          "height": 289
        }
      },
      "source": [
        "#Each word in sample will be converted into 100dimension, so it will be 100*100\n",
        "\n",
        "from keras.models import Sequential\n",
        "from keras.layers import Embedding, Flatten, Dense\n",
        "model = Sequential()\n",
        "model.add(Embedding(max_words, embedding_dim, input_length=maxlen))\n",
        "model.add(Flatten())\n",
        "model.add(Dense(32, activation='relu'))\n",
        "model.add(Dense(1, activation='sigmoid'))\n",
        "model.summary()"
      ],
      "execution_count": 48,
      "outputs": [
        {
          "output_type": "stream",
          "text": [
            "Model: \"sequential_2\"\n",
            "_________________________________________________________________\n",
            "Layer (type)                 Output Shape              Param #   \n",
            "=================================================================\n",
            "embedding_3 (Embedding)      (None, 100, 100)          1000000   \n",
            "_________________________________________________________________\n",
            "flatten_2 (Flatten)          (None, 10000)             0         \n",
            "_________________________________________________________________\n",
            "dense_2 (Dense)              (None, 32)                320032    \n",
            "_________________________________________________________________\n",
            "dense_3 (Dense)              (None, 1)                 33        \n",
            "=================================================================\n",
            "Total params: 1,320,065\n",
            "Trainable params: 1,320,065\n",
            "Non-trainable params: 0\n",
            "_________________________________________________________________\n"
          ],
          "name": "stdout"
        }
      ]
    },
    {
      "cell_type": "code",
      "metadata": {
        "id": "0QTeUCPGKVWy",
        "colab_type": "code",
        "colab": {}
      },
      "source": [
        "model.layers[0].set_weights([embedding_matrix])\n",
        "model.layers[0].trainable = False"
      ],
      "execution_count": 0,
      "outputs": []
    },
    {
      "cell_type": "code",
      "metadata": {
        "id": "YiBlZrQyKYrA",
        "colab_type": "code",
        "outputId": "69d23dbb-d7cc-4429-90db-f1cbdc758bc0",
        "colab": {
          "base_uri": "https://localhost:8080/",
          "height": 374
        }
      },
      "source": [
        "model.compile(optimizer='rmsprop',\n",
        "              loss='binary_crossentropy',\n",
        "              metrics=['acc'])\n",
        "history = model.fit(x_train, y_train,\n",
        "                    epochs=10,\n",
        "                    batch_size=32,\n",
        "                    validation_data=(x_val, y_val))\n",
        "model.save_weights('pre_trained_glove_model.h5')"
      ],
      "execution_count": 50,
      "outputs": [
        {
          "output_type": "stream",
          "text": [
            "Train on 8000 samples, validate on 10000 samples\n",
            "Epoch 1/10\n",
            "8000/8000 [==============================] - 1s 163us/step - loss: 0.7106 - acc: 0.5494 - val_loss: 0.6657 - val_acc: 0.5601\n",
            "Epoch 2/10\n",
            "8000/8000 [==============================] - 1s 141us/step - loss: 0.6428 - acc: 0.6590 - val_loss: 0.6296 - val_acc: 0.6808\n",
            "Epoch 3/10\n",
            "8000/8000 [==============================] - 1s 140us/step - loss: 0.5697 - acc: 0.7435 - val_loss: 0.6039 - val_acc: 0.6957\n",
            "Epoch 4/10\n",
            "8000/8000 [==============================] - 1s 144us/step - loss: 0.5063 - acc: 0.7971 - val_loss: 0.6183 - val_acc: 0.6568\n",
            "Epoch 5/10\n",
            "8000/8000 [==============================] - 1s 140us/step - loss: 0.4469 - acc: 0.8286 - val_loss: 0.5963 - val_acc: 0.6956\n",
            "Epoch 6/10\n",
            "8000/8000 [==============================] - 1s 142us/step - loss: 0.3904 - acc: 0.8654 - val_loss: 0.6103 - val_acc: 0.6894\n",
            "Epoch 7/10\n",
            "8000/8000 [==============================] - 1s 145us/step - loss: 0.3334 - acc: 0.8909 - val_loss: 0.6239 - val_acc: 0.6860\n",
            "Epoch 8/10\n",
            "8000/8000 [==============================] - 1s 147us/step - loss: 0.2877 - acc: 0.9136 - val_loss: 0.7468 - val_acc: 0.6841\n",
            "Epoch 9/10\n",
            "8000/8000 [==============================] - 1s 146us/step - loss: 0.2448 - acc: 0.9325 - val_loss: 0.8178 - val_acc: 0.6816\n",
            "Epoch 10/10\n",
            "8000/8000 [==============================] - 1s 141us/step - loss: 0.2090 - acc: 0.9461 - val_loss: 0.7066 - val_acc: 0.6765\n"
          ],
          "name": "stdout"
        }
      ]
    },
    {
      "cell_type": "code",
      "metadata": {
        "id": "mC0jNgtcKi_D",
        "colab_type": "code",
        "outputId": "b1c37537-fcca-4fbe-97d3-8be4c14ea3be",
        "colab": {
          "base_uri": "https://localhost:8080/",
          "height": 545
        }
      },
      "source": [
        "import matplotlib.pyplot as plt\n",
        "acc = history.history['acc']\n",
        "val_acc = history.history['val_acc']\n",
        "loss = history.history['loss']\n",
        "val_loss = history.history['val_loss']\n",
        "epochs = range(1, len(acc) + 1)\n",
        "plt.plot(epochs, acc, 'bo', label='Training acc')\n",
        "plt.plot(epochs, val_acc, 'b', label='Validation acc')\n",
        "plt.title('Training and validation accuracy')\n",
        "plt.legend()\n",
        "plt.figure()\n",
        "plt.plot(epochs, loss, 'bo', label='Training loss')\n",
        "plt.plot(epochs, val_loss, 'b', label='Validation loss')\n",
        "plt.title('Training and validation loss')\n",
        "plt.legend()\n",
        "plt.show()"
      ],
      "execution_count": 51,
      "outputs": [
        {
          "output_type": "display_data",
          "data": {
            "image/png": "[encoded data removed]",
            "text/plain": [
              "<Figure size 432x288 with 1 Axes>"
            ]
          },
          "metadata": {
            "tags": []
          }
        },
        {
          "output_type": "display_data",
          "data": {
            "image/png": "[encoded data removed]",
            "text/plain": [
              "<Figure size 432x288 with 1 Axes>"
            ]
          },
          "metadata": {
            "tags": []
          }
        }
      ]
    },
    {
      "cell_type": "code",
      "metadata": {
        "id": "MM_NYhDLKt6G",
        "colab_type": "code",
        "outputId": "f76dac62-63c0-41d8-d82a-f1a48d181a65",
        "colab": {
          "base_uri": "https://localhost:8080/",
          "height": 646
        }
      },
      "source": [
        "from keras.models import Sequential\n",
        "from keras.layers import Embedding, Flatten, Dense\n",
        "model = Sequential()\n",
        "model.add(Embedding(max_words, embedding_dim, input_length=maxlen))\n",
        "model.add(Flatten())\n",
        "model.add(Dense(32, activation='relu'))\n",
        "model.add(Dense(1, activation='sigmoid'))\n",
        "model.summary()\n",
        "model.compile(optimizer='rmsprop',\n",
        "              loss='binary_crossentropy',\n",
        "              metrics=['acc'])\n",
        "history = model.fit(x_train, y_train,\n",
        "                    epochs=10,\n",
        "                    batch_size=32,\n",
        "                    validation_data=(x_val, y_val))"
      ],
      "execution_count": 52,
      "outputs": [
        {
          "output_type": "stream",
          "text": [
            "Model: \"sequential_3\"\n",
            "_________________________________________________________________\n",
            "Layer (type)                 Output Shape              Param #   \n",
            "=================================================================\n",
            "embedding_4 (Embedding)      (None, 100, 100)          1000000   \n",
            "_________________________________________________________________\n",
            "flatten_3 (Flatten)          (None, 10000)             0         \n",
            "_________________________________________________________________\n",
            "dense_4 (Dense)              (None, 32)                320032    \n",
            "_________________________________________________________________\n",
            "dense_5 (Dense)              (None, 1)                 33        \n",
            "=================================================================\n",
            "Total params: 1,320,065\n",
            "Trainable params: 1,320,065\n",
            "Non-trainable params: 0\n",
            "_________________________________________________________________\n",
            "Train on 8000 samples, validate on 10000 samples\n",
            "Epoch 1/10\n",
            "8000/8000 [==============================] - 2s 204us/step - loss: 0.5350 - acc: 0.7184 - val_loss: 0.3922 - val_acc: 0.8224\n",
            "Epoch 2/10\n",
            "8000/8000 [==============================] - 1s 165us/step - loss: 0.1412 - acc: 0.9538 - val_loss: 0.5076 - val_acc: 0.7887\n",
            "Epoch 3/10\n",
            "8000/8000 [==============================] - 1s 161us/step - loss: 0.0107 - acc: 0.9985 - val_loss: 0.5719 - val_acc: 0.8156\n",
            "Epoch 4/10\n",
            "8000/8000 [==============================] - 1s 172us/step - loss: 6.3291e-04 - acc: 0.9999 - val_loss: 0.7471 - val_acc: 0.8140\n",
            "Epoch 5/10\n",
            "8000/8000 [==============================] - 1s 164us/step - loss: 2.9831e-04 - acc: 0.9999 - val_loss: 0.8590 - val_acc: 0.8102\n",
            "Epoch 6/10\n",
            "8000/8000 [==============================] - 1s 169us/step - loss: 2.9463e-06 - acc: 1.0000 - val_loss: 0.9260 - val_acc: 0.8137\n",
            "Epoch 7/10\n",
            "8000/8000 [==============================] - 1s 169us/step - loss: 1.3503e-07 - acc: 1.0000 - val_loss: 0.9744 - val_acc: 0.8120\n",
            "Epoch 8/10\n",
            "8000/8000 [==============================] - 1s 176us/step - loss: 1.1200e-07 - acc: 1.0000 - val_loss: 0.9886 - val_acc: 0.8113\n",
            "Epoch 9/10\n",
            "8000/8000 [==============================] - 1s 187us/step - loss: 1.1110e-07 - acc: 1.0000 - val_loss: 0.9961 - val_acc: 0.8117\n",
            "Epoch 10/10\n",
            "8000/8000 [==============================] - 1s 170us/step - loss: 1.1029e-07 - acc: 1.0000 - val_loss: 1.0018 - val_acc: 0.8120\n"
          ],
          "name": "stdout"
        }
      ]
    },
    {
      "cell_type": "code",
      "metadata": {
        "id": "nwTQSrESK9Mm",
        "colab_type": "code",
        "colab": {}
      },
      "source": [
        "test_dir = os.path.join(imdb_dir, 'test')\n",
        "labels = []\n",
        "texts = []\n",
        "for label_type in ['neg', 'pos']:\n",
        "    dir_name = os.path.join(test_dir, label_type)\n",
        "    for fname in sorted(os.listdir(dir_name)):\n",
        "        if fname[-4:] == '.txt':\n",
        "            f = open(os.path.join(dir_name, fname))\n",
        "            texts.append(f.read())\n",
        "            f.close()\n",
        "            if label_type == 'neg':\n",
        "                labels.append(0)\n",
        "            else:\n",
        "                labels.append(1)"
      ],
      "execution_count": 0,
      "outputs": []
    },
    {
      "cell_type": "code",
      "metadata": {
        "id": "FyGSUXV3LTiZ",
        "colab_type": "code",
        "colab": {}
      },
      "source": [
        "sequences = tokenizer.texts_to_sequences(texts)\n",
        "x_test = pad_sequences(sequences, maxlen=maxlen)\n",
        "y_test = np.asarray(labels)"
      ],
      "execution_count": 0,
      "outputs": []
    },
    {
      "cell_type": "code",
      "metadata": {
        "id": "NpYXQnsILgKL",
        "colab_type": "code",
        "outputId": "60844b70-e9cc-44a2-ff4a-11fd954b6f85",
        "colab": {
          "base_uri": "https://localhost:8080/",
          "height": 51
        }
      },
      "source": [
        "model.load_weights('pre_trained_glove_model.h5')\n",
        "model.evaluate(x_test, y_test)"
      ],
      "execution_count": 55,
      "outputs": [
        {
          "output_type": "stream",
          "text": [
            "25000/25000 [==============================] - 1s 48us/step\n"
          ],
          "name": "stdout"
        },
        {
          "output_type": "execute_result",
          "data": {
            "text/plain": [
              "[0.6982028324985504, 0.67596]"
            ]
          },
          "metadata": {
            "tags": []
          },
          "execution_count": 55
        }
      ]
    }
  ]
}
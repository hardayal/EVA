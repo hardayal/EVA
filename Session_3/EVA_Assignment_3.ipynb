{
 "cells": [
  {
   "cell_type": "markdown",
   "metadata": {},
   "source": [
    "<a href=\"https://colab.research.google.com/github.com/hardayal/EVA/blob/master/Session_3/EVA_Assignment_3.ipynb\" target=\"_parent\"><img src=\"https://colab.research.google.com/assets/colab-badge.svg\" alt=\"Open In Colab\"/></a>\n",
    "\n",
    "# **Import Libraries and modules**\n",
    "Installation and importing of packages used by the network"
   ]
  },
  {
   "cell_type": "code",
   "execution_count": 1,
   "metadata": {},
   "outputs": [
    {
     "name": "stderr",
     "output_type": "stream",
     "text": [
      "Using TensorFlow backend.\n"
     ]
    }
   ],
   "source": [
    "# https://keras.io/\n",
    "!pip install -q keras\n",
    "import keras"
   ]
  },
  {
   "cell_type": "code",
   "execution_count": 0,
   "metadata": {},
   "outputs": [],
   "source": [
    "import numpy as np\n",
    "\n",
    "from keras.models import Sequential\n",
    "from keras.layers import Dense, Dropout, Activation, Flatten, Add\n",
    "from keras.layers import Convolution2D, MaxPooling2D\n",
    "from keras.utils import np_utils\n",
    "\n",
    "from keras.datasets import mnist"
   ]
  },
  {
   "cell_type": "markdown",
   "metadata": {},
   "source": [
    "### Load pre-shuffled MNIST data into train and test sets"
   ]
  },
  {
   "cell_type": "code",
   "execution_count": 3,
   "metadata": {},
   "outputs": [
    {
     "name": "stdout",
     "output_type": "stream",
     "text": [
      "Downloading data from https://s3.amazonaws.com/img-datasets/mnist.npz\n",
      "11493376/11490434 [==============================] - 2s 0us/step\n"
     ]
    }
   ],
   "source": [
    "(X_train, y_train), (X_test, y_test) = mnist.load_data()"
   ]
  },
  {
   "cell_type": "markdown",
   "metadata": {},
   "source": [
    "Display the x_train[0] value using the matplotlib library"
   ]
  },
  {
   "cell_type": "code",
   "execution_count": 4,
   "metadata": {},
   "outputs": [
    {
     "name": "stdout",
     "output_type": "stream",
     "text": [
      "(60000, 28, 28)\n"
     ]
    },
    {
     "data": {
      "text/plain": [
       "<matplotlib.image.AxesImage at 0x7f4b765fd080>"
      ]
     },
     "execution_count": 4,
     "output_type": "execute_result",
     "metadata": {}
    },
    {
     "data": {
      "image/png": "[encoded data removed]"
     },
     "output_type": "display_data",
     "metadata": {}
    }
   ],
   "source": [
    "print (X_train.shape)\n",
    "from matplotlib import pyplot as plt\n",
    "%matplotlib inline\n",
    "plt.imshow(X_train[0])"
   ]
  },
  {
   "cell_type": "markdown",
   "metadata": {},
   "source": [
    "Reshaping the train and test data to a format with width ,height and channels."
   ]
  },
  {
   "cell_type": "code",
   "execution_count": 0,
   "metadata": {},
   "outputs": [],
   "source": [
    "X_train = X_train.reshape(X_train.shape[0], 28, 28,1)\n",
    "X_test = X_test.reshape(X_test.shape[0], 28, 28,1)"
   ]
  },
  {
   "cell_type": "markdown",
   "metadata": {},
   "source": [
    "Preprossing the train and test data to the 32-bit precision and dividing the it by 255 to normalize the date between 0.0 to 1.0 ."
   ]
  },
  {
   "cell_type": "code",
   "execution_count": 0,
   "metadata": {},
   "outputs": [],
   "source": [
    "X_train = X_train.astype('float32')\n",
    "X_test = X_test.astype('float32')\n",
    "X_train /= 255\n",
    "X_test /= 255"
   ]
  },
  {
   "cell_type": "markdown",
   "metadata": {},
   "source": [
    "Display the y training data"
   ]
  },
  {
   "cell_type": "code",
   "execution_count": 7,
   "metadata": {},
   "outputs": [
    {
     "data": {
      "text/plain": [
       "array([5, 0, 4, 1, 9, 2, 1, 3, 1, 4], dtype=uint8)"
      ]
     },
     "execution_count": 7,
     "output_type": "execute_result",
     "metadata": {}
    }
   ],
   "source": [
    "y_train[:10]"
   ]
  },
  {
   "cell_type": "markdown",
   "metadata": {},
   "source": [
    "\n",
    "The y train and test data are converted into one hot encoding by using the keras function."
   ]
  },
  {
   "cell_type": "code",
   "execution_count": 0,
   "metadata": {},
   "outputs": [],
   "source": [
    "# Convert 1-dimensional class arrays to 10-dimensional class matrices\n",
    "Y_train = np_utils.to_categorical(y_train, 10)\n",
    "Y_test = np_utils.to_categorical(y_test, 10)"
   ]
  },
  {
   "cell_type": "code",
   "execution_count": 9,
   "metadata": {},
   "outputs": [
    {
     "data": {
      "text/plain": [
       "array([[0., 0., 0., 0., 0., 1., 0., 0., 0., 0.],\n",
       "       [1., 0., 0., 0., 0., 0., 0., 0., 0., 0.],\n",
       "       [0., 0., 0., 0., 1., 0., 0., 0., 0., 0.],\n",
       "       [0., 1., 0., 0., 0., 0., 0., 0., 0., 0.],\n",
       "       [0., 0., 0., 0., 0., 0., 0., 0., 0., 1.],\n",
       "       [0., 0., 1., 0., 0., 0., 0., 0., 0., 0.],\n",
       "       [0., 1., 0., 0., 0., 0., 0., 0., 0., 0.],\n",
       "       [0., 0., 0., 1., 0., 0., 0., 0., 0., 0.],\n",
       "       [0., 1., 0., 0., 0., 0., 0., 0., 0., 0.],\n",
       "       [0., 0., 0., 0., 1., 0., 0., 0., 0., 0.]], dtype=float32)"
      ]
     },
     "execution_count": 9,
     "output_type": "execute_result",
     "metadata": {}
    }
   ],
   "source": [
    "Y_train[:10]"
   ]
  },
  {
   "cell_type": "code",
   "execution_count": 10,
   "metadata": {},
   "outputs": [
    {
     "name": "stdout",
     "output_type": "stream",
     "text": [
      "WARNING:tensorflow:From /usr/local/lib/python3.6/dist-packages/tensorflow/python/framework/op_def_library.py:263: colocate_with (from tensorflow.python.framework.ops) is deprecated and will be removed in a future version.\n",
      "Instructions for updating:\n",
      "Colocations handled automatically by placer.\n"
     ]
    },
    {
     "name": "stderr",
     "output_type": "stream",
     "text": [
      "/usr/local/lib/python3.6/dist-packages/ipykernel_launcher.py:5: UserWarning: Update your `Conv2D` call to the Keras 2 API: `Conv2D(32, (3, 3), activation=\"relu\", input_shape=(28, 28, 1..., use_bias=False)`\n",
      "  \"\"\"\n"
     ]
    }
   ],
   "source": [
    "from keras.layers import Activation\n",
    "model = Sequential()\n",
    "\n",
    "\n",
    "model.add(Convolution2D(32, 3, 3, activation='relu', input_shape=(28,28,1),use_bias=False))\n",
    "model.add(Convolution2D(10, 1, activation='relu', use_bias=False))\n",
    "model.add(Convolution2D(10, 26, use_bias=False))\n",
    "model.add(Flatten())\n",
    "model.add(Activation('softmax'))"
   ]
  },
  {
   "cell_type": "markdown",
   "metadata": {},
   "source": [
    "Using BatchNormalization"
   ]
  },
  {
   "cell_type": "code",
   "execution_count": 11,
   "metadata": {},
   "outputs": [
    {
     "name": "stderr",
     "output_type": "stream",
     "text": [
      "/usr/local/lib/python3.6/dist-packages/ipykernel_launcher.py:5: UserWarning: Update your `Conv2D` call to the Keras 2 API: `Conv2D(32, (3, 3), activation=\"relu\", input_shape=(28, 28, 1..., use_bias=False)`\n",
      "  \"\"\"\n"
     ]
    },
    {
     "name": "stdout",
     "output_type": "stream",
     "text": [
      "WARNING:tensorflow:From /usr/local/lib/python3.6/dist-packages/keras/backend/tensorflow_backend.py:3445: calling dropout (from tensorflow.python.ops.nn_ops) with keep_prob is deprecated and will be removed in a future version.\n",
      "Instructions for updating:\n",
      "Please use `rate` instead of `keep_prob`. Rate should be set to `rate = 1 - keep_prob`.\n"
     ]
    },
    {
     "name": "stderr",
     "output_type": "stream",
     "text": [
      "/usr/local/lib/python3.6/dist-packages/ipykernel_launcher.py:9: UserWarning: Update your `Conv2D` call to the Keras 2 API: `Conv2D(40, (3, 3), activation=\"relu\", use_bias=False)`\n",
      "  if __name__ == '__main__':\n",
      "/usr/local/lib/python3.6/dist-packages/ipykernel_launcher.py:21: UserWarning: Update your `Conv2D` call to the Keras 2 API: `Conv2D(40, (3, 3), activation=\"relu\", use_bias=False)`\n",
      "/usr/local/lib/python3.6/dist-packages/ipykernel_launcher.py:29: UserWarning: Update your `Conv2D` call to the Keras 2 API: `Conv2D(10, (1, 1), activation=\"relu\", use_bias=False)`\n",
      "/usr/local/lib/python3.6/dist-packages/ipykernel_launcher.py:31: UserWarning: Update your `Conv2D` call to the Keras 2 API: `Conv2D(10, (5, 5), use_bias=False)`\n"
     ]
    }
   ],
   "source": [
    "from keras.layers import Activation, BatchNormalization\n",
    "model2 = Sequential()\n",
    "\n",
    "\n",
    "model2.add(Convolution2D(32, 3, 3, activation='relu', input_shape=(28,28,1),use_bias=False))\n",
    "\n",
    "model2.add(BatchNormalization())\n",
    "\n",
    "model2.add(Convolution2D(40, 3, 3 , activation='relu', use_bias=False))\n",
    "\n",
    "model2.add(BatchNormalization())\n",
    "\n",
    "model2.add(Dropout(0.25))\n",
    "\n",
    "model2.add(MaxPooling2D(pool_size=(2,2)))\n",
    "\n",
    "model2.add(Convolution2D(10,1, activation='relu',use_bias=False))\n",
    "\n",
    "model2.add(BatchNormalization())\n",
    "\n",
    "model2.add(Convolution2D(40, 3, 3 , activation='relu', use_bias=False))\n",
    "\n",
    "model2.add(BatchNormalization())\n",
    "\n",
    "model2.add(Dropout(0.25))\n",
    "\n",
    "model2.add(MaxPooling2D(pool_size=(2,2)))\n",
    "\n",
    "model2.add(Convolution2D(10, 1, 1 , activation='relu', use_bias=False))\n",
    "\n",
    "model2.add(Convolution2D(10, 5, 5, use_bias=False))\n",
    "model2.add(Flatten())\n",
    "model2.add(Activation('softmax'))"
   ]
  },
  {
   "cell_type": "code",
   "execution_count": 12,
   "metadata": {},
   "outputs": [
    {
     "name": "stdout",
     "output_type": "stream",
     "text": [
      "_________________________________________________________________\n",
      "Layer (type)                 Output Shape              Param #   \n",
      "=================================================================\n",
      "conv2d_4 (Conv2D)            (None, 26, 26, 32)        288       \n",
      "_________________________________________________________________\n",
      "batch_normalization_1 (Batch (None, 26, 26, 32)        128       \n",
      "_________________________________________________________________\n",
      "conv2d_5 (Conv2D)            (None, 24, 24, 40)        11520     \n",
      "_________________________________________________________________\n",
      "batch_normalization_2 (Batch (None, 24, 24, 40)        160       \n",
      "_________________________________________________________________\n",
      "dropout_1 (Dropout)          (None, 24, 24, 40)        0         \n",
      "_________________________________________________________________\n",
      "max_pooling2d_1 (MaxPooling2 (None, 12, 12, 40)        0         \n",
      "_________________________________________________________________\n",
      "conv2d_6 (Conv2D)            (None, 12, 12, 10)        400       \n",
      "_________________________________________________________________\n",
      "batch_normalization_3 (Batch (None, 12, 12, 10)        40        \n",
      "_________________________________________________________________\n",
      "conv2d_7 (Conv2D)            (None, 10, 10, 40)        3600      \n",
      "_________________________________________________________________\n",
      "batch_normalization_4 (Batch (None, 10, 10, 40)        160       \n",
      "_________________________________________________________________\n",
      "dropout_2 (Dropout)          (None, 10, 10, 40)        0         \n",
      "_________________________________________________________________\n",
      "max_pooling2d_2 (MaxPooling2 (None, 5, 5, 40)          0         \n",
      "_________________________________________________________________\n",
      "conv2d_8 (Conv2D)            (None, 5, 5, 10)          400       \n",
      "_________________________________________________________________\n",
      "conv2d_9 (Conv2D)            (None, 1, 1, 10)          2500      \n",
      "_________________________________________________________________\n",
      "flatten_2 (Flatten)          (None, 10)                0         \n",
      "_________________________________________________________________\n",
      "activation_2 (Activation)    (None, 10)                0         \n",
      "=================================================================\n",
      "Total params: 19,196\n",
      "Trainable params: 18,952\n",
      "Non-trainable params: 244\n",
      "_________________________________________________________________\n"
     ]
    }
   ],
   "source": [
    "model2.summary()"
   ]
  },
  {
   "cell_type": "code",
   "execution_count": 0,
   "metadata": {},
   "outputs": [],
   "source": [
    "class Callback(keras.callbacks.Callback):\n",
    "    def __init__(self, test_data):\n",
    "        self.test_data = test_data\n",
    "\n",
    "    def on_epoch_end(self, epoch, logs={}):\n",
    "        x, y = self.test_data\n",
    "        loss, acc = self.model.evaluate(x, y, verbose=0)\n",
    "        print('\\nValidation loss: {}, acc: {}\\n'.format(loss, acc))"
   ]
  },
  {
   "cell_type": "code",
   "execution_count": 0,
   "metadata": {},
   "outputs": [],
   "source": [
    "model2.compile(loss='categorical_crossentropy',\n",
    "             optimizer='adam',\n",
    "             metrics=['accuracy'])"
   ]
  },
  {
   "cell_type": "markdown",
   "metadata": {},
   "source": [
    "\n",
    "Traing the model using the input data X_train , Y_train with the batch size 64 and epoch 10 and verbose 1. where batch size is the number images it has to considered for the each training. epochs is the number of times the modal has to run."
   ]
  },
  {
   "cell_type": "code",
   "execution_count": 15,
   "metadata": {},
   "outputs": [
    {
     "name": "stdout",
     "output_type": "stream",
     "text": [
      "WARNING:tensorflow:From /usr/local/lib/python3.6/dist-packages/tensorflow/python/ops/math_ops.py:3066: to_int32 (from tensorflow.python.ops.math_ops) is deprecated and will be removed in a future version.\n",
      "Instructions for updating:\n",
      "Use tf.cast instead.\n"
     ]
    },
    {
     "name": "stderr",
     "output_type": "stream",
     "text": [
      "/usr/local/lib/python3.6/dist-packages/ipykernel_launcher.py:1: UserWarning: The `nb_epoch` argument in `fit` has been renamed `epochs`.\n",
      "  \"\"\"Entry point for launching an IPython kernel.\n"
     ]
    },
    {
     "name": "stdout",
     "output_type": "stream",
     "text": [
      "Epoch 1/30\n",
      "60000/60000 [==============================] - 11s 185us/step - loss: 0.1931 - acc: 0.9390\n",
      "\n",
      "Validation loss: 0.08011230353564024, acc: 0.9737\n",
      "\n",
      "Epoch 2/30\n",
      "60000/60000 [==============================] - 8s 126us/step - loss: 0.0623 - acc: 0.9813\n",
      "\n",
      "Validation loss: 0.05054058146774769, acc: 0.9839\n",
      "\n",
      "Epoch 3/30\n",
      "60000/60000 [==============================] - 8s 140us/step - loss: 0.0483 - acc: 0.9852\n",
      "\n",
      "Validation loss: 0.05715034210719168, acc: 0.9826\n",
      "\n",
      "Epoch 4/30\n",
      "60000/60000 [==============================] - 8s 126us/step - loss: 0.0422 - acc: 0.9866\n",
      "\n",
      "Validation loss: 0.04000820957710966, acc: 0.9883\n",
      "\n",
      "Epoch 5/30\n",
      "60000/60000 [==============================] - 8s 126us/step - loss: 0.0359 - acc: 0.9889\n",
      "\n",
      "Validation loss: 0.034038484313199294, acc: 0.9888\n",
      "\n",
      "Epoch 6/30\n",
      "60000/60000 [==============================] - 8s 126us/step - loss: 0.0334 - acc: 0.9893\n",
      "\n",
      "Validation loss: 0.036301521768746896, acc: 0.9885\n",
      "\n",
      "Epoch 7/30\n",
      "60000/60000 [==============================] - 8s 126us/step - loss: 0.0300 - acc: 0.9907\n",
      "\n",
      "Validation loss: 0.0379088802064769, acc: 0.988\n",
      "\n",
      "Epoch 8/30\n",
      "60000/60000 [==============================] - 8s 126us/step - loss: 0.0284 - acc: 0.9908\n",
      "\n",
      "Validation loss: 0.03213961736219935, acc: 0.9906\n",
      "\n",
      "Epoch 9/30\n",
      "60000/60000 [==============================] - 8s 126us/step - loss: 0.0272 - acc: 0.9911\n",
      "\n",
      "Validation loss: 0.028405528878071344, acc: 0.9904\n",
      "\n",
      "Epoch 10/30\n",
      "60000/60000 [==============================] - 8s 128us/step - loss: 0.0246 - acc: 0.9920\n",
      "\n",
      "Validation loss: 0.028759671733761205, acc: 0.9894\n",
      "\n",
      "Epoch 11/30\n",
      "60000/60000 [==============================] - 8s 132us/step - loss: 0.0229 - acc: 0.9925\n",
      "\n",
      "Validation loss: 0.028475604187115096, acc: 0.9913\n",
      "\n",
      "Epoch 12/30\n",
      "60000/60000 [==============================] - 8s 128us/step - loss: 0.0227 - acc: 0.9924\n",
      "\n",
      "Validation loss: 0.033803803963924295, acc: 0.9892\n",
      "\n",
      "Epoch 13/30\n",
      "60000/60000 [==============================] - 8s 139us/step - loss: 0.0208 - acc: 0.9931\n",
      "\n",
      "Validation loss: 0.03885418299941812, acc: 0.9884\n",
      "\n",
      "Epoch 14/30\n",
      "60000/60000 [==============================] - 8s 125us/step - loss: 0.0196 - acc: 0.9934\n",
      "\n",
      "Validation loss: 0.03044448785148561, acc: 0.9911\n",
      "\n",
      "Epoch 15/30\n",
      "60000/60000 [==============================] - 8s 126us/step - loss: 0.0193 - acc: 0.9937\n",
      "\n",
      "Validation loss: 0.039913517881860025, acc: 0.9877\n",
      "\n",
      "Epoch 16/30\n",
      "60000/60000 [==============================] - 8s 125us/step - loss: 0.0198 - acc: 0.9931\n",
      "\n",
      "Validation loss: 0.03391005956997396, acc: 0.9891\n",
      "\n",
      "Epoch 17/30\n",
      "60000/60000 [==============================] - 8s 125us/step - loss: 0.0178 - acc: 0.9941\n",
      "\n",
      "Validation loss: 0.028875419547662023, acc: 0.9911\n",
      "\n",
      "Epoch 18/30\n",
      "60000/60000 [==============================] - 8s 126us/step - loss: 0.0171 - acc: 0.9942\n",
      "\n",
      "Validation loss: 0.028758364006335614, acc: 0.9915\n",
      "\n",
      "Epoch 19/30\n",
      "60000/60000 [==============================] - 8s 126us/step - loss: 0.0174 - acc: 0.9942\n",
      "\n",
      "Validation loss: 0.027383854872517988, acc: 0.9918\n",
      "\n",
      "Epoch 20/30\n",
      "60000/60000 [==============================] - 8s 126us/step - loss: 0.0153 - acc: 0.9947\n",
      "\n",
      "Validation loss: 0.02573399630398344, acc: 0.9928\n",
      "\n",
      "Epoch 21/30\n",
      "60000/60000 [==============================] - 8s 126us/step - loss: 0.0151 - acc: 0.9948\n",
      "\n",
      "Validation loss: 0.03820460487313103, acc: 0.9877\n",
      "\n",
      "Epoch 22/30\n",
      "60000/60000 [==============================] - 8s 129us/step - loss: 0.0149 - acc: 0.9948\n",
      "\n",
      "Validation loss: 0.027608647304266924, acc: 0.9911\n",
      "\n",
      "Epoch 23/30\n",
      "60000/60000 [==============================] - 8s 137us/step - loss: 0.0152 - acc: 0.9951\n",
      "\n",
      "Validation loss: 0.028464581169367013, acc: 0.9919\n",
      "\n",
      "Epoch 24/30\n",
      "60000/60000 [==============================] - 8s 126us/step - loss: 0.0148 - acc: 0.9952\n",
      "\n",
      "Validation loss: 0.028258457481872758, acc: 0.9917\n",
      "\n",
      "Epoch 25/30\n",
      "60000/60000 [==============================] - 8s 126us/step - loss: 0.0145 - acc: 0.9953\n",
      "\n",
      "Validation loss: 0.02807037185265799, acc: 0.9906\n",
      "\n",
      "Epoch 26/30\n",
      "60000/60000 [==============================] - 8s 126us/step - loss: 0.0129 - acc: 0.9956\n",
      "\n",
      "Validation loss: 0.03481399061683624, acc: 0.9897\n",
      "\n",
      "Epoch 27/30\n",
      "60000/60000 [==============================] - 8s 126us/step - loss: 0.0142 - acc: 0.9951\n",
      "\n",
      "Validation loss: 0.03357283878775633, acc: 0.9904\n",
      "\n",
      "Epoch 28/30\n",
      "60000/60000 [==============================] - 8s 132us/step - loss: 0.0131 - acc: 0.9957\n",
      "\n",
      "Validation loss: 0.029271866380408757, acc: 0.9902\n",
      "\n",
      "Epoch 29/30\n",
      "60000/60000 [==============================] - 8s 139us/step - loss: 0.0121 - acc: 0.9958\n",
      "\n",
      "Validation loss: 0.02864393031704458, acc: 0.9919\n",
      "\n",
      "Epoch 30/30\n",
      "60000/60000 [==============================] - 8s 126us/step - loss: 0.0121 - acc: 0.9958\n",
      "\n",
      "Validation loss: 0.030730775991713744, acc: 0.9902\n",
      "\n"
     ]
    },
    {
     "data": {
      "text/plain": [
       "<keras.callbacks.History at 0x7f4b73558e10>"
      ]
     },
     "execution_count": 15,
     "output_type": "execute_result",
     "metadata": {}
    }
   ],
   "source": [
    "model2.fit(X_train, Y_train, batch_size=64, nb_epoch=30, verbose=1,callbacks=[Callback((X_test, Y_test))])"
   ]
  },
  {
   "cell_type": "code",
   "execution_count": 18,
   "metadata": {},
   "outputs": [
    {
     "name": "stdout",
     "output_type": "stream",
     "text": [
      "Epoch 1/30\n",
      " 1216/60000 [..............................] - ETA: 9s - loss: 0.0122 - acc: 0.9959"
     ]
    },
    {
     "name": "stderr",
     "output_type": "stream",
     "text": [
      "/usr/local/lib/python3.6/dist-packages/ipykernel_launcher.py:1: UserWarning: The `nb_epoch` argument in `fit` has been renamed `epochs`.\n",
      "  \"\"\"Entry point for launching an IPython kernel.\n"
     ]
    },
    {
     "name": "stdout",
     "output_type": "stream",
     "text": [
      "60000/60000 [==============================] - 8s 127us/step - loss: 0.0122 - acc: 0.9958\n",
      "\n",
      "Validation loss: 0.02630471598062286, acc: 0.9925\n",
      "\n",
      "Epoch 2/30\n",
      "60000/60000 [==============================] - 8s 125us/step - loss: 0.0123 - acc: 0.9959\n",
      "\n",
      "Validation loss: 0.036983328984782564, acc: 0.9894\n",
      "\n",
      "Epoch 3/30\n",
      "60000/60000 [==============================] - 8s 126us/step - loss: 0.0104 - acc: 0.9964\n",
      "\n",
      "Validation loss: 0.03224543913633533, acc: 0.9898\n",
      "\n",
      "Epoch 4/30\n",
      "60000/60000 [==============================] - 8s 125us/step - loss: 0.0115 - acc: 0.9960\n",
      "\n",
      "Validation loss: 0.0306096687755693, acc: 0.991\n",
      "\n",
      "Epoch 5/30\n",
      "60000/60000 [==============================] - 8s 127us/step - loss: 0.0109 - acc: 0.9959\n",
      "\n",
      "Validation loss: 0.03399906416933664, acc: 0.9894\n",
      "\n",
      "Epoch 6/30\n",
      "60000/60000 [==============================] - 8s 139us/step - loss: 0.0098 - acc: 0.9967\n",
      "\n",
      "Validation loss: 0.03226683392278792, acc: 0.9916\n",
      "\n",
      "Epoch 7/30\n",
      "60000/60000 [==============================] - 8s 125us/step - loss: 0.0116 - acc: 0.9959\n",
      "\n",
      "Validation loss: 0.035844153807453406, acc: 0.9902\n",
      "\n",
      "Epoch 8/30\n",
      "60000/60000 [==============================] - 8s 125us/step - loss: 0.0100 - acc: 0.9965\n",
      "\n",
      "Validation loss: 0.0292932046584654, acc: 0.9922\n",
      "\n",
      "Epoch 9/30\n",
      "60000/60000 [==============================] - 7s 125us/step - loss: 0.0110 - acc: 0.9963\n",
      "\n",
      "Validation loss: 0.030307539193167032, acc: 0.9913\n",
      "\n",
      "Epoch 10/30\n",
      "60000/60000 [==============================] - 8s 125us/step - loss: 0.0104 - acc: 0.9966\n",
      "\n",
      "Validation loss: 0.029050619614257447, acc: 0.9925\n",
      "\n",
      "Epoch 11/30\n",
      "60000/60000 [==============================] - 8s 129us/step - loss: 0.0103 - acc: 0.9965\n",
      "\n",
      "Validation loss: 0.03017253385630429, acc: 0.9913\n",
      "\n",
      "Epoch 12/30\n",
      "60000/60000 [==============================] - 8s 131us/step - loss: 0.0097 - acc: 0.9967\n",
      "\n",
      "Validation loss: 0.02651178267837131, acc: 0.9932\n",
      "\n",
      "Epoch 13/30\n",
      "60000/60000 [==============================] - 8s 125us/step - loss: 0.0088 - acc: 0.9969\n",
      "\n",
      "Validation loss: 0.031521638459832864, acc: 0.9916\n",
      "\n",
      "Epoch 14/30\n",
      "60000/60000 [==============================] - 8s 126us/step - loss: 0.0109 - acc: 0.9963\n",
      "\n",
      "Validation loss: 0.03107448435290262, acc: 0.9919\n",
      "\n",
      "Epoch 15/30\n",
      "60000/60000 [==============================] - 8s 128us/step - loss: 0.0083 - acc: 0.9969\n",
      "\n",
      "Validation loss: 0.03529169646560967, acc: 0.9907\n",
      "\n",
      "Epoch 16/30\n",
      "60000/60000 [==============================] - 8s 139us/step - loss: 0.0098 - acc: 0.9966\n",
      "\n",
      "Validation loss: 0.03440963654184798, acc: 0.9898\n",
      "\n",
      "Epoch 17/30\n",
      "60000/60000 [==============================] - 8s 125us/step - loss: 0.0088 - acc: 0.9971\n",
      "\n",
      "Validation loss: 0.03191470321424458, acc: 0.9925\n",
      "\n",
      "Epoch 18/30\n",
      "60000/60000 [==============================] - 8s 126us/step - loss: 0.0095 - acc: 0.9970\n",
      "\n",
      "Validation loss: 0.025666661077524803, acc: 0.9924\n",
      "\n",
      "Epoch 19/30\n",
      "60000/60000 [==============================] - 8s 126us/step - loss: 0.0085 - acc: 0.9971\n",
      "\n",
      "Validation loss: 0.030039527776517024, acc: 0.9911\n",
      "\n",
      "Epoch 20/30\n",
      "60000/60000 [==============================] - 8s 126us/step - loss: 0.0077 - acc: 0.9972\n",
      "\n",
      "Validation loss: 0.03503736883051315, acc: 0.9914\n",
      "\n",
      "Epoch 21/30\n",
      "60000/60000 [==============================] - 8s 125us/step - loss: 0.0088 - acc: 0.9970\n",
      "\n",
      "Validation loss: 0.03702485046117654, acc: 0.9888\n",
      "\n",
      "Epoch 22/30\n",
      "60000/60000 [==============================] - 8s 126us/step - loss: 0.0096 - acc: 0.9968\n",
      "\n",
      "Validation loss: 0.03615301088751748, acc: 0.9909\n",
      "\n",
      "Epoch 23/30\n",
      "60000/60000 [==============================] - 8s 125us/step - loss: 0.0076 - acc: 0.9971\n",
      "\n",
      "Validation loss: 0.03204922954311478, acc: 0.9921\n",
      "\n",
      "Epoch 24/30\n",
      "60000/60000 [==============================] - 8s 126us/step - loss: 0.0082 - acc: 0.9971\n",
      "\n",
      "Validation loss: 0.031805017252578456, acc: 0.9918\n",
      "\n",
      "Epoch 25/30\n",
      "60000/60000 [==============================] - 8s 129us/step - loss: 0.0091 - acc: 0.9972\n",
      "\n",
      "Validation loss: 0.038303381121415625, acc: 0.9902\n",
      "\n",
      "Epoch 26/30\n",
      "60000/60000 [==============================] - 8s 138us/step - loss: 0.0077 - acc: 0.9974\n",
      "\n",
      "Validation loss: 0.035150605480272865, acc: 0.991\n",
      "\n",
      "Epoch 27/30\n",
      "60000/60000 [==============================] - 8s 125us/step - loss: 0.0069 - acc: 0.9977\n",
      "\n",
      "Validation loss: 0.03494896292037156, acc: 0.9909\n",
      "\n",
      "Epoch 28/30\n",
      "60000/60000 [==============================] - 8s 126us/step - loss: 0.0073 - acc: 0.9974\n",
      "\n",
      "Validation loss: 0.0393084470186961, acc: 0.9904\n",
      "\n",
      "Epoch 29/30\n",
      "60000/60000 [==============================] - 8s 126us/step - loss: 0.0083 - acc: 0.9970\n",
      "\n",
      "Validation loss: 0.032426851996549884, acc: 0.991\n",
      "\n",
      "Epoch 30/30\n",
      "60000/60000 [==============================] - 8s 139us/step - loss: 0.0070 - acc: 0.9976\n",
      "\n",
      "Validation loss: 0.03281396808579966, acc: 0.9926\n",
      "\n"
     ]
    },
    {
     "data": {
      "text/plain": [
       "<keras.callbacks.History at 0x7f4b60867f60>"
      ]
     },
     "execution_count": 18,
     "output_type": "execute_result",
     "metadata": {}
    }
   ],
   "source": [
    "model2.fit(X_train, Y_train, batch_size=64, nb_epoch=30, verbose=1,callbacks=[Callback((X_test, Y_test))])"
   ]
  },
  {
   "cell_type": "markdown",
   "metadata": {},
   "source": [
    "Evaluate is used to calculate the loss and the accuracy of the input data."
   ]
  },
  {
   "cell_type": "code",
   "execution_count": 0,
   "metadata": {},
   "outputs": [],
   "source": [
    "score = model2.evaluate(X_test, Y_test, verbose=0)"
   ]
  },
  {
   "cell_type": "code",
   "execution_count": 20,
   "metadata": {},
   "outputs": [
    {
     "name": "stdout",
     "output_type": "stream",
     "text": [
      "[0.03281396808579966, 0.9926]\n"
     ]
    }
   ],
   "source": [
    "print(score)"
   ]
  },
  {
   "cell_type": "code",
   "execution_count": 21,
   "metadata": {},
   "outputs": [
    {
     "name": "stderr",
     "output_type": "stream",
     "text": [
      "/usr/local/lib/python3.6/dist-packages/ipykernel_launcher.py:4: UserWarning: Update your `Conv2D` call to the Keras 2 API: `Conv2D(16, (3, 3), activation=\"relu\", input_shape=(28, 28, 1..., use_bias=False)`\n",
      "  after removing the cwd from sys.path.\n",
      "/usr/local/lib/python3.6/dist-packages/ipykernel_launcher.py:8: UserWarning: Update your `Conv2D` call to the Keras 2 API: `Conv2D(32, (3, 3), activation=\"relu\", use_bias=False)`\n",
      "  \n",
      "/usr/local/lib/python3.6/dist-packages/ipykernel_launcher.py:20: UserWarning: Update your `Conv2D` call to the Keras 2 API: `Conv2D(30, (3, 3), activation=\"relu\", use_bias=False)`\n",
      "/usr/local/lib/python3.6/dist-packages/ipykernel_launcher.py:28: UserWarning: Update your `Conv2D` call to the Keras 2 API: `Conv2D(10, (1, 1), activation=\"relu\", use_bias=False)`\n",
      "/usr/local/lib/python3.6/dist-packages/ipykernel_launcher.py:32: UserWarning: Update your `Conv2D` call to the Keras 2 API: `Conv2D(10, (5, 5), use_bias=False)`\n"
     ]
    }
   ],
   "source": [
    "model3 = Sequential()\n",
    "\n",
    "\n",
    "model3.add(Convolution2D(16, 3, 3, activation='relu', input_shape=(28,28,1),use_bias=False))\n",
    "\n",
    "model3.add(BatchNormalization())\n",
    "\n",
    "model3.add(Convolution2D(32, 3, 3 , activation='relu', use_bias=False))\n",
    "\n",
    "model3.add(BatchNormalization())\n",
    "\n",
    "model3.add(Dropout(0.25))\n",
    "\n",
    "model3.add(MaxPooling2D(pool_size=(2,2)))\n",
    "\n",
    "model3.add(Convolution2D(16,1, activation='relu',use_bias=False))\n",
    "\n",
    "model3.add(BatchNormalization())\n",
    "\n",
    "model3.add(Convolution2D(30, 3, 3 , activation='relu', use_bias=False))\n",
    "\n",
    "model3.add(BatchNormalization())\n",
    "\n",
    "model3.add(Dropout(0.25))\n",
    "\n",
    "model3.add(MaxPooling2D(pool_size=(2,2)))\n",
    "\n",
    "model3.add(Convolution2D(10, 1, 1 , activation='relu', use_bias=False))\n",
    "\n",
    "model3.add(BatchNormalization())\n",
    "\n",
    "model3.add(Convolution2D(10, 5, 5, use_bias=False))\n",
    "\n",
    "model3.add(Flatten())\n",
    "model3.add(Activation('softmax'))"
   ]
  },
  {
   "cell_type": "code",
   "execution_count": 22,
   "metadata": {},
   "outputs": [
    {
     "name": "stdout",
     "output_type": "stream",
     "text": [
      "_________________________________________________________________\n",
      "Layer (type)                 Output Shape              Param #   \n",
      "=================================================================\n",
      "conv2d_10 (Conv2D)           (None, 26, 26, 16)        144       \n",
      "_________________________________________________________________\n",
      "batch_normalization_5 (Batch (None, 26, 26, 16)        64        \n",
      "_________________________________________________________________\n",
      "conv2d_11 (Conv2D)           (None, 24, 24, 32)        4608      \n",
      "_________________________________________________________________\n",
      "batch_normalization_6 (Batch (None, 24, 24, 32)        128       \n",
      "_________________________________________________________________\n",
      "dropout_3 (Dropout)          (None, 24, 24, 32)        0         \n",
      "_________________________________________________________________\n",
      "max_pooling2d_3 (MaxPooling2 (None, 12, 12, 32)        0         \n",
      "_________________________________________________________________\n",
      "conv2d_12 (Conv2D)           (None, 12, 12, 16)        512       \n",
      "_________________________________________________________________\n",
      "batch_normalization_7 (Batch (None, 12, 12, 16)        64        \n",
      "_________________________________________________________________\n",
      "conv2d_13 (Conv2D)           (None, 10, 10, 30)        4320      \n",
      "_________________________________________________________________\n",
      "batch_normalization_8 (Batch (None, 10, 10, 30)        120       \n",
      "_________________________________________________________________\n",
      "dropout_4 (Dropout)          (None, 10, 10, 30)        0         \n",
      "_________________________________________________________________\n",
      "max_pooling2d_4 (MaxPooling2 (None, 5, 5, 30)          0         \n",
      "_________________________________________________________________\n",
      "conv2d_14 (Conv2D)           (None, 5, 5, 10)          300       \n",
      "_________________________________________________________________\n",
      "batch_normalization_9 (Batch (None, 5, 5, 10)          40        \n",
      "_________________________________________________________________\n",
      "conv2d_15 (Conv2D)           (None, 1, 1, 10)          2500      \n",
      "_________________________________________________________________\n",
      "flatten_3 (Flatten)          (None, 10)                0         \n",
      "_________________________________________________________________\n",
      "activation_3 (Activation)    (None, 10)                0         \n",
      "=================================================================\n",
      "Total params: 12,800\n",
      "Trainable params: 12,592\n",
      "Non-trainable params: 208\n",
      "_________________________________________________________________\n"
     ]
    }
   ],
   "source": [
    "model3.summary()"
   ]
  },
  {
   "cell_type": "code",
   "execution_count": 0,
   "metadata": {},
   "outputs": [],
   "source": [
    "model3.compile(loss='categorical_crossentropy',\n",
    "             optimizer='adam',\n",
    "             metrics=['accuracy'])"
   ]
  },
  {
   "cell_type": "code",
   "execution_count": 24,
   "metadata": {},
   "outputs": [
    {
     "name": "stderr",
     "output_type": "stream",
     "text": [
      "/usr/local/lib/python3.6/dist-packages/ipykernel_launcher.py:1: UserWarning: The `nb_epoch` argument in `fit` has been renamed `epochs`.\n",
      "  \"\"\"Entry point for launching an IPython kernel.\n"
     ]
    },
    {
     "name": "stdout",
     "output_type": "stream",
     "text": [
      "Epoch 1/50\n",
      "60000/60000 [==============================] - 6s 100us/step - loss: 0.2917 - acc: 0.9176\n",
      "\n",
      "Validation loss: 0.08725186939015984, acc: 0.9754\n",
      "\n",
      "Epoch 2/50\n",
      "60000/60000 [==============================] - 5s 76us/step - loss: 0.0718 - acc: 0.9787\n",
      "\n",
      "Validation loss: 0.05846041624508798, acc: 0.9838\n",
      "\n",
      "Epoch 3/50\n",
      "60000/60000 [==============================] - 5s 76us/step - loss: 0.0524 - acc: 0.9840\n",
      "\n",
      "Validation loss: 0.044278167476691305, acc: 0.9878\n",
      "\n",
      "Epoch 4/50\n",
      "60000/60000 [==============================] - 5s 76us/step - loss: 0.0426 - acc: 0.9871\n",
      "\n",
      "Validation loss: 0.04647565716933459, acc: 0.9868\n",
      "\n",
      "Epoch 5/50\n",
      "60000/60000 [==============================] - 5s 76us/step - loss: 0.0372 - acc: 0.9884\n",
      "\n",
      "Validation loss: 0.04447198177538812, acc: 0.9868\n",
      "\n",
      "Epoch 6/50\n",
      "60000/60000 [==============================] - 5s 76us/step - loss: 0.0335 - acc: 0.9897\n",
      "\n",
      "Validation loss: 0.04301545846918598, acc: 0.987\n",
      "\n",
      "Epoch 7/50\n",
      "60000/60000 [==============================] - 5s 76us/step - loss: 0.0296 - acc: 0.9907\n",
      "\n",
      "Validation loss: 0.05308813764154911, acc: 0.9824\n",
      "\n",
      "Epoch 8/50\n",
      "60000/60000 [==============================] - 5s 77us/step - loss: 0.0274 - acc: 0.9912\n",
      "\n",
      "Validation loss: 0.035614518360607327, acc: 0.9897\n",
      "\n",
      "Epoch 9/50\n",
      "60000/60000 [==============================] - 5s 76us/step - loss: 0.0252 - acc: 0.9917\n",
      "\n",
      "Validation loss: 0.03474900646817405, acc: 0.9894\n",
      "\n",
      "Epoch 10/50\n",
      "60000/60000 [==============================] - 5s 76us/step - loss: 0.0236 - acc: 0.9926\n",
      "\n",
      "Validation loss: 0.034539871656545436, acc: 0.989\n",
      "\n",
      "Epoch 11/50\n",
      "60000/60000 [==============================] - 5s 76us/step - loss: 0.0225 - acc: 0.9926\n",
      "\n",
      "Validation loss: 0.03131572882018518, acc: 0.9903\n",
      "\n",
      "Epoch 12/50\n",
      "60000/60000 [==============================] - 5s 76us/step - loss: 0.0205 - acc: 0.9933\n",
      "\n",
      "Validation loss: 0.03256268173283897, acc: 0.9904\n",
      "\n",
      "Epoch 13/50\n",
      "60000/60000 [==============================] - 5s 75us/step - loss: 0.0191 - acc: 0.9938\n",
      "\n",
      "Validation loss: 0.03112036324283108, acc: 0.9897\n",
      "\n",
      "Epoch 14/50\n",
      "60000/60000 [==============================] - 5s 76us/step - loss: 0.0185 - acc: 0.9942\n",
      "\n",
      "Validation loss: 0.038111265603802166, acc: 0.9873\n",
      "\n",
      "Epoch 15/50\n",
      "60000/60000 [==============================] - 5s 77us/step - loss: 0.0178 - acc: 0.9939\n",
      "\n",
      "Validation loss: 0.031706898037320935, acc: 0.9897\n",
      "\n",
      "Epoch 16/50\n",
      "60000/60000 [==============================] - 5s 83us/step - loss: 0.0182 - acc: 0.9939\n",
      "\n",
      "Validation loss: 0.02852203133717412, acc: 0.9914\n",
      "\n",
      "Epoch 17/50\n",
      "60000/60000 [==============================] - 5s 80us/step - loss: 0.0160 - acc: 0.9945\n",
      "\n",
      "Validation loss: 0.033326577228179666, acc: 0.9896\n",
      "\n",
      "Epoch 18/50\n",
      "60000/60000 [==============================] - 5s 76us/step - loss: 0.0167 - acc: 0.9945\n",
      "\n",
      "Validation loss: 0.031923917062414695, acc: 0.99\n",
      "\n",
      "Epoch 19/50\n",
      "60000/60000 [==============================] - 5s 76us/step - loss: 0.0157 - acc: 0.9945\n",
      "\n",
      "Validation loss: 0.03554576902061235, acc: 0.9887\n",
      "\n",
      "Epoch 20/50\n",
      "60000/60000 [==============================] - 5s 76us/step - loss: 0.0148 - acc: 0.9950\n",
      "\n",
      "Validation loss: 0.03346448554098315, acc: 0.9895\n",
      "\n",
      "Epoch 21/50\n",
      "60000/60000 [==============================] - 5s 77us/step - loss: 0.0137 - acc: 0.9953\n",
      "\n",
      "Validation loss: 0.03162428645663895, acc: 0.9898\n",
      "\n",
      "Epoch 22/50\n",
      "60000/60000 [==============================] - 5s 83us/step - loss: 0.0142 - acc: 0.9954\n",
      "\n",
      "Validation loss: 0.03523942466330773, acc: 0.9891\n",
      "\n",
      "Epoch 23/50\n",
      "60000/60000 [==============================] - 5s 76us/step - loss: 0.0136 - acc: 0.9954\n",
      "\n",
      "Validation loss: 0.023956839512538863, acc: 0.9925\n",
      "\n",
      "Epoch 24/50\n",
      "60000/60000 [==============================] - 5s 76us/step - loss: 0.0129 - acc: 0.9958\n",
      "\n",
      "Validation loss: 0.030535561334213708, acc: 0.9914\n",
      "\n",
      "Epoch 25/50\n",
      "60000/60000 [==============================] - 5s 76us/step - loss: 0.0125 - acc: 0.9957\n",
      "\n",
      "Validation loss: 0.028970460526205714, acc: 0.9903\n",
      "\n",
      "Epoch 26/50\n",
      "60000/60000 [==============================] - 5s 76us/step - loss: 0.0116 - acc: 0.9962\n",
      "\n",
      "Validation loss: 0.023994665386900305, acc: 0.9928\n",
      "\n",
      "Epoch 27/50\n",
      "60000/60000 [==============================] - 5s 76us/step - loss: 0.0109 - acc: 0.9965\n",
      "\n",
      "Validation loss: 0.02823395295367227, acc: 0.9918\n",
      "\n",
      "Epoch 28/50\n",
      "60000/60000 [==============================] - 5s 75us/step - loss: 0.0120 - acc: 0.9960\n",
      "\n",
      "Validation loss: 0.033227822493838904, acc: 0.989\n",
      "\n",
      "Epoch 29/50\n",
      "60000/60000 [==============================] - 5s 76us/step - loss: 0.0121 - acc: 0.9957\n",
      "\n",
      "Validation loss: 0.024964086181976018, acc: 0.992\n",
      "\n",
      "Epoch 30/50\n",
      "60000/60000 [==============================] - 5s 75us/step - loss: 0.0112 - acc: 0.9961\n",
      "\n",
      "Validation loss: 0.026360816159509703, acc: 0.9919\n",
      "\n",
      "Epoch 31/50\n",
      "60000/60000 [==============================] - 5s 80us/step - loss: 0.0099 - acc: 0.9965\n",
      "\n",
      "Validation loss: 0.03183317848724036, acc: 0.9897\n",
      "\n",
      "Epoch 32/50\n",
      "60000/60000 [==============================] - 5s 84us/step - loss: 0.0101 - acc: 0.9963\n",
      "\n",
      "Validation loss: 0.033487024017461224, acc: 0.9888\n",
      "\n",
      "Epoch 33/50\n",
      "60000/60000 [==============================] - 5s 77us/step - loss: 0.0106 - acc: 0.9965\n",
      "\n",
      "Validation loss: 0.02732582702673244, acc: 0.9921\n",
      "\n",
      "Epoch 34/50\n",
      "60000/60000 [==============================] - 5s 75us/step - loss: 0.0093 - acc: 0.9969\n",
      "\n",
      "Validation loss: 0.030641142974338436, acc: 0.99\n",
      "\n",
      "Epoch 35/50\n",
      "60000/60000 [==============================] - 5s 76us/step - loss: 0.0096 - acc: 0.9970\n",
      "\n",
      "Validation loss: 0.03308294003740448, acc: 0.99\n",
      "\n",
      "Epoch 36/50\n",
      "60000/60000 [==============================] - 5s 76us/step - loss: 0.0085 - acc: 0.9971\n",
      "\n",
      "Validation loss: 0.030608352075453878, acc: 0.9909\n",
      "\n",
      "Epoch 37/50\n",
      "60000/60000 [==============================] - 5s 76us/step - loss: 0.0099 - acc: 0.9964\n",
      "\n",
      "Validation loss: 0.030134183249847048, acc: 0.9915\n",
      "\n",
      "Epoch 38/50\n",
      "60000/60000 [==============================] - 5s 76us/step - loss: 0.0090 - acc: 0.9970\n",
      "\n",
      "Validation loss: 0.033211477910306715, acc: 0.99\n",
      "\n",
      "Epoch 39/50\n",
      "60000/60000 [==============================] - 5s 76us/step - loss: 0.0092 - acc: 0.9968\n",
      "\n",
      "Validation loss: 0.028530703625421303, acc: 0.9914\n",
      "\n",
      "Epoch 40/50\n",
      "60000/60000 [==============================] - 5s 75us/step - loss: 0.0094 - acc: 0.9968\n",
      "\n",
      "Validation loss: 0.031164767361061423, acc: 0.991\n",
      "\n",
      "Epoch 41/50\n",
      "60000/60000 [==============================] - 5s 76us/step - loss: 0.0089 - acc: 0.9970\n",
      "\n",
      "Validation loss: 0.03313470840278642, acc: 0.9906\n",
      "\n",
      "Epoch 42/50\n",
      "60000/60000 [==============================] - 5s 75us/step - loss: 0.0097 - acc: 0.9968\n",
      "\n",
      "Validation loss: 0.04199927843517325, acc: 0.9872\n",
      "\n",
      "Epoch 43/50\n",
      "60000/60000 [==============================] - 5s 75us/step - loss: 0.0079 - acc: 0.9973\n",
      "\n",
      "Validation loss: 0.0322913506810728, acc: 0.9908\n",
      "\n",
      "Epoch 44/50\n",
      "60000/60000 [==============================] - 5s 76us/step - loss: 0.0085 - acc: 0.9969\n",
      "\n",
      "Validation loss: 0.0343578405782413, acc: 0.9896\n",
      "\n",
      "Epoch 45/50\n",
      "60000/60000 [==============================] - 5s 76us/step - loss: 0.0081 - acc: 0.9971\n",
      "\n",
      "Validation loss: 0.031175797478522144, acc: 0.99\n",
      "\n",
      "Epoch 46/50\n",
      "60000/60000 [==============================] - 5s 76us/step - loss: 0.0085 - acc: 0.9970\n",
      "\n",
      "Validation loss: 0.04457317637440101, acc: 0.9868\n",
      "\n",
      "Epoch 47/50\n",
      "60000/60000 [==============================] - 5s 82us/step - loss: 0.0090 - acc: 0.9970\n",
      "\n",
      "Validation loss: 0.03126377732498949, acc: 0.9903\n",
      "\n",
      "Epoch 48/50\n",
      "60000/60000 [==============================] - 5s 83us/step - loss: 0.0076 - acc: 0.9974\n",
      "\n",
      "Validation loss: 0.03216229313273325, acc: 0.9904\n",
      "\n",
      "Epoch 49/50\n",
      "60000/60000 [==============================] - 5s 75us/step - loss: 0.0074 - acc: 0.9974\n",
      "\n",
      "Validation loss: 0.033726087800230016, acc: 0.99\n",
      "\n",
      "Epoch 50/50\n",
      "60000/60000 [==============================] - 5s 76us/step - loss: 0.0073 - acc: 0.9973\n",
      "\n",
      "Validation loss: 0.03705840708265132, acc: 0.989\n",
      "\n"
     ]
    },
    {
     "data": {
      "text/plain": [
       "<keras.callbacks.History at 0x7f4b607e8630>"
      ]
     },
     "execution_count": 24,
     "output_type": "execute_result",
     "metadata": {}
    }
   ],
   "source": [
    "model3.fit(X_train, Y_train, batch_size=128, nb_epoch=50, verbose=1,callbacks=[Callback((X_test, Y_test))])"
   ]
  },
  {
   "cell_type": "code",
   "execution_count": 25,
   "metadata": {},
   "outputs": [
    {
     "name": "stdout",
     "output_type": "stream",
     "text": [
      "[0.03705840708265132, 0.989]\n"
     ]
    }
   ],
   "source": [
    "score = model3.evaluate(X_test, Y_test, verbose=0)\n",
    "print(score)"
   ]
  },
  {
   "cell_type": "markdown",
   "metadata": {},
   "source": [
    "###Different approach:"
   ]
  },
  {
   "cell_type": "code",
   "execution_count": 57,
   "metadata": {},
   "outputs": [
    {
     "name": "stderr",
     "output_type": "stream",
     "text": [
      "/usr/local/lib/python3.6/dist-packages/ipykernel_launcher.py:29: UserWarning: Update your `SeparableConv2D` call to the Keras 2 API: `SeparableConv2D(32, (3, 3))`\n",
      "/usr/local/lib/python3.6/dist-packages/ipykernel_launcher.py:33: UserWarning: Update your `SeparableConv2D` call to the Keras 2 API: `SeparableConv2D(64, (3, 3))`\n",
      "/usr/local/lib/python3.6/dist-packages/ipykernel_launcher.py:36: UserWarning: Update your `Conv2D` call to the Keras 2 API: `Conv2D(32, (1, 1))`\n",
      "/usr/local/lib/python3.6/dist-packages/ipykernel_launcher.py:37: UserWarning: Update your `SeparableConv2D` call to the Keras 2 API: `SeparableConv2D(128, (3, 3))`\n"
     ]
    },
    {
     "name": "stdout",
     "output_type": "stream",
     "text": [
      "_________________________________________________________________\n",
      "Layer (type)                 Output Shape              Param #   \n",
      "=================================================================\n",
      "conv2d_20 (Conv2D)           (None, 26, 26, 32)        320       \n",
      "_________________________________________________________________\n",
      "batch_normalization_15 (Batc (None, 26, 26, 32)        128       \n",
      "_________________________________________________________________\n",
      "activation_10 (Activation)   (None, 26, 26, 32)        0         \n",
      "_________________________________________________________________\n",
      "separable_conv2d_4 (Separabl (None, 24, 24, 32)        1344      \n",
      "_________________________________________________________________\n",
      "batch_normalization_16 (Batc (None, 24, 24, 32)        128       \n",
      "_________________________________________________________________\n",
      "activation_11 (Activation)   (None, 24, 24, 32)        0         \n",
      "_________________________________________________________________\n",
      "max_pooling2d_7 (MaxPooling2 (None, 12, 12, 32)        0         \n",
      "_________________________________________________________________\n",
      "separable_conv2d_5 (Separabl (None, 10, 10, 64)        2400      \n",
      "_________________________________________________________________\n",
      "batch_normalization_17 (Batc (None, 10, 10, 64)        256       \n",
      "_________________________________________________________________\n",
      "activation_12 (Activation)   (None, 10, 10, 64)        0         \n",
      "_________________________________________________________________\n",
      "conv2d_21 (Conv2D)           (None, 10, 10, 32)        2080      \n",
      "_________________________________________________________________\n",
      "separable_conv2d_6 (Separabl (None, 8, 8, 128)         4512      \n",
      "_________________________________________________________________\n",
      "batch_normalization_18 (Batc (None, 8, 8, 128)         512       \n",
      "_________________________________________________________________\n",
      "activation_13 (Activation)   (None, 8, 8, 128)         0         \n",
      "_________________________________________________________________\n",
      "max_pooling2d_8 (MaxPooling2 (None, 4, 4, 128)         0         \n",
      "_________________________________________________________________\n",
      "conv2d_22 (Conv2D)           (None, 4, 4, 10)          1290      \n",
      "_________________________________________________________________\n",
      "batch_normalization_19 (Batc (None, 4, 4, 10)          40        \n",
      "_________________________________________________________________\n",
      "activation_14 (Activation)   (None, 4, 4, 10)          0         \n",
      "_________________________________________________________________\n",
      "conv2d_23 (Conv2D)           (None, 1, 1, 10)          1610      \n",
      "_________________________________________________________________\n",
      "flatten_5 (Flatten)          (None, 10)                0         \n",
      "_________________________________________________________________\n",
      "activation_15 (Activation)   (None, 10)                0         \n",
      "=================================================================\n",
      "Total params: 14,620\n",
      "Trainable params: 14,088\n",
      "Non-trainable params: 532\n",
      "_________________________________________________________________\n",
      "Epoch 1/30\n",
      "938/937 [==============================] - 21s 22ms/step - loss: 0.4276 - acc: 0.8764 - val_loss: 0.1199 - val_acc: 0.9620\n",
      "Epoch 2/30\n",
      "938/937 [==============================] - 20s 22ms/step - loss: 0.1200 - acc: 0.9632 - val_loss: 0.0589 - val_acc: 0.9819\n",
      "Epoch 3/30\n",
      "938/937 [==============================] - 19s 21ms/step - loss: 0.0897 - acc: 0.9726 - val_loss: 0.0634 - val_acc: 0.9805\n",
      "Epoch 4/30\n",
      "938/937 [==============================] - 21s 22ms/step - loss: 0.0769 - acc: 0.9769 - val_loss: 0.0394 - val_acc: 0.9882\n",
      "Epoch 5/30\n",
      "938/937 [==============================] - 19s 21ms/step - loss: 0.0707 - acc: 0.9783 - val_loss: 0.0527 - val_acc: 0.9858\n",
      "Epoch 6/30\n",
      "938/937 [==============================] - 20s 22ms/step - loss: 0.0642 - acc: 0.9804 - val_loss: 0.0503 - val_acc: 0.9838\n",
      "Epoch 7/30\n",
      "938/937 [==============================] - 20s 21ms/step - loss: 0.0620 - acc: 0.9803 - val_loss: 0.0490 - val_acc: 0.9854\n",
      "Epoch 8/30\n",
      "938/937 [==============================] - 19s 21ms/step - loss: 0.0568 - acc: 0.9830 - val_loss: 0.0350 - val_acc: 0.9891\n",
      "Epoch 9/30\n",
      "938/937 [==============================] - 19s 20ms/step - loss: 0.0547 - acc: 0.9831 - val_loss: 0.0403 - val_acc: 0.9887\n",
      "Epoch 10/30\n",
      "938/937 [==============================] - 21s 22ms/step - loss: 0.0515 - acc: 0.9843 - val_loss: 0.0276 - val_acc: 0.9919\n",
      "Epoch 11/30\n",
      "938/937 [==============================] - 20s 21ms/step - loss: 0.0508 - acc: 0.9840 - val_loss: 0.0234 - val_acc: 0.9928\n",
      "Epoch 12/30\n",
      "938/937 [==============================] - 19s 20ms/step - loss: 0.0485 - acc: 0.9853 - val_loss: 0.0253 - val_acc: 0.9920\n",
      "Epoch 13/30\n",
      "938/937 [==============================] - 19s 20ms/step - loss: 0.0487 - acc: 0.9851 - val_loss: 0.0227 - val_acc: 0.9928\n",
      "Epoch 14/30\n",
      "938/937 [==============================] - 20s 21ms/step - loss: 0.0460 - acc: 0.9857 - val_loss: 0.0378 - val_acc: 0.9890\n",
      "Epoch 15/30\n",
      "938/937 [==============================] - 20s 21ms/step - loss: 0.0465 - acc: 0.9859 - val_loss: 0.0358 - val_acc: 0.9895\n",
      "Epoch 16/30\n",
      "938/937 [==============================] - 19s 20ms/step - loss: 0.0440 - acc: 0.9864 - val_loss: 0.0240 - val_acc: 0.9917\n",
      "Epoch 17/30\n",
      "938/937 [==============================] - 19s 20ms/step - loss: 0.0419 - acc: 0.9873 - val_loss: 0.0368 - val_acc: 0.9886\n",
      "Epoch 18/30\n",
      "938/937 [==============================] - 19s 21ms/step - loss: 0.0425 - acc: 0.9871 - val_loss: 0.0277 - val_acc: 0.9916\n",
      "Epoch 19/30\n",
      "938/937 [==============================] - 20s 22ms/step - loss: 0.0405 - acc: 0.9873 - val_loss: 0.0191 - val_acc: 0.9933\n",
      "Epoch 20/30\n",
      "938/937 [==============================] - 21s 22ms/step - loss: 0.0399 - acc: 0.9877 - val_loss: 0.0289 - val_acc: 0.9895\n",
      "Epoch 21/30\n",
      "938/937 [==============================] - 19s 20ms/step - loss: 0.0391 - acc: 0.9880 - val_loss: 0.0362 - val_acc: 0.9885\n",
      "Epoch 22/30\n",
      "938/937 [==============================] - 19s 20ms/step - loss: 0.0370 - acc: 0.9885 - val_loss: 0.0178 - val_acc: 0.9935\n",
      "Epoch 23/30\n",
      "938/937 [==============================] - 21s 22ms/step - loss: 0.0373 - acc: 0.9885 - val_loss: 0.0220 - val_acc: 0.9926\n",
      "Epoch 24/30\n",
      "938/937 [==============================] - 19s 21ms/step - loss: 0.0374 - acc: 0.9879 - val_loss: 0.0255 - val_acc: 0.9930\n",
      "Epoch 25/30\n",
      "938/937 [==============================] - 19s 21ms/step - loss: 0.0363 - acc: 0.9889 - val_loss: 0.0228 - val_acc: 0.9928\n",
      "Epoch 26/30\n",
      "938/937 [==============================] - 20s 21ms/step - loss: 0.0353 - acc: 0.9891 - val_loss: 0.0317 - val_acc: 0.9914\n",
      "Epoch 27/30\n",
      "938/937 [==============================] - 21s 22ms/step - loss: 0.0354 - acc: 0.9895 - val_loss: 0.0195 - val_acc: 0.9940\n",
      "Epoch 00026: early stopping THR\n"
     ]
    },
    {
     "data": {
      "text/plain": [
       "<keras.callbacks.History at 0x7f4b2c036f98>"
      ]
     },
     "execution_count": 57,
     "output_type": "execute_result",
     "metadata": {}
    }
   ],
   "source": [
    "import warnings\n",
    "num_classes = 10\n",
    "(x_train, y_train), (x_test, y_test) = mnist.load_data()\n",
    "img_height, img_width = x_train.shape[1],x_train.shape[2]\n",
    "\n",
    "\n",
    "y_train = keras.utils.to_categorical(y_train, num_classes)\n",
    "y_test = keras.utils.to_categorical(y_test, num_classes)\n",
    "\n",
    "from keras.preprocessing.image import ImageDataGenerator\n",
    "\n",
    "\n",
    "x_train = x_train.reshape(x_train.shape[0], 28, 28, 1)\n",
    "x_test = x_test.reshape(x_test.shape[0], 28, 28, 1)\n",
    "x_train = x_train.astype('float32')\n",
    "x_test = x_test.astype('float32')\n",
    "x_train/= 255\n",
    "x_test/= 255\n",
    "\n",
    "from keras.layers import BatchNormalization\n",
    "from keras.layers import Conv2D, SeparableConv2D\n",
    "from keras.callbacks import Callback, ModelCheckpoint\n",
    "\n",
    "\n",
    "model = Sequential()\n",
    "model.add(Conv2D(32, (3, 3), input_shape=(28,28,1)))\n",
    "model.add(BatchNormalization())\n",
    "model.add(Activation(\"relu\"))\n",
    "model.add(SeparableConv2D(32, 3, 3))\n",
    "model.add(BatchNormalization())\n",
    "model.add(Activation(\"relu\"))\n",
    "model.add(MaxPooling2D(pool_size=(2, 2)))\n",
    "model.add(SeparableConv2D(64, 3, 3))\n",
    "model.add(BatchNormalization())\n",
    "model.add(Activation(\"relu\"))\n",
    "model.add(Conv2D(32, 1, 1))\n",
    "model.add(SeparableConv2D(128, 3, 3))\n",
    "model.add(BatchNormalization())\n",
    "model.add(Activation(\"relu\"))\n",
    "model.add(MaxPooling2D(pool_size=(2, 2)))\n",
    "model.add(Convolution2D(10, 1))\n",
    "model.add(BatchNormalization())\n",
    "model.add(Activation(\"relu\"))\n",
    "model.add(Convolution2D(10, 4))\n",
    "model.add(Flatten())\n",
    "\n",
    "\n",
    "model.add(Activation('softmax'))\n",
    "model.compile(loss='categorical_crossentropy',\n",
    "              optimizer='adam',\n",
    "              metrics=['accuracy'])\n",
    "model.summary()\n",
    "\n",
    "\n",
    "class EarlyStoppingByAccuracy(Callback):\n",
    "    def __init__(self, monitor='val_acc', mode='max', value=0.98, verbose=0):\n",
    "        super(Callback, self).__init__()\n",
    "        self.monitor = monitor\n",
    "        self.value = value\n",
    "        self.verbose = verbose\n",
    "\n",
    "    def on_epoch_end(self, epoch, logs={}):\n",
    "        current = logs.get(self.monitor)\n",
    "        if current is None:\n",
    "            warnings.warn(\"Early stopping requires %s available!\" % self.monitor, RuntimeWarning)\n",
    "        \n",
    "        if current >= self.value:\n",
    "            if self.verbose > 0:\n",
    "                print(\"Epoch %05d: early stopping THR\" % epoch)\n",
    "            self.model.stop_training = True\n",
    "\n",
    "callbacks = [\n",
    "    EarlyStoppingByAccuracy(monitor='val_acc', value=0.994, verbose=1),\n",
    "    ModelCheckpoint(filepath='/tmp/weights.hdf5', monitor='val_loss', save_best_only=True, verbose=0),\n",
    "]          \n",
    "\n",
    "\n",
    "\n",
    "image_gen = ImageDataGenerator(\n",
    "        rotation_range=20,\n",
    "        width_shift_range=0.1,\n",
    "        height_shift_range=0.1,\n",
    "        shear_range=0.5,\n",
    "        zoom_range=(0.9, 1.1),\n",
    "        horizontal_flip=False,\n",
    "        vertical_flip=False,\n",
    "        fill_mode='constant',\n",
    "        cval=0)\n",
    "\n",
    "#training the image preprocessing\n",
    "image_gen.fit(x_train, augment=True)\n",
    "                \n",
    "model.fit_generator(image_gen.flow(x_train, y_train, batch_size=64),\n",
    "          epochs=30,\n",
    "          steps_per_epoch=len(x_train)/(64),\n",
    "          verbose=1,\n",
    "          validation_data=(x_test, y_test),\n",
    "          callbacks=callbacks)"
   ]
  },
  {
   "cell_type": "code",
   "execution_count": 58,
   "metadata": {},
   "outputs": [
    {
     "name": "stdout",
     "output_type": "stream",
     "text": [
      "[0.019515352329933375, 0.994]\n"
     ]
    }
   ],
   "source": [
    "score = model.evaluate(X_test, Y_test, verbose=0)\n",
    "print(score)"
   ]
  },
  {
   "cell_type": "markdown",
   "metadata": {},
   "source": [
    "Predict is used to generate the accuracy of the input data."
   ]
  },
  {
   "cell_type": "code",
   "execution_count": 0,
   "metadata": {},
   "outputs": [],
   "source": [
    "y_pred = model3.predict(X_test)"
   ]
  },
  {
   "cell_type": "code",
   "execution_count": 68,
   "metadata": {},
   "outputs": [
    {
     "name": "stdout",
     "output_type": "stream",
     "text": [
      "[[2.0240398e-11 1.4089855e-09 4.9526525e-09 2.8171017e-09 1.3878695e-12\n",
      "  4.6697396e-15 2.7794509e-18 1.0000000e+00 3.2216476e-12 2.3058577e-08]\n",
      " [3.5276519e-06 1.8498626e-04 9.9980849e-01 1.0914896e-10 4.8222248e-08\n",
      "  2.4239770e-11 1.4348688e-06 3.7136876e-09 1.5162911e-06 4.5145346e-12]\n",
      " [7.9495460e-10 9.9999976e-01 4.2157194e-10 1.4902638e-13 1.5949685e-07\n",
      "  2.0009024e-10 9.7327635e-10 1.0995280e-07 1.1446364e-09 6.8807397e-11]\n",
      " [9.9999964e-01 2.0721643e-11 2.4425251e-10 4.6587354e-14 1.7495862e-11\n",
      "  2.1064990e-11 4.1320337e-07 2.5794601e-11 9.3256602e-09 3.4626086e-09]\n",
      " [1.1124602e-11 6.8545191e-08 1.2462986e-10 2.6262722e-15 9.9972612e-01\n",
      "  3.2281805e-13 2.2371964e-09 1.8117989e-09 5.8911818e-09 2.7372217e-04]\n",
      " [2.7230701e-10 9.9999893e-01 5.7216898e-10 2.4005398e-14 7.4347406e-07\n",
      "  1.7206903e-11 7.6797325e-11 3.5151800e-07 5.8261551e-10 3.8924355e-10]\n",
      " [6.2325714e-14 3.8437315e-07 9.7784012e-12 3.1909679e-15 9.9998879e-01\n",
      "  6.7023394e-11 3.6203831e-14 2.1743372e-08 2.7294269e-07 1.0551399e-05]\n",
      " [5.8690675e-10 8.7454148e-11 1.1693131e-10 1.5083617e-11 7.7367637e-05\n",
      "  8.1197766e-12 9.1104407e-15 5.9212093e-09 9.3691386e-07 9.9992168e-01]\n",
      " [2.3978964e-07 6.1888369e-11 1.0321379e-11 8.5973735e-09 2.3216751e-09\n",
      "  9.8915941e-01 8.0991286e-04 9.8892743e-12 9.9823503e-03 4.8128350e-05]]\n",
      "[[0. 0. 0. 0. 0. 0. 0. 1. 0. 0.]\n",
      " [0. 0. 1. 0. 0. 0. 0. 0. 0. 0.]\n",
      " [0. 1. 0. 0. 0. 0. 0. 0. 0. 0.]\n",
      " [1. 0. 0. 0. 0. 0. 0. 0. 0. 0.]\n",
      " [0. 0. 0. 0. 1. 0. 0. 0. 0. 0.]\n",
      " [0. 1. 0. 0. 0. 0. 0. 0. 0. 0.]\n",
      " [0. 0. 0. 0. 1. 0. 0. 0. 0. 0.]\n",
      " [0. 0. 0. 0. 0. 0. 0. 0. 0. 1.]\n",
      " [0. 0. 0. 0. 0. 1. 0. 0. 0. 0.]]\n"
     ]
    }
   ],
   "source": [
    "print(y_pred[:9])\n",
    "print(y_test[:9])"
   ]
  },
  {
   "cell_type": "code",
   "execution_count": 0,
   "metadata": {},
   "outputs": [],
   "source": [
    "layer_dict = dict([(layer.name, layer) for layer in model.layers])"
   ]
  },
  {
   "cell_type": "code",
   "execution_count": 0,
   "metadata": {},
   "outputs": [],
   "source": [
    "import numpy as np\n",
    "from matplotlib import pyplot as plt\n",
    "from keras import backend as K\n",
    "%matplotlib inline\n",
    "# util function to convert a tensor into a valid image\n",
    "def deprocess_image(x):\n",
    "    # normalize tensor: center on 0., ensure std is 0.1\n",
    "    x -= x.mean()\n",
    "    x /= (x.std() + 1e-5)\n",
    "    x *= 0.1\n",
    "\n",
    "    # clip to [0, 1]\n",
    "    x += 0.5\n",
    "    x = np.clip(x, 0, 1)\n",
    "\n",
    "    # convert to RGB array\n",
    "    x *= 255\n",
    "    #x = x.transpose((1, 2, 0))\n",
    "    x = np.clip(x, 0, 255).astype('uint8')\n",
    "    return x\n",
    "\n",
    "def vis_img_in_filter(img = np.array(X_train[2]).reshape((1, 28, 28, 1)).astype(np.float64), \n",
    "                      layer_name = 'conv2d_10'):\n",
    "    layer_output = layer_dict[layer_name].output\n",
    "    img_ascs = list()\n",
    "    for filter_index in range(layer_output.shape[3]):\n",
    "        # build a loss function that maximizes the activation\n",
    "        # of the nth filter of the layer considered\n",
    "        loss = K.mean(layer_output[:, :, :, filter_index])\n",
    "\n",
    "        # compute the gradient of the input picture wrt this loss\n",
    "        grads = K.gradients(loss, model.input)[0]\n",
    "\n",
    "        # normalization trick: we normalize the gradient\n",
    "        grads /= (K.sqrt(K.mean(K.square(grads))) + 1e-5)\n",
    "\n",
    "        # this function returns the loss and grads given the input picture\n",
    "        iterate = K.function([model.input], [loss, grads])\n",
    "\n",
    "        # step size for gradient ascent\n",
    "        step = 5.\n",
    "\n",
    "        img_asc = np.array(img)\n",
    "        # run gradient ascent for 20 steps\n",
    "        for i in range(20):\n",
    "            loss_value, grads_value = iterate([img_asc])\n",
    "            img_asc += grads_value * step\n",
    "\n",
    "        img_asc = img_asc[0]\n",
    "        img_ascs.append(deprocess_image(img_asc).reshape((28, 28)))\n",
    "        \n",
    "    if layer_output.shape[3] >= 35:\n",
    "        plot_x, plot_y = 6, 6\n",
    "    elif layer_output.shape[3] >= 23:\n",
    "        plot_x, plot_y = 4, 6\n",
    "    elif layer_output.shape[3] >= 11:\n",
    "        plot_x, plot_y = 2, 6\n",
    "    else:\n",
    "        plot_x, plot_y = 1, 2\n",
    "    fig, ax = plt.subplots(plot_x, plot_y, figsize = (12, 12))\n",
    "    ax[0, 0].imshow(img.reshape((28, 28)), cmap = 'gray')\n",
    "    ax[0, 0].set_title('Input image')\n",
    "    fig.suptitle('Input image and %s filters' % (layer_name,))\n",
    "    fig.tight_layout(pad = 0.3, rect = [0, 0, 0.9, 0.9])\n",
    "    for (x, y) in [(i, j) for i in range(plot_x) for j in range(plot_y)]:\n",
    "        if x == 0 and y == 0:\n",
    "            continue\n",
    "        ax[x, y].imshow(img_ascs[x * plot_y + y - 1], cmap = 'gray')\n",
    "        ax[x, y].set_title('filter %d' % (x * plot_y + y - 1))\n",
    "\n",
    "vis_img_in_filter()"
   ]
  },
  {
   "cell_type": "code",
   "execution_count": 0,
   "metadata": {},
   "outputs": [],
   "source": [
    ""
   ]
  }
 ],
 "metadata": {
  "colab": {
   "name": "EVA_Assignment_3.ipynb",
   "version": "0.3.2",
   "provenance": [],
   "collapsed_sections": []
  },
  "kernelspec": {
   "name": "python3",
   "display_name": "Python 3"
  },
  "accelerator": "GPU"
 },
 "nbformat": 4,
 "nbformat_minor": 0
}
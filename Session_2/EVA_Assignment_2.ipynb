{
  "nbformat": 4,
  "nbformat_minor": 0,
  "metadata": {
    "colab": {
      "name": "EVA_Assignment_2.ipynb",
      "version": "0.3.2",
      "provenance": [],
      "collapsed_sections": []
    },
    "kernelspec": {
      "name": "python3",
      "display_name": "Python 3"
    },
    "accelerator": "GPU"
  },
  "cells": [
    {
      "cell_type": "markdown",
      "metadata": {
        "id": "-nJ7YEw_vyjG",
        "colab_type": "text"
      },
      "source": [
        "<a href=\"https://colab.research.google.com/github/hardayal/EVA/blob/master/Session_2/EVA_Assignment_2.ipynb\" target=\"_parent\"><img src=\"https://colab.research.google.com/assets/colab-badge.svg\" alt=\"Open In Colab\"/></a>\n",
        "\n",
        "# **Not an ideal network**"
      ]
    },
    {
      "cell_type": "markdown",
      "metadata": {
        "id": "KFwGKD-RTeea",
        "colab_type": "text"
      },
      "source": [
        "**Importing Libraries**\n",
        "\n",
        "---\n",
        "\n",
        "\n",
        " Keras is the open-source Neural network library written in Python, It has Tensorflow as backend\n",
        " https://keras.io/"
      ]
    },
    {
      "cell_type": "code",
      "metadata": {
        "id": "kGWv5hBhv2jf",
        "colab_type": "code",
        "colab": {
          "base_uri": "https://localhost:8080/",
          "height": 34
        },
        "outputId": "1d1efd92-bcf0-4333-90d2-28ba3deead75"
      },
      "source": [
        "!pip install -q keras # Installing through python package manager - pip\n",
        "import keras # Importing keras"
      ],
      "execution_count": 1,
      "outputs": [
        {
          "output_type": "stream",
          "text": [
            "Using TensorFlow backend.\n"
          ],
          "name": "stderr"
        }
      ]
    },
    {
      "cell_type": "code",
      "metadata": {
        "id": "wnMlDJQKv4VG",
        "colab_type": "code",
        "colab": {}
      },
      "source": [
        "\n",
        "import numpy as np\n",
        "\n",
        "# Importing Keras Functions\n",
        "from keras.models import Sequential\n",
        "from keras.layers import Flatten\n",
        "from keras.layers import Convolution2D\n",
        "from keras.utils import np_utils\n",
        "\n",
        "from keras.datasets import mnist"
      ],
      "execution_count": 0,
      "outputs": []
    },
    {
      "cell_type": "markdown",
      "metadata": {
        "id": "tRHh05ukURVA",
        "colab_type": "text"
      },
      "source": [
        "**Loading data**\n",
        "\n",
        "---\n",
        "\n",
        " Loading Data and Doing train/test split for validation of model"
      ]
    },
    {
      "cell_type": "code",
      "metadata": {
        "id": "8CdSu2lMwB9s",
        "colab_type": "code",
        "outputId": "a36e592b-37c3-41fe-e40b-eb996d681ece",
        "colab": {
          "base_uri": "https://localhost:8080/",
          "height": 51
        }
      },
      "source": [
        "(X_train, y_train), (X_test, y_test) = mnist.load_data() # Downloads MNIST data from host server and splits data"
      ],
      "execution_count": 3,
      "outputs": [
        {
          "output_type": "stream",
          "text": [
            "Downloading data from https://s3.amazonaws.com/img-datasets/mnist.npz\n",
            "11493376/11490434 [==============================] - 1s 0us/step\n"
          ],
          "name": "stdout"
        }
      ]
    },
    {
      "cell_type": "code",
      "metadata": {
        "id": "tLaDf0-rwCmj",
        "colab_type": "code",
        "outputId": "30075796-037a-4c0b-a9d9-4518d227f90a",
        "colab": {
          "base_uri": "https://localhost:8080/",
          "height": 303
        }
      },
      "source": [
        "print (X_train.shape) # X_train shape gives us Number of images , height and width of image respectively\n",
        "from matplotlib import pyplot as plt # Plotting Library in Python\n",
        "# Shows Images embedded in the same Jupyter notebook\n",
        "%matplotlib inline \n",
        "plt.imshow(X_train[0]) # Displaying First Image"
      ],
      "execution_count": 4,
      "outputs": [
        {
          "output_type": "stream",
          "text": [
            "(60000, 28, 28)\n"
          ],
          "name": "stdout"
        },
        {
          "output_type": "execute_result",
          "data": {
            "text/plain": [
              "<matplotlib.image.AxesImage at 0x7f7f605d9d30>"
            ]
          },
          "metadata": {
            "tags": []
          },
          "execution_count": 4
        },
        {
          "output_type": "display_data",
          "data": {
            "image/png": "[encoded data removed]",
            "text/plain": [
              "<Figure size 432x288 with 1 Axes>"
            ]
          },
          "metadata": {
            "tags": []
          }
        }
      ]
    },
    {
      "cell_type": "code",
      "metadata": {
        "id": "I5ePV8pCV2S5",
        "colab_type": "code",
        "outputId": "04be210d-2d8e-41a3-b196-9fc82fac1b77",
        "colab": {
          "base_uri": "https://localhost:8080/",
          "height": 34
        }
      },
      "source": [
        "X_train.shape[0]"
      ],
      "execution_count": 5,
      "outputs": [
        {
          "output_type": "execute_result",
          "data": {
            "text/plain": [
              "60000"
            ]
          },
          "metadata": {
            "tags": []
          },
          "execution_count": 5
        }
      ]
    },
    {
      "cell_type": "code",
      "metadata": {
        "id": "erb11jNwwFwl",
        "colab_type": "code",
        "colab": {}
      },
      "source": [
        "X_train = X_train.reshape(X_train.shape[0], 28, 28,1) # Converting into array of (6000,28,28,1) , here 6000 is number of images in training set, 28 -height , 28 - width, 1 indicates channel depth\n",
        "X_test = X_test.reshape(X_test.shape[0], 28, 28,1) # same for X_test"
      ],
      "execution_count": 0,
      "outputs": []
    },
    {
      "cell_type": "markdown",
      "metadata": {
        "id": "rbTtjit-xKSG",
        "colab_type": "text"
      },
      "source": [
        "Converting pixel values in numbers and normalising them to prevent skewness of data points"
      ]
    },
    {
      "cell_type": "code",
      "metadata": {
        "id": "RLK4YDoRwHet",
        "colab_type": "code",
        "colab": {}
      },
      "source": [
        "X_train = X_train.astype('float32')\n",
        "X_test = X_test.astype('float32')\n",
        "X_train /= 255\n",
        "X_test /= 255"
      ],
      "execution_count": 0,
      "outputs": []
    },
    {
      "cell_type": "code",
      "metadata": {
        "id": "JNKLOmhlwJQl",
        "colab_type": "code",
        "outputId": "0fa5c393-f6d0-4950-ae5c-ce475c3e5ce7",
        "colab": {
          "base_uri": "https://localhost:8080/",
          "height": 34
        }
      },
      "source": [
        "y_train[:10] # It gives the 1st 10 labels of the first 10 images , like 5 indicates it is number 5 in image correspondingly"
      ],
      "execution_count": 8,
      "outputs": [
        {
          "output_type": "execute_result",
          "data": {
            "text/plain": [
              "array([5, 0, 4, 1, 9, 2, 1, 3, 1, 4], dtype=uint8)"
            ]
          },
          "metadata": {
            "tags": []
          },
          "execution_count": 8
        }
      ]
    },
    {
      "cell_type": "markdown",
      "metadata": {
        "id": "pd0yBtq9xTHx",
        "colab_type": "text"
      },
      "source": [
        " Convert 1-dimensional class arrays to 10-dimensional class matrices"
      ]
    },
    {
      "cell_type": "code",
      "metadata": {
        "id": "YusMJguiwKsM",
        "colab_type": "code",
        "colab": {}
      },
      "source": [
        "Y_train = np_utils.to_categorical(y_train, 10) # One-hot-encoding of Y_train\n",
        "Y_test = np_utils.to_categorical(y_test, 10) # same "
      ],
      "execution_count": 0,
      "outputs": []
    },
    {
      "cell_type": "code",
      "metadata": {
        "id": "upxc99AswMW0",
        "colab_type": "code",
        "outputId": "0a64dc64-8251-4975-da04-f146bbbf2713",
        "colab": {
          "base_uri": "https://localhost:8080/",
          "height": 187
        }
      },
      "source": [
        "Y_train[:10] # Displaying one-hot encoding for 1st 10 labels\n"
      ],
      "execution_count": 10,
      "outputs": [
        {
          "output_type": "execute_result",
          "data": {
            "text/plain": [
              "array([[0., 0., 0., 0., 0., 1., 0., 0., 0., 0.],\n",
              "       [1., 0., 0., 0., 0., 0., 0., 0., 0., 0.],\n",
              "       [0., 0., 0., 0., 1., 0., 0., 0., 0., 0.],\n",
              "       [0., 1., 0., 0., 0., 0., 0., 0., 0., 0.],\n",
              "       [0., 0., 0., 0., 0., 0., 0., 0., 0., 1.],\n",
              "       [0., 0., 1., 0., 0., 0., 0., 0., 0., 0.],\n",
              "       [0., 1., 0., 0., 0., 0., 0., 0., 0., 0.],\n",
              "       [0., 0., 0., 1., 0., 0., 0., 0., 0., 0.],\n",
              "       [0., 1., 0., 0., 0., 0., 0., 0., 0., 0.],\n",
              "       [0., 0., 0., 0., 1., 0., 0., 0., 0., 0.]], dtype=float32)"
            ]
          },
          "metadata": {
            "tags": []
          },
          "execution_count": 10
        }
      ]
    },
    {
      "cell_type": "markdown",
      "metadata": {
        "id": "HCIEWAKuPOnX",
        "colab_type": "text"
      },
      "source": [
        "**Defining Model Architecture**\n"
      ]
    },
    {
      "cell_type": "code",
      "metadata": {
        "id": "irTVUE47wNwr",
        "colab_type": "code",
        "outputId": "f410ac2a-d35c-4a1e-92dc-4ea4ffa71344",
        "colab": {
          "base_uri": "https://localhost:8080/",
          "height": 853
        }
      },
      "source": [
        "from keras.layers import Activation, MaxPooling2D\n",
        "\n",
        "model = Sequential() # Means sequential block of following components            Input->Conv->Receptive Field (After Convolution Layer)\n",
        "model.add(Convolution2D(32, 3, 3, activation='relu', input_shape=(28,28,1)))     #28*28*1         3*3\n",
        "model.add(Convolution2D(64, 3, 3, activation='relu'))                            #26*26*32        5*5\n",
        "model.add(Convolution2D(128, 3, 3, activation='relu'))                           #24*24*64        7*7\n",
        "\n",
        "model.add(MaxPooling2D(pool_size=(2, 2)))                                        #22*22*128       14*14\n",
        "\n",
        "model.add(Convolution2D(256, 3, 3, activation='relu'))                           #11*11*128       16*16\n",
        "model.add(Convolution2D(512, 3, 3, activation='relu'))                           #9*9*256         18*18\n",
        "model.add(Convolution2D(1024, 3, 3, activation='relu'))                          #7*7*512         20*20\n",
        "model.add(Convolution2D(2048, 3, 3, activation='relu'))                          #5*5*1024        22*22\n",
        "model.add(Convolution2D(10, 3, 3, activation='relu'))                            #3*3*2048        24*24\n",
        "\n",
        "model.add(Flatten())                                                             #1*1*10\n",
        "model.add(Activation('softmax'))\n",
        "\n",
        "model.summary() # Tells about each layer and the parameters associated"
      ],
      "execution_count": 11,
      "outputs": [
        {
          "output_type": "stream",
          "text": [
            "WARNING:tensorflow:From /usr/local/lib/python3.6/dist-packages/tensorflow/python/framework/op_def_library.py:263: colocate_with (from tensorflow.python.framework.ops) is deprecated and will be removed in a future version.\n",
            "Instructions for updating:\n",
            "Colocations handled automatically by placer.\n"
          ],
          "name": "stdout"
        },
        {
          "output_type": "stream",
          "text": [
            "/usr/local/lib/python3.6/dist-packages/ipykernel_launcher.py:4: UserWarning: Update your `Conv2D` call to the Keras 2 API: `Conv2D(32, (3, 3), activation=\"relu\", input_shape=(28, 28, 1...)`\n",
            "  after removing the cwd from sys.path.\n",
            "/usr/local/lib/python3.6/dist-packages/ipykernel_launcher.py:5: UserWarning: Update your `Conv2D` call to the Keras 2 API: `Conv2D(64, (3, 3), activation=\"relu\")`\n",
            "  \"\"\"\n",
            "/usr/local/lib/python3.6/dist-packages/ipykernel_launcher.py:6: UserWarning: Update your `Conv2D` call to the Keras 2 API: `Conv2D(128, (3, 3), activation=\"relu\")`\n",
            "  \n",
            "/usr/local/lib/python3.6/dist-packages/ipykernel_launcher.py:10: UserWarning: Update your `Conv2D` call to the Keras 2 API: `Conv2D(256, (3, 3), activation=\"relu\")`\n",
            "  # Remove the CWD from sys.path while we load stuff.\n",
            "/usr/local/lib/python3.6/dist-packages/ipykernel_launcher.py:11: UserWarning: Update your `Conv2D` call to the Keras 2 API: `Conv2D(512, (3, 3), activation=\"relu\")`\n",
            "  # This is added back by InteractiveShellApp.init_path()\n",
            "/usr/local/lib/python3.6/dist-packages/ipykernel_launcher.py:12: UserWarning: Update your `Conv2D` call to the Keras 2 API: `Conv2D(1024, (3, 3), activation=\"relu\")`\n",
            "  if sys.path[0] == '':\n",
            "/usr/local/lib/python3.6/dist-packages/ipykernel_launcher.py:13: UserWarning: Update your `Conv2D` call to the Keras 2 API: `Conv2D(2048, (3, 3), activation=\"relu\")`\n",
            "  del sys.path[0]\n",
            "/usr/local/lib/python3.6/dist-packages/ipykernel_launcher.py:14: UserWarning: Update your `Conv2D` call to the Keras 2 API: `Conv2D(10, (3, 3), activation=\"relu\")`\n",
            "  \n"
          ],
          "name": "stderr"
        },
        {
          "output_type": "stream",
          "text": [
            "_________________________________________________________________\n",
            "Layer (type)                 Output Shape              Param #   \n",
            "=================================================================\n",
            "conv2d_1 (Conv2D)            (None, 26, 26, 32)        320       \n",
            "_________________________________________________________________\n",
            "conv2d_2 (Conv2D)            (None, 24, 24, 64)        18496     \n",
            "_________________________________________________________________\n",
            "conv2d_3 (Conv2D)            (None, 22, 22, 128)       73856     \n",
            "_________________________________________________________________\n",
            "max_pooling2d_1 (MaxPooling2 (None, 11, 11, 128)       0         \n",
            "_________________________________________________________________\n",
            "conv2d_4 (Conv2D)            (None, 9, 9, 256)         295168    \n",
            "_________________________________________________________________\n",
            "conv2d_5 (Conv2D)            (None, 7, 7, 512)         1180160   \n",
            "_________________________________________________________________\n",
            "conv2d_6 (Conv2D)            (None, 5, 5, 1024)        4719616   \n",
            "_________________________________________________________________\n",
            "conv2d_7 (Conv2D)            (None, 3, 3, 2048)        18876416  \n",
            "_________________________________________________________________\n",
            "conv2d_8 (Conv2D)            (None, 1, 1, 10)          184330    \n",
            "_________________________________________________________________\n",
            "flatten_1 (Flatten)          (None, 10)                0         \n",
            "_________________________________________________________________\n",
            "activation_1 (Activation)    (None, 10)                0         \n",
            "=================================================================\n",
            "Total params: 25,348,362\n",
            "Trainable params: 25,348,362\n",
            "Non-trainable params: 0\n",
            "_________________________________________________________________\n"
          ],
          "name": "stdout"
        }
      ]
    },
    {
      "cell_type": "markdown",
      "metadata": {
        "id": "nt243ptxxaRr",
        "colab_type": "text"
      },
      "source": [
        " Defining the loss function , optimizer for back-prop and result metrics"
      ]
    },
    {
      "cell_type": "code",
      "metadata": {
        "id": "VYZOpRb6yG7_",
        "colab_type": "code",
        "colab": {}
      },
      "source": [
        "model.compile(loss='categorical_crossentropy',\n",
        "             optimizer='adam',\n",
        "             metrics=['accuracy'])"
      ],
      "execution_count": 0,
      "outputs": []
    },
    {
      "cell_type": "markdown",
      "metadata": {
        "id": "NgnjnfM3Pdyy",
        "colab_type": "text"
      },
      "source": [
        "**Training Model**\n",
        "\n",
        "---\n",
        "\n",
        " Trains the model with Training set and batch size of 32 images at once in 10 epochs (1 epoch = all images seen)"
      ]
    },
    {
      "cell_type": "code",
      "metadata": {
        "id": "5O248wVQyMft",
        "colab_type": "code",
        "outputId": "cfe5654c-392b-4da2-ba6e-5e8f1682b1e9",
        "colab": {
          "base_uri": "https://localhost:8080/",
          "height": 479
        }
      },
      "source": [
        "model.fit(X_train, Y_train, batch_size=32, nb_epoch=10, verbose=1)"
      ],
      "execution_count": 13,
      "outputs": [
        {
          "output_type": "stream",
          "text": [
            "WARNING:tensorflow:From /usr/local/lib/python3.6/dist-packages/tensorflow/python/ops/math_ops.py:3066: to_int32 (from tensorflow.python.ops.math_ops) is deprecated and will be removed in a future version.\n",
            "Instructions for updating:\n",
            "Use tf.cast instead.\n"
          ],
          "name": "stdout"
        },
        {
          "output_type": "stream",
          "text": [
            "/usr/local/lib/python3.6/dist-packages/ipykernel_launcher.py:1: UserWarning: The `nb_epoch` argument in `fit` has been renamed `epochs`.\n",
            "  \"\"\"Entry point for launching an IPython kernel.\n"
          ],
          "name": "stderr"
        },
        {
          "output_type": "stream",
          "text": [
            "Epoch 1/10\n",
            "60000/60000 [==============================] - 118s 2ms/step - loss: 1.6005 - acc: 0.3988\n",
            "Epoch 2/10\n",
            "60000/60000 [==============================] - 114s 2ms/step - loss: 1.3980 - acc: 0.4068\n",
            "Epoch 3/10\n",
            "60000/60000 [==============================] - 114s 2ms/step - loss: 1.3769 - acc: 0.4099\n",
            "Epoch 4/10\n",
            "60000/60000 [==============================] - 114s 2ms/step - loss: 1.3745 - acc: 0.4100\n",
            "Epoch 5/10\n",
            "60000/60000 [==============================] - 114s 2ms/step - loss: 1.3744 - acc: 0.4097\n",
            "Epoch 6/10\n",
            "60000/60000 [==============================] - 114s 2ms/step - loss: 1.3724 - acc: 0.4101\n",
            "Epoch 7/10\n",
            "60000/60000 [==============================] - 114s 2ms/step - loss: 1.3712 - acc: 0.4103\n",
            "Epoch 8/10\n",
            "60000/60000 [==============================] - 114s 2ms/step - loss: 1.3735 - acc: 0.4105\n",
            "Epoch 9/10\n",
            "60000/60000 [==============================] - 114s 2ms/step - loss: 1.3799 - acc: 0.4100\n",
            "Epoch 10/10\n",
            "60000/60000 [==============================] - 115s 2ms/step - loss: 1.3710 - acc: 0.4107\n"
          ],
          "name": "stdout"
        },
        {
          "output_type": "execute_result",
          "data": {
            "text/plain": [
              "<keras.callbacks.History at 0x7f7f5d3f0a20>"
            ]
          },
          "metadata": {
            "tags": []
          },
          "execution_count": 13
        }
      ]
    },
    {
      "cell_type": "code",
      "metadata": {
        "id": "mZsyq-qRiN9G",
        "colab_type": "code",
        "colab": {
          "base_uri": "https://localhost:8080/",
          "height": 34
        },
        "outputId": "06f7b4b7-0822-4765-8e07-2178704d2f01"
      },
      "source": [
        "model.evaluate"
      ],
      "execution_count": 14,
      "outputs": [
        {
          "output_type": "execute_result",
          "data": {
            "text/plain": [
              "<bound method Model.evaluate of <keras.engine.sequential.Sequential object at 0x7f7f605919e8>>"
            ]
          },
          "metadata": {
            "tags": []
          },
          "execution_count": 14
        }
      ]
    },
    {
      "cell_type": "markdown",
      "metadata": {
        "id": "_-dkX0-XPkMO",
        "colab_type": "text"
      },
      "source": [
        "**Evaluate Model Accuracy**\n",
        "\n",
        "---\n",
        "\n",
        "\n",
        " Validates the model on testing set using evaluate function"
      ]
    },
    {
      "cell_type": "code",
      "metadata": {
        "id": "Sst4KneiyOL5",
        "colab_type": "code",
        "colab": {}
      },
      "source": [
        "score = model.evaluate(X_test, Y_test, verbose=0) # Returns the loss value & metrics values for the model in test mode"
      ],
      "execution_count": 0,
      "outputs": []
    },
    {
      "cell_type": "code",
      "metadata": {
        "id": "CfJiXOKsyj4y",
        "colab_type": "code",
        "outputId": "227d05d2-f2cd-43d2-dea8-fb68715d1553",
        "colab": {
          "base_uri": "https://localhost:8080/",
          "height": 34
        }
      },
      "source": [
        "print(score) # prints loss and accuracy"
      ],
      "execution_count": 16,
      "outputs": [
        {
          "output_type": "stream",
          "text": [
            "[1.3794566675186157, 0.4067]\n"
          ],
          "name": "stdout"
        }
      ]
    },
    {
      "cell_type": "code",
      "metadata": {
        "id": "Ggtv77QnjCIV",
        "colab_type": "code",
        "colab": {
          "base_uri": "https://localhost:8080/",
          "height": 34
        },
        "outputId": "779490ea-c908-4e6c-b3bc-dd829660fdd2"
      },
      "source": [
        "model.predict"
      ],
      "execution_count": 17,
      "outputs": [
        {
          "output_type": "execute_result",
          "data": {
            "text/plain": [
              "<bound method Model.predict of <keras.engine.sequential.Sequential object at 0x7f7f605919e8>>"
            ]
          },
          "metadata": {
            "tags": []
          },
          "execution_count": 17
        }
      ]
    },
    {
      "cell_type": "code",
      "metadata": {
        "id": "hwLSXt7nyn_0",
        "colab_type": "code",
        "colab": {}
      },
      "source": [
        "y_pred = model.predict(X_test) # Generates output predictions for the input samples"
      ],
      "execution_count": 0,
      "outputs": []
    },
    {
      "cell_type": "code",
      "metadata": {
        "id": "WWKKoOKwyppN",
        "colab_type": "code",
        "outputId": "a6a0e3ed-acb2-47a1-9ab9-da53e0392774",
        "colab": {
          "base_uri": "https://localhost:8080/",
          "height": 340
        }
      },
      "source": [
        "print(y_pred[:9]) # 1st 10 Predictions (One-hot form)\n",
        "print(y_test[:9]) # 1st 10 Predicted Labels"
      ],
      "execution_count": 19,
      "outputs": [
        {
          "output_type": "stream",
          "text": [
            "[[2.9144853e-10 2.9144853e-10 2.9144853e-10 2.9144853e-10 2.9144853e-10\n",
            "  2.9144853e-10 2.9144853e-10 1.0000000e+00 2.9144853e-10 2.9144853e-10]\n",
            " [1.0000000e-01 1.0000000e-01 1.0000000e-01 1.0000000e-01 1.0000000e-01\n",
            "  1.0000000e-01 1.0000000e-01 1.0000000e-01 1.0000000e-01 1.0000000e-01]\n",
            " [1.9217570e-08 9.9999988e-01 1.9217570e-08 1.9217570e-08 1.9217570e-08\n",
            "  1.9217570e-08 1.9217570e-08 1.9217570e-08 1.9217570e-08 1.9217570e-08]\n",
            " [1.0000000e+00 8.4163449e-13 8.4163449e-13 8.4163449e-13 8.4163449e-13\n",
            "  8.4163449e-13 8.4163449e-13 8.4163449e-13 8.4163449e-13 8.4163449e-13]\n",
            " [1.0000000e-01 1.0000000e-01 1.0000000e-01 1.0000000e-01 1.0000000e-01\n",
            "  1.0000000e-01 1.0000000e-01 1.0000000e-01 1.0000000e-01 1.0000000e-01]\n",
            " [6.8965472e-11 1.0000000e+00 6.8965472e-11 6.8965472e-11 6.8965472e-11\n",
            "  6.8965472e-11 6.8965472e-11 6.8965472e-11 6.8965472e-11 6.8965472e-11]\n",
            " [1.0000000e-01 1.0000000e-01 1.0000000e-01 1.0000000e-01 1.0000000e-01\n",
            "  1.0000000e-01 1.0000000e-01 1.0000000e-01 1.0000000e-01 1.0000000e-01]\n",
            " [1.0000000e-01 1.0000000e-01 1.0000000e-01 1.0000000e-01 1.0000000e-01\n",
            "  1.0000000e-01 1.0000000e-01 1.0000000e-01 1.0000000e-01 1.0000000e-01]\n",
            " [1.0000000e-01 1.0000000e-01 1.0000000e-01 1.0000000e-01 1.0000000e-01\n",
            "  1.0000000e-01 1.0000000e-01 1.0000000e-01 1.0000000e-01 1.0000000e-01]]\n",
            "[7 2 1 0 4 1 4 9 5]\n"
          ],
          "name": "stdout"
        }
      ]
    },
    {
      "cell_type": "markdown",
      "metadata": {
        "id": "QvD78OI_jhKF",
        "colab_type": "text"
      },
      "source": [
        "# Ideal Network\n",
        "\n",
        "\n",
        "---\n",
        "\n",
        "1) The Last Convolution layer has *Relu* activation layer specified which should not be there because Relu will simply throw away information without adding any    additional benefits \n",
        "\n",
        "2) The number of layers in the network to predict the images of size 28*28 is much more than needed. Due to this every layer is almost learning the same things. Number of layers = 8\n",
        "   \n",
        "3) Most importantly these many number of channels which are not required. As the images have not much complexity\n",
        "\n",
        "4) Also sudden decrease in channel number from 2048 to 10 makes vital information to lose. Instead could have used 1*1 conv to mix the channels\n",
        "\n",
        "5) We could also use batch norm to prevent network from overfitting\n",
        "\n",
        "6) Batch Size could be made more so as to pass all varieties of images from a class"
      ]
    },
    {
      "cell_type": "code",
      "metadata": {
        "id": "mKdFnRpRSrJ6",
        "colab_type": "code",
        "outputId": "6243e466-1eb8-4417-b825-f54e8a265e4f",
        "colab": {
          "base_uri": "https://localhost:8080/",
          "height": 853
        }
      },
      "source": [
        "from keras.layers import Activation, MaxPooling2D\n",
        "\n",
        "model2 = Sequential() # Means sequential block of following components            Input->Conv->Receptive Field (After Convolution Layer)\n",
        "model2.add(Convolution2D(32, 3, 3, activation='relu', input_shape=(28,28,1)))   # 28*28*1         3*3\n",
        "model2.add(Convolution2D(64, 3, 3, activation='relu'))                          # 26*26*32        5*5\n",
        "model2.add(Convolution2D(128, 3, 3, activation='relu'))                         # 24*24*64        7*7\n",
        "\n",
        "model2.add(MaxPooling2D(pool_size=(2, 2)))                                      # 22*22*128       14*14\n",
        "\n",
        "model2.add(Convolution2D(256, 3, 3, activation='relu'))                         # 11*11*128       16*16\n",
        "model2.add(Convolution2D(512, 3, 3, activation='relu'))                         # 9*9*256         18*18\n",
        "\n",
        "model2.add(Convolution2D(1024, 3, 3, activation='relu'))                        # 7*7*512         20*20\n",
        "\n",
        "model2.add(Convolution2D(10, 1, 1, activation='relu'))                          # 5*5*1024        22*22\n",
        "model2.add(Convolution2D(10, 3, 3, activation='relu'))                          # 5*5*10        22*22\n",
        "model2.add(Convolution2D(10, 3, 3))                                             # 3*3*10        24*24\n",
        "model2.add(Flatten())                                                           # 1*1*10\n",
        "model2.add(Activation('softmax'))\n",
        "\n",
        "model2.summary() # Tells about each layer and the parameters associated"
      ],
      "execution_count": 20,
      "outputs": [
        {
          "output_type": "stream",
          "text": [
            "_________________________________________________________________\n",
            "Layer (type)                 Output Shape              Param #   \n",
            "=================================================================\n",
            "conv2d_9 (Conv2D)            (None, 26, 26, 32)        320       \n",
            "_________________________________________________________________\n",
            "conv2d_10 (Conv2D)           (None, 24, 24, 64)        18496     \n",
            "_________________________________________________________________\n",
            "conv2d_11 (Conv2D)           (None, 22, 22, 128)       73856     \n",
            "_________________________________________________________________\n",
            "max_pooling2d_2 (MaxPooling2 (None, 11, 11, 128)       0         \n",
            "_________________________________________________________________\n",
            "conv2d_12 (Conv2D)           (None, 9, 9, 256)         295168    \n",
            "_________________________________________________________________\n",
            "conv2d_13 (Conv2D)           (None, 7, 7, 512)         1180160   \n",
            "_________________________________________________________________\n",
            "conv2d_14 (Conv2D)           (None, 5, 5, 1024)        4719616   \n",
            "_________________________________________________________________\n",
            "conv2d_15 (Conv2D)           (None, 5, 5, 10)          10250     \n",
            "_________________________________________________________________\n",
            "conv2d_16 (Conv2D)           (None, 3, 3, 10)          910       \n",
            "_________________________________________________________________\n",
            "conv2d_17 (Conv2D)           (None, 1, 1, 10)          910       \n",
            "_________________________________________________________________\n",
            "flatten_2 (Flatten)          (None, 10)                0         \n",
            "_________________________________________________________________\n",
            "activation_2 (Activation)    (None, 10)                0         \n",
            "=================================================================\n",
            "Total params: 6,299,686\n",
            "Trainable params: 6,299,686\n",
            "Non-trainable params: 0\n",
            "_________________________________________________________________\n"
          ],
          "name": "stdout"
        },
        {
          "output_type": "stream",
          "text": [
            "/usr/local/lib/python3.6/dist-packages/ipykernel_launcher.py:4: UserWarning: Update your `Conv2D` call to the Keras 2 API: `Conv2D(32, (3, 3), activation=\"relu\", input_shape=(28, 28, 1...)`\n",
            "  after removing the cwd from sys.path.\n",
            "/usr/local/lib/python3.6/dist-packages/ipykernel_launcher.py:5: UserWarning: Update your `Conv2D` call to the Keras 2 API: `Conv2D(64, (3, 3), activation=\"relu\")`\n",
            "  \"\"\"\n",
            "/usr/local/lib/python3.6/dist-packages/ipykernel_launcher.py:6: UserWarning: Update your `Conv2D` call to the Keras 2 API: `Conv2D(128, (3, 3), activation=\"relu\")`\n",
            "  \n",
            "/usr/local/lib/python3.6/dist-packages/ipykernel_launcher.py:10: UserWarning: Update your `Conv2D` call to the Keras 2 API: `Conv2D(256, (3, 3), activation=\"relu\")`\n",
            "  # Remove the CWD from sys.path while we load stuff.\n",
            "/usr/local/lib/python3.6/dist-packages/ipykernel_launcher.py:11: UserWarning: Update your `Conv2D` call to the Keras 2 API: `Conv2D(512, (3, 3), activation=\"relu\")`\n",
            "  # This is added back by InteractiveShellApp.init_path()\n",
            "/usr/local/lib/python3.6/dist-packages/ipykernel_launcher.py:13: UserWarning: Update your `Conv2D` call to the Keras 2 API: `Conv2D(1024, (3, 3), activation=\"relu\")`\n",
            "  del sys.path[0]\n",
            "/usr/local/lib/python3.6/dist-packages/ipykernel_launcher.py:15: UserWarning: Update your `Conv2D` call to the Keras 2 API: `Conv2D(10, (1, 1), activation=\"relu\")`\n",
            "  from ipykernel import kernelapp as app\n",
            "/usr/local/lib/python3.6/dist-packages/ipykernel_launcher.py:16: UserWarning: Update your `Conv2D` call to the Keras 2 API: `Conv2D(10, (3, 3), activation=\"relu\")`\n",
            "  app.launch_new_instance()\n",
            "/usr/local/lib/python3.6/dist-packages/ipykernel_launcher.py:17: UserWarning: Update your `Conv2D` call to the Keras 2 API: `Conv2D(10, (3, 3))`\n"
          ],
          "name": "stderr"
        }
      ]
    },
    {
      "cell_type": "markdown",
      "metadata": {
        "id": "oyavEqj-wG-U",
        "colab_type": "text"
      },
      "source": [
        "Defining the loss function , optimizer for back-prop and result metrics"
      ]
    },
    {
      "cell_type": "code",
      "metadata": {
        "id": "pIXmA3CcSxuj",
        "colab_type": "code",
        "colab": {}
      },
      "source": [
        "model2.compile(loss='categorical_crossentropy',\n",
        "             optimizer='adam',\n",
        "             metrics=['accuracy'])"
      ],
      "execution_count": 0,
      "outputs": []
    },
    {
      "cell_type": "markdown",
      "metadata": {
        "id": "xperA4maweSf",
        "colab_type": "text"
      },
      "source": [
        "Trains the model with Training set and batch size of 32 images at once in 10 epochs (1 epoch = all images seen)"
      ]
    },
    {
      "cell_type": "code",
      "metadata": {
        "id": "rm7EtiK5S3Ex",
        "colab_type": "code",
        "outputId": "9e131f9e-a1c1-4258-adc1-d2933cd41f0a",
        "colab": {
          "base_uri": "https://localhost:8080/",
          "height": 408
        }
      },
      "source": [
        "model2.fit(X_train, Y_train, batch_size=32, nb_epoch=10, verbose=1)"
      ],
      "execution_count": 22,
      "outputs": [
        {
          "output_type": "stream",
          "text": [
            "/usr/local/lib/python3.6/dist-packages/ipykernel_launcher.py:1: UserWarning: The `nb_epoch` argument in `fit` has been renamed `epochs`.\n",
            "  \"\"\"Entry point for launching an IPython kernel.\n"
          ],
          "name": "stderr"
        },
        {
          "output_type": "stream",
          "text": [
            "Epoch 1/10\n",
            "60000/60000 [==============================] - 43s 712us/step - loss: 0.1904 - acc: 0.9425\n",
            "Epoch 2/10\n",
            "60000/60000 [==============================] - 42s 705us/step - loss: 0.0643 - acc: 0.9819\n",
            "Epoch 3/10\n",
            "60000/60000 [==============================] - 42s 694us/step - loss: 0.0452 - acc: 0.9868\n",
            "Epoch 4/10\n",
            "60000/60000 [==============================] - 42s 697us/step - loss: 0.0360 - acc: 0.9895\n",
            "Epoch 5/10\n",
            "60000/60000 [==============================] - 42s 693us/step - loss: 0.0292 - acc: 0.9911\n",
            "Epoch 6/10\n",
            "60000/60000 [==============================] - 42s 694us/step - loss: 0.0251 - acc: 0.9922\n",
            "Epoch 7/10\n",
            "60000/60000 [==============================] - 41s 691us/step - loss: 0.0235 - acc: 0.9932\n",
            "Epoch 8/10\n",
            "60000/60000 [==============================] - 42s 693us/step - loss: 0.0222 - acc: 0.9935\n",
            "Epoch 9/10\n",
            "60000/60000 [==============================] - 41s 688us/step - loss: 0.0199 - acc: 0.9943\n",
            "Epoch 10/10\n",
            "60000/60000 [==============================] - 42s 693us/step - loss: 0.0182 - acc: 0.9952\n"
          ],
          "name": "stdout"
        },
        {
          "output_type": "execute_result",
          "data": {
            "text/plain": [
              "<keras.callbacks.History at 0x7f7f5d405c50>"
            ]
          },
          "metadata": {
            "tags": []
          },
          "execution_count": 22
        }
      ]
    },
    {
      "cell_type": "markdown",
      "metadata": {
        "id": "hmwYg8NfyMug",
        "colab_type": "text"
      },
      "source": [
        " Validates the model on testing set using evaluate function"
      ]
    },
    {
      "cell_type": "code",
      "metadata": {
        "id": "PNDE1MSlS_i1",
        "colab_type": "code",
        "colab": {}
      },
      "source": [
        "score = model2.evaluate(X_test, Y_test, verbose=0) # Returns the loss value & metrics values for the model in test mode"
      ],
      "execution_count": 0,
      "outputs": []
    },
    {
      "cell_type": "code",
      "metadata": {
        "id": "BuWfGS63TFEk",
        "colab_type": "code",
        "outputId": "afa3ef7e-82b4-4572-fff4-81ebec2605bf",
        "colab": {
          "base_uri": "https://localhost:8080/",
          "height": 34
        }
      },
      "source": [
        "print(score) # prints loss and accuracy"
      ],
      "execution_count": 24,
      "outputs": [
        {
          "output_type": "stream",
          "text": [
            "[0.037016594927517875, 0.9903]\n"
          ],
          "name": "stdout"
        }
      ]
    },
    {
      "cell_type": "markdown",
      "metadata": {
        "id": "hp1C6e07TGUu",
        "colab_type": "text"
      },
      "source": [
        "**Some More Changes**"
      ]
    },
    {
      "cell_type": "code",
      "metadata": {
        "id": "UEL7CsWtJz0J",
        "colab_type": "code",
        "outputId": "63759100-6557-4a46-a924-32d12030002a",
        "colab": {
          "base_uri": "https://localhost:8080/",
          "height": 734
        }
      },
      "source": [
        "from keras.layers import Activation, MaxPooling2D\n",
        "\n",
        "model3 = Sequential()\n",
        "\n",
        "model3.add(Convolution2D(32,3,3,activation='relu', input_shape=(28,28,1)))\n",
        "\n",
        "model3.add(Convolution2D(64,3,3,activation='relu'))\n",
        "\n",
        "model3.add(MaxPooling2D(pool_size=(2,2)))\n",
        "\n",
        "model3.add(Convolution2D(128,3,3,activation='relu'))\n",
        "\n",
        "model3.add(Convolution2D(256,3,3,activation='relu'))\n",
        "\n",
        "model3.add(Convolution2D(512,3,3,activation='relu'))\n",
        "\n",
        "model3.add(MaxPooling2D(pool_size=(2,2)))\n",
        "\n",
        "model3.add(Convolution2D(10,1,1,activation='relu'))\n",
        "\n",
        "model3.add(Convolution2D(10,3,3))\n",
        "\n",
        "model3.add(Flatten())                                                           # 1*1*10\n",
        "model3.add(Activation('softmax'))\n",
        "\n",
        "model3.summary() # Tells about each layer and the parameters associated\n"
      ],
      "execution_count": 25,
      "outputs": [
        {
          "output_type": "stream",
          "text": [
            "_________________________________________________________________\n",
            "Layer (type)                 Output Shape              Param #   \n",
            "=================================================================\n",
            "conv2d_18 (Conv2D)           (None, 26, 26, 32)        320       \n",
            "_________________________________________________________________\n",
            "conv2d_19 (Conv2D)           (None, 24, 24, 64)        18496     \n",
            "_________________________________________________________________\n",
            "max_pooling2d_3 (MaxPooling2 (None, 12, 12, 64)        0         \n",
            "_________________________________________________________________\n",
            "conv2d_20 (Conv2D)           (None, 10, 10, 128)       73856     \n",
            "_________________________________________________________________\n",
            "conv2d_21 (Conv2D)           (None, 8, 8, 256)         295168    \n",
            "_________________________________________________________________\n",
            "conv2d_22 (Conv2D)           (None, 6, 6, 512)         1180160   \n",
            "_________________________________________________________________\n",
            "max_pooling2d_4 (MaxPooling2 (None, 3, 3, 512)         0         \n",
            "_________________________________________________________________\n",
            "conv2d_23 (Conv2D)           (None, 3, 3, 10)          5130      \n",
            "_________________________________________________________________\n",
            "conv2d_24 (Conv2D)           (None, 1, 1, 10)          910       \n",
            "_________________________________________________________________\n",
            "flatten_3 (Flatten)          (None, 10)                0         \n",
            "_________________________________________________________________\n",
            "activation_3 (Activation)    (None, 10)                0         \n",
            "=================================================================\n",
            "Total params: 1,574,040\n",
            "Trainable params: 1,574,040\n",
            "Non-trainable params: 0\n",
            "_________________________________________________________________\n"
          ],
          "name": "stdout"
        },
        {
          "output_type": "stream",
          "text": [
            "/usr/local/lib/python3.6/dist-packages/ipykernel_launcher.py:5: UserWarning: Update your `Conv2D` call to the Keras 2 API: `Conv2D(32, (3, 3), activation=\"relu\", input_shape=(28, 28, 1...)`\n",
            "  \"\"\"\n",
            "/usr/local/lib/python3.6/dist-packages/ipykernel_launcher.py:7: UserWarning: Update your `Conv2D` call to the Keras 2 API: `Conv2D(64, (3, 3), activation=\"relu\")`\n",
            "  import sys\n",
            "/usr/local/lib/python3.6/dist-packages/ipykernel_launcher.py:11: UserWarning: Update your `Conv2D` call to the Keras 2 API: `Conv2D(128, (3, 3), activation=\"relu\")`\n",
            "  # This is added back by InteractiveShellApp.init_path()\n",
            "/usr/local/lib/python3.6/dist-packages/ipykernel_launcher.py:13: UserWarning: Update your `Conv2D` call to the Keras 2 API: `Conv2D(256, (3, 3), activation=\"relu\")`\n",
            "  del sys.path[0]\n",
            "/usr/local/lib/python3.6/dist-packages/ipykernel_launcher.py:15: UserWarning: Update your `Conv2D` call to the Keras 2 API: `Conv2D(512, (3, 3), activation=\"relu\")`\n",
            "  from ipykernel import kernelapp as app\n",
            "/usr/local/lib/python3.6/dist-packages/ipykernel_launcher.py:19: UserWarning: Update your `Conv2D` call to the Keras 2 API: `Conv2D(10, (1, 1), activation=\"relu\")`\n",
            "/usr/local/lib/python3.6/dist-packages/ipykernel_launcher.py:21: UserWarning: Update your `Conv2D` call to the Keras 2 API: `Conv2D(10, (3, 3))`\n"
          ],
          "name": "stderr"
        }
      ]
    },
    {
      "cell_type": "markdown",
      "metadata": {
        "id": "r7rji69hy3pu",
        "colab_type": "text"
      },
      "source": [
        " Defining the loss function , optimizer for back-prop and result metrics"
      ]
    },
    {
      "cell_type": "code",
      "metadata": {
        "id": "ubv2jfZV-urb",
        "colab_type": "code",
        "colab": {}
      },
      "source": [
        "model3.compile(loss='categorical_crossentropy',\n",
        "             optimizer='adam',\n",
        "             metrics=['accuracy'])"
      ],
      "execution_count": 0,
      "outputs": []
    },
    {
      "cell_type": "markdown",
      "metadata": {
        "id": "DFEM-HYry9qK",
        "colab_type": "text"
      },
      "source": [
        " Trains the model with Training set and batch size of 32 images at once in 10 epochs (1 epoch = all images seen)"
      ]
    },
    {
      "cell_type": "code",
      "metadata": {
        "id": "8HNctuY6_FL1",
        "colab_type": "code",
        "outputId": "0f62965e-c2e3-4edc-ea98-31624b357b7f",
        "colab": {
          "base_uri": "https://localhost:8080/",
          "height": 408
        }
      },
      "source": [
        "model3.fit(X_train, Y_train, batch_size=128, nb_epoch=10, verbose=1)"
      ],
      "execution_count": 27,
      "outputs": [
        {
          "output_type": "stream",
          "text": [
            "/usr/local/lib/python3.6/dist-packages/ipykernel_launcher.py:1: UserWarning: The `nb_epoch` argument in `fit` has been renamed `epochs`.\n",
            "  \"\"\"Entry point for launching an IPython kernel.\n"
          ],
          "name": "stderr"
        },
        {
          "output_type": "stream",
          "text": [
            "Epoch 1/10\n",
            "60000/60000 [==============================] - 10s 171us/step - loss: 0.2019 - acc: 0.9351\n",
            "Epoch 2/10\n",
            "60000/60000 [==============================] - 9s 147us/step - loss: 0.0499 - acc: 0.9848\n",
            "Epoch 3/10\n",
            "60000/60000 [==============================] - 9s 149us/step - loss: 0.0352 - acc: 0.9893\n",
            "Epoch 4/10\n",
            "60000/60000 [==============================] - 9s 150us/step - loss: 0.0263 - acc: 0.9918\n",
            "Epoch 5/10\n",
            "60000/60000 [==============================] - 9s 152us/step - loss: 0.0196 - acc: 0.9936\n",
            "Epoch 6/10\n",
            "60000/60000 [==============================] - 9s 152us/step - loss: 0.0184 - acc: 0.9942\n",
            "Epoch 7/10\n",
            "60000/60000 [==============================] - 9s 149us/step - loss: 0.0154 - acc: 0.9947\n",
            "Epoch 8/10\n",
            "60000/60000 [==============================] - 9s 152us/step - loss: 0.0108 - acc: 0.9965\n",
            "Epoch 9/10\n",
            "60000/60000 [==============================] - 9s 147us/step - loss: 0.0115 - acc: 0.9961\n",
            "Epoch 10/10\n",
            "60000/60000 [==============================] - 9s 147us/step - loss: 0.0094 - acc: 0.9968\n"
          ],
          "name": "stdout"
        },
        {
          "output_type": "execute_result",
          "data": {
            "text/plain": [
              "<keras.callbacks.History at 0x7f7f30392e10>"
            ]
          },
          "metadata": {
            "tags": []
          },
          "execution_count": 27
        }
      ]
    },
    {
      "cell_type": "markdown",
      "metadata": {
        "id": "dLJMTPPwzCFz",
        "colab_type": "text"
      },
      "source": [
        " Validates the model on testing set using evaluate function"
      ]
    },
    {
      "cell_type": "code",
      "metadata": {
        "id": "iF2aoQOY_WMZ",
        "colab_type": "code",
        "colab": {}
      },
      "source": [
        "score = model3.evaluate(X_test, Y_test, verbose=0) # Returns the loss value & metrics values for the model in test mode"
      ],
      "execution_count": 0,
      "outputs": []
    },
    {
      "cell_type": "code",
      "metadata": {
        "id": "zhjIDQoL_Zhw",
        "colab_type": "code",
        "outputId": "9015595d-2416-471d-97e9-3c370c88c921",
        "colab": {
          "base_uri": "https://localhost:8080/",
          "height": 34
        }
      },
      "source": [
        "print(score) # prints loss and accuracy"
      ],
      "execution_count": 29,
      "outputs": [
        {
          "output_type": "stream",
          "text": [
            "[0.031128605020121724, 0.993]\n"
          ],
          "name": "stdout"
        }
      ]
    },
    {
      "cell_type": "code",
      "metadata": {
        "id": "wnKp3cReNvn0",
        "colab_type": "code",
        "colab": {}
      },
      "source": [
        ""
      ],
      "execution_count": 0,
      "outputs": []
    }
  ]
}